{
 "cells": [
  {
   "attachments": {},
   "cell_type": "markdown",
   "metadata": {},
   "source": [
    "###### https://github.com/mistralai/cookbook/blob/main/third_party/MongoDB/mongodb_mistral.ipynb\n",
    "\n",
    "###### https://github.com/pgvector/pgvector\n",
    "\n",
    "###### https://github.com/mistralai/cookbook/blob/main/third_party/gradio/README.md\n",
    "\n",
    "https://github.com/alexFocus92/youtube_projects/blob/main/Llama_2_RAG.ipynb"
   ]
  },
  {
   "cell_type": "code",
   "execution_count": 3,
   "metadata": {},
   "outputs": [
    {
     "name": "stdout",
     "output_type": "stream",
     "text": [
      "Running on local URL:  http://127.0.0.1:7862\n",
      "\n",
      "To create a public link, set `share=True` in `launch()`.\n"
     ]
    },
    {
     "data": {
      "text/html": [
       "<div><iframe src=\"http://127.0.0.1:7862/\" width=\"100%\" height=\"500\" allow=\"autoplay; camera; microphone; clipboard-read; clipboard-write;\" frameborder=\"0\" allowfullscreen></iframe></div>"
      ],
      "text/plain": [
       "<IPython.core.display.HTML object>"
      ]
     },
     "metadata": {},
     "output_type": "display_data"
    },
    {
     "data": {
      "text/plain": []
     },
     "execution_count": 3,
     "metadata": {},
     "output_type": "execute_result"
    },
    {
     "name": "stdout",
     "output_type": "stream",
     "text": [
      "IMPORTANT: You are using gradio version 4.10.0, however version 4.29.0 is available, please upgrade.\n",
      "--------\n"
     ]
    }
   ],
   "source": [
    "import gradio as gr\n",
    "from mistralai.client import MistralClient\n",
    "from mistralai.models.chat_completion import ChatMessage\n",
    "import os\n",
    "from dotenv import load_dotenv\n",
    "\n",
    "load_dotenv()\n",
    "\n",
    "api_key = os.getenv(\"MISTRAL_API_KEY\")\n",
    "\n",
    "cli = MistralClient(api_key = api_key)\n",
    "\n",
    "def ask_mistral(message: str, history: list):\n",
    "    messages = []\n",
    "    for couple in history:\n",
    "        messages.append(ChatMessage(role = \"user\", content = couple[0]))\n",
    "        messages.append(ChatMessage(role = \"assistant\", content = couple[1]))\n",
    "    messages.append(ChatMessage(role = \"user\", content = message))\n",
    "\n",
    "    full_response = \"\"\n",
    "    for chunk in cli.chat_stream(model = \"open-mistral-7b\", messages = messages, max_tokens = 1024):\n",
    "        full_response += chunk.choices[0].delta.content\n",
    "        yield full_response\n",
    "\n",
    "app = gr.ChatInterface(fn = ask_mistral, title = \"Preguntale a Mistral\")\n",
    "app.launch()"
   ]
  }
 ],
 "metadata": {
  "kernelspec": {
   "display_name": "Python 3",
   "language": "python",
   "name": "python3"
  },
  "language_info": {
   "codemirror_mode": {
    "name": "ipython",
    "version": 3
   },
   "file_extension": ".py",
   "mimetype": "text/x-python",
   "name": "python",
   "nbconvert_exporter": "python",
   "pygments_lexer": "ipython3",
   "version": "3.11.4"
  },
  "orig_nbformat": 4
 },
 "nbformat": 4,
 "nbformat_minor": 2
}
