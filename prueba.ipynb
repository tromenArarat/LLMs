{
 "cells": [
  {
   "attachments": {},
   "cell_type": "markdown",
   "metadata": {},
   "source": [
    "## PREDICCIÓN DE TEXTO"
   ]
  },
  {
   "cell_type": "code",
   "execution_count": 26,
   "metadata": {},
   "outputs": [
    {
     "name": "stdout",
     "output_type": "stream",
     "text": [
      "... la libertad y la aventura. En esos momentos, me convierto en un espíritu libre, dispuesto a explorar nuevos horizontes y a experimentar la vida sin límites. Soy como el viento, que sopla donde quiere y se libera de las ataduras de la tierra.\n",
      "\n",
      "En mis días de aire, me dejo llevar por la curiosidad y la imaginación. Viajo a lugares desconoc\n"
     ]
    }
   ],
   "source": [
    "import cohere\n",
    "import os\n",
    "from dotenv import load_dotenv\n",
    "\n",
    "load_dotenv()\n",
    "\n",
    "api_key = os.getenv(\"COHERE_API_KEY\")\n",
    "if not api_key:\n",
    "    raise ValueError(\"No API key found. Please set the COHERE_API_KEY environment variable.\")\n",
    "\n",
    "co = cohere.Client(api_key)\n",
    "\n",
    "try:\n",
    "    response = co.generate(\n",
    "        model='command-xlarge-nightly',  \n",
    "        prompt=\"Continúa la siguiente frase de manera creativa y fluida: \"+\n",
    "            \"Un día, soy de tierra, me conecto con la realidad desde el \"+\n",
    "            \"mantenimiento del orden y la rutina. En otro tiempo, muy ocasional, \"+\n",
    "            \"soy aire, me vuelvo a encontrar con...\",\n",
    "        max_tokens=80,\n",
    "        temperature=0.9\n",
    "    )\n",
    "\n",
    "    print(response.generations[0].text)\n",
    "\n",
    "except cohere.CohereAPIError as e:\n",
    "    print(f\"An error occurred: {e}\")"
   ]
  },
  {
   "attachments": {},
   "cell_type": "markdown",
   "metadata": {},
   "source": [
    "## Plantillas de prompt"
   ]
  },
  {
   "cell_type": "code",
   "execution_count": 27,
   "metadata": {},
   "outputs": [
    {
     "name": "stdout",
     "output_type": "stream",
     "text": [
      "Había una vez, en una tierra muy, muy lejana, un valiente trabajador que vivía en un país distópico. Cada día, este trabajador se esforzaba incansablemente, dedicando su vida a su trabajo. Pero un día, algo extraordinario sucedió: descubrió que había sido engañado y estafado.\n",
      "\n",
      "El trabajador, lleno de indignación y determinación, decidió enfrentar la situación. Comenzó a investigar y pronto se dio cuenta de que no era el único que había sido víctima de esta estafa. Otros trabajadores también habían sido explotados y engañados.\n",
      "\n",
      "Uniendo fuerzas con sus compañeros, el valiente trabajador lideró una revolución contra la corrupción y la injusticia. Se organizaron protestas, huelgas y boicots, exigiendo cambios y justicia. La voz de los trabajadores resonó en todo el país, atrayendo la atención de los medios y del gobierno.\n",
      "\n",
      "A pesar de la resistencia y los obstáculos, su determinación\n"
     ]
    }
   ],
   "source": [
    "templates = {\n",
    "    \"historia\": \"\"\"\n",
    "    Hubo una vez en una tierra muy, muy lejana, un {character} que vivía en la {place}. Cada día, {character} se la pasaba {activity}. Pero un día algo extraordinario pasó: {event}.\n",
    "    \"\"\",\n",
    "    \"question_answer\": \"\"\"\n",
    "    Question: {question}\n",
    "    Answer:\n",
    "    \"\"\"\n",
    "}\n",
    "\n",
    "selected_template = templates[\"historia\"]\n",
    "prompt = selected_template.format(character=\"bravo trabajador\", \n",
    "                                  place=\"país distópico\", \n",
    "                                  activity=\"rompiéndose el lomo\", \n",
    "                                  event=\"descubrió que estaba siendo estafado\")\n",
    "\n",
    "response = co.generate(\n",
    "        model='command-xlarge-nightly',  \n",
    "        prompt=prompt,\n",
    "        max_tokens=200,\n",
    "        temperature=0.7\n",
    "    )\n",
    "print(response.generations[0].text)"
   ]
  }
 ],
 "metadata": {
  "kernelspec": {
   "display_name": "Python 3",
   "language": "python",
   "name": "python3"
  },
  "language_info": {
   "codemirror_mode": {
    "name": "ipython",
    "version": 3
   },
   "file_extension": ".py",
   "mimetype": "text/x-python",
   "name": "python",
   "nbconvert_exporter": "python",
   "pygments_lexer": "ipython3",
   "version": "3.11.4"
  },
  "orig_nbformat": 4
 },
 "nbformat": 4,
 "nbformat_minor": 2
}
