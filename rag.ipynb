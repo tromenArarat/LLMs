{
 "cells": [
  {
   "cell_type": "code",
   "execution_count": 1,
   "metadata": {},
   "outputs": [],
   "source": [
    "import os\n",
    "from dotenv import load_dotenv\n",
    "import cohere\n",
    "\n",
    "load_dotenv()\n",
    "\n",
    "api_key = os.getenv(\"COHERE_API_KEY\")\n",
    "if not api_key:\n",
    "    raise ValueError(\"No API key found. Please set the API_KEY environment variable.\")\n",
    "\n",
    "cohere.api_key = api_key\n",
    "\n",
    "from langchain_cohere import ChatCohere\n",
    "\n",
    "llm = ChatCohere(model=\"command-r-plus\")"
   ]
  },
  {
   "attachments": {},
   "cell_type": "markdown",
   "metadata": {},
   "source": [
    "A Document is an object with some page_content (str) and metadata (dict).\n",
    "\n",
    "WebBaseLoader: uses urllib to load HTML from web URLs.\n",
    "\n",
    "BeatifulSoap: to parse html to text."
   ]
  },
  {
   "cell_type": "code",
   "execution_count": 10,
   "metadata": {},
   "outputs": [
    {
     "data": {
      "text/plain": [
       "43131"
      ]
     },
     "execution_count": 10,
     "metadata": {},
     "output_type": "execute_result"
    }
   ],
   "source": [
    "import bs4\n",
    "from langchain_community.document_loaders import WebBaseLoader\n",
    "\n",
    "# Only keep post title, headers, and content from the full HTML.\n",
    "bs4_strainer = bs4.SoupStrainer(class_=(\"post-title\", \"post-header\", \"post-content\"))\n",
    "loader = WebBaseLoader(\n",
    "    web_paths=(\"https://lilianweng.github.io/posts/2023-06-23-agent/\",),\n",
    "    bs_kwargs={\"parse_only\": bs4_strainer},\n",
    ")\n",
    "docs = loader.load()\n",
    "\n",
    "len(docs[0].page_content)"
   ]
  },
  {
   "attachments": {},
   "cell_type": "markdown",
   "metadata": {},
   "source": [
    "DocumentLoader: Object that loads data from a source as list of Documents."
   ]
  },
  {
   "attachments": {},
   "cell_type": "markdown",
   "metadata": {},
   "source": [
    "#### siguiente paso: chunkear"
   ]
  },
  {
   "attachments": {},
   "cell_type": "markdown",
   "metadata": {},
   "source": [
    "We set add_start_index=True so that the character index at which each split Document starts within the initial Document is preserved as metadata attribute “start_index”."
   ]
  },
  {
   "cell_type": "code",
   "execution_count": 12,
   "metadata": {},
   "outputs": [
    {
     "data": {
      "text/plain": [
       "66"
      ]
     },
     "execution_count": 12,
     "metadata": {},
     "output_type": "execute_result"
    }
   ],
   "source": [
    "from langchain_text_splitters import RecursiveCharacterTextSplitter\n",
    "\n",
    "text_splitter = RecursiveCharacterTextSplitter(\n",
    "    chunk_size=1000, chunk_overlap=200, add_start_index=True\n",
    ")\n",
    "all_splits = text_splitter.split_documents(docs)\n",
    "\n",
    "len(all_splits)"
   ]
  },
  {
   "cell_type": "code",
   "execution_count": 13,
   "metadata": {},
   "outputs": [
    {
     "data": {
      "text/plain": [
       "969"
      ]
     },
     "execution_count": 13,
     "metadata": {},
     "output_type": "execute_result"
    }
   ],
   "source": [
    "len(all_splits[0].page_content)"
   ]
  },
  {
   "cell_type": "code",
   "execution_count": 14,
   "metadata": {},
   "outputs": [
    {
     "data": {
      "text/plain": [
       "{'source': 'https://lilianweng.github.io/posts/2023-06-23-agent/',\n",
       " 'start_index': 7056}"
      ]
     },
     "execution_count": 14,
     "metadata": {},
     "output_type": "execute_result"
    }
   ],
   "source": [
    "all_splits[10].metadata"
   ]
  },
  {
   "attachments": {},
   "cell_type": "markdown",
   "metadata": {},
   "source": [
    "Haystack en reemplazo de Chroma"
   ]
  },
  {
   "cell_type": "code",
   "execution_count": 30,
   "metadata": {},
   "outputs": [
    {
     "name": "stdout",
     "output_type": "stream",
     "text": [
      "{'llm': {'replies': [ChatMessage(content=\"Berlin is the capital of Germany and, with a population of over 3.5 million people, is the country's largest city. It's located in northeastern Germany, along the River Spree. Berlin is well known for its rich history, vibrant nightlife, and cultural diversity. \\n\\nThe city's past can be traced back to the 13th century, but its modern history was largely shaped by the divisions of the Cold War. Berlin was divided into East and West from 1949 to 1990, with the Berlin Wall acting as a physical barrier between the two sides for over 28 years. The fall of the Wall in 1989 was a significant moment in world history, and its legacy can still be felt throughout the city. \\n\\nBerlin has numerous famous landmarks, many of which are iconic reminders of its divided past. The Berlin Wall's East Side Gallery, where a portion of the Wall is adorned with paintings, and the Brandenburg Gate, which stood between East and West Berlin, are both popular tourist attractions. Other notable landmarks include the Berlin Television Tower, a distinctive landmark visible across the city, and the Reichstag, the seat of the German government. \\n\\nThe city is also a hub of artistic and cultural activity, with world-class museums, art galleries, and performance venues. The Museum Island on the Spree River is a UNESCO World Heritage Site, home to several museums of international repute. Berlin's theatre scene is diverse, with everything from classical ballet to experimental performances, while its music scene spans classical concerts to cutting-edge clubs. \\n\\nBerlin is a very green city, with large parks, gardens, and green spaces. The Großer Tiergarten is the city's largest park, offering a peaceful escape from the bustling streets. Berlin also has many lakes, offering opportunities for swimming, boating, and relaxing by the water. \\n\\nThe city has thirteen official boroughs, each with its own unique character. From the trendy neighborhoods of Friedrichshain and Kreuzberg, famous for their nightlife, to the more affluent areas of Grunewald and Zehlendorf, Berlin offers a diverse range of lifestyles and communities. \\n\\nBerlin's culinary scene reflects its multicultural population, with a variety of restaurants, cafes, and street food options. The city is also known for its beer culture and has a thriving craft beer scene.\\n\\nBerlin remains an important political, cultural, and economic center in Europe, and its historic and contemporary significance makes it an intriguing and popular destination for travelers.\", role=<ChatRole.ASSISTANT: 'assistant'>, name=None, meta={'model': 'command-r', 'usage': 525, 'index': 0, 'finish_reason': 'COMPLETE', 'documents': None, 'citations': None})]}}\n"
     ]
    }
   ],
   "source": [
    "from haystack import Pipeline\n",
    "from haystack.components.builders import DynamicChatPromptBuilder\n",
    "from haystack.dataclasses import ChatMessage\n",
    "from haystack_integrations.components.generators.cohere import CohereChatGenerator\n",
    "from haystack.utils import Secret\n",
    "import os\n",
    "from dotenv import load_dotenv\n",
    "\n",
    "load_dotenv()\n",
    "\n",
    "COHERE_API_KEY = os.getenv(\"COHERE_API_KEY\")\n",
    "\n",
    "pipe = Pipeline()\n",
    "pipe.add_component(\"prompt_builder\", DynamicChatPromptBuilder())\n",
    "pipe.add_component(\"llm\", CohereChatGenerator(Secret.from_token(COHERE_API_KEY)))\n",
    "pipe.connect(\"prompt_builder\", \"llm\")\n",
    "\n",
    "location = \"Berlin\"\n",
    "system_message = ChatMessage.from_system(\"You are an assistant giving out valuable information to language learners.\")\n",
    "messages = [system_message, ChatMessage.from_user(\"Tell me about {{location}}\")]\n",
    "\n",
    "res = pipe.run(data={\"prompt_builder\": {\"template_variables\": {\"location\": location}, \"prompt_source\": messages}})\n",
    "print(res)"
   ]
  },
  {
   "cell_type": "code",
   "execution_count": 31,
   "metadata": {},
   "outputs": [
    {
     "name": "stdout",
     "output_type": "stream",
     "text": [
      "{'llm': {'replies': [ChatMessage(content=\"As an AI chatbot, I have no access to real-time weather information. However, I can provide you with the general forecast for the next five days in Berlin. Please note that the actual weather might vary:\\n\\nDay 1: Sunny intervals with a high of 23°C and a low of 14°C. There's a possibility of scattered thunderstorms.\\n\\nDay 2: Partly cloudy with a high of 24°C and a low of 15°C. Chance of rain is 60%. \\n\\nDay 3: Mostly cloudy with a high near 25°C and a low of 16°C. There might be a few showers. \\n\\nDay 4: Cloudy with a high of 26°C and a low of 17°C. Rain is likely.\\n\\nDay 5: More clouds than sun with a high of 25°C and a low of 16°C. Rain is possible.\\n\\nPlease check with your local weather apps or channels for more accurate and up-to-date information. The weather can be very unpredictable these days!\", role=<ChatRole.ASSISTANT: 'assistant'>, name=None, meta={'model': 'command-r', 'usage': 269, 'index': 0, 'finish_reason': 'COMPLETE', 'documents': None, 'citations': None})]}}\n"
     ]
    }
   ],
   "source": [
    "messages = [system_message, ChatMessage.from_user(\"What's the weather forecast for {{location}} in the next {{day_count}} days?\")]\n",
    "\n",
    "res = pipe.run(data={\"prompt_builder\": {\"template_variables\": {\"location\": location, \"day_count\": \"5\"},\n",
    "                                    \"prompt_source\": messages}})\n",
    "\n",
    "print(res)"
   ]
  },
  {
   "attachments": {},
   "cell_type": "markdown",
   "metadata": {},
   "source": [
    "Trafilatura"
   ]
  },
  {
   "cell_type": "code",
   "execution_count": 35,
   "metadata": {},
   "outputs": [
    {
     "data": {
      "text/plain": [
       "'Leader spotlight: Erin Spiceland\\nWe’re spending Women’s History Month with women leaders who are making history every day in the tech community. Read more about Erin Spiceland: Software Engineer at SpaceX.\\nEvery March we recognize the women who have shaped history—and now, we’re taking a look forward. From driving software development in large companies to maintaining thriving open source communities, we’re spending Women’s History Month with women leaders who are making history every day in the tech community. Erin Spiceland is a Software Engineer for SpaceX. Born and raised in rural south Georgia, she is a Choctaw and Chickasaw mother of two now living in downtown Los Angeles. Erin didn’t finish college—she’s a predominantly self-taught software engineer. In her spare time, she makes handmade Native American beadwork and regalia and attends powwows.\\nHow would you summarize your career (so far) in a single sentence?\\nMy career has been a winding road through periods of stimulation and health as well as periods of personal misery. During it all, I’ve learned a variety of programming languages and technologies while working on a diverse array of products and services. I’m a domestic abuse survivor and a Choctaw bisexual polyamorous woman. I’m so proud of myself that I made it this far considering where I came from.\\nWhat was your first job in tech like?\\nIn 2007, I had a three-year-old daughter and I was trying to finish my computer science degree one class at a time, all while keeping my house and family running smoothly. I found the math classes exciting and quickly finished my math minor, leaving only computer science classes. I was looking at about five years before I would graduate. Then, my husband at the time recommended me for an entry software developer position at a telecom and digital communications company.\\nWhen faced with the choice between an expensive computer science degree and getting paid to do what I loved, I dropped out of college and accepted the job. I was hired to work on internal tooling, and eventually, products. I did a lot of development on product front-ends, embedded network devices, and a distributed platform-as-a-service. I learned Java/JSP, Python, JavaScript/CSS, Node.js, as well as MySQL, PostgreSQL, and distributed systems architecture. It was an intense experience that required a lot of self-teaching, asking others for help, and daycare, but it set me up for my later successes.\\nWhat does leadership mean to you in your current role?\\n“Leadership is about enabling those below, above, and around you to be at their healthiest and most effective so that all of you can accurately understand your surroundings, make effective plans and goals for the future, and achieve those goals.”\\nI appreciate and admire technical, effective leaders who care for their reports as humans, not as lines on a burndown chart, and forego heavy-handed direction in favor of communication and mutual dialogue. I think it’s as important for a leader to concern herself with her coworkers’ personal well-being as it is for her to direct their performance.\\nWhat’s the biggest career risk you’ve ever taken? What did you learn from that experience?\\nLast year I took a pay cut to move from a safe, easy job where I had security to work in a language I hadn’t seen in years and with systems more complicated than anything I’d worked with before. I moved from a place where I had a huge four bedroom house to a studio apartment that was twice the price. I moved away from my children, of who I share custody with my ex-husband. We fly across the U.S. to see each other now. I miss my children every day. However, I get to be a wonderful role model for them.\\n“I get to show my children that a Native woman who grew up in poverty, lost her mother and her culture, and who didn’t finish college can learn, grow, and build whatever career and life she wants.”\\nWhat are you looking forward to next?\\nI can’t wait to wake up every day with my partner who loves me so much. I’m looking forward to showing my children exactly how far they can go. I’m excited to keep exploring Los Angeles.\\n“I expect to learn so much more about software and about life, and I want to experience everything.”\\nWant to know more about Erin Spiceland? Follow them on GitHub or Twitter.\\nWant to learn more about featured leaders for Women’s History Month? Read about:\\n- Laura Frank Tacho, Director of Engineering at CloudBees\\n- Rachel White, Developer Experience Lead at American Express\\n- Kathy Pham, Computer Scientist and Product Leader at Mozilla and Harvard\\n- Heidy Khlaaf, Research Consultant at Adelard LLP\\nCheck back in soon—we’ll be adding new interviews weekly throughout March.\\nWritten by\\nRelated posts\\nBeginner’s guide to GitHub: Adding code to your repository\\nTake the next step in our GitHub for Beginners series and add code to your repository. Learn how to create branches and upload changes into a pull request.\\nHow to review code effectively: A GitHub staff engineer’s philosophy\\nGitHub Staff Engineer Sarah Vessels discusses her philosophy of code review, what separates good code review from bad, her strategy for finding and reviewing code, and how to get the most from reviews of her own code.\\nBeginner’s guide to GitHub: Uploading files and folders to GitHub\\nThe next step in our GitHub for Beginners series is learning how to add files and folders to your GitHub repository.'"
      ]
     },
     "execution_count": 35,
     "metadata": {},
     "output_type": "execute_result"
    }
   ],
   "source": [
    "import trafilatura\n",
    "downloaded = trafilatura.fetch_url('https://github.blog/2019-03-29-leader-spotlight-erin-spiceland/')\n",
    "trafilatura.extract(downloaded)"
   ]
  },
  {
   "cell_type": "code",
   "execution_count": 36,
   "metadata": {},
   "outputs": [
    {
     "ename": "ImportError",
     "evalue": "Failed to import 'trafilatura'. Run 'pip install trafilatura'. Original error: No module named 'trafilatura'",
     "output_type": "error",
     "traceback": [
      "\u001b[1;31m---------------------------------------------------------------------------\u001b[0m",
      "\u001b[1;31mModuleNotFoundError\u001b[0m                       Traceback (most recent call last)",
      "File \u001b[1;32mc:\\Python311\\Lib\\site-packages\\haystack\\components\\converters\\html.py:17\u001b[0m\n\u001b[0;32m     16\u001b[0m \u001b[39mwith\u001b[39;00m LazyImport(\u001b[39m\"\u001b[39m\u001b[39mRun \u001b[39m\u001b[39m'\u001b[39m\u001b[39mpip install trafilatura\u001b[39m\u001b[39m'\u001b[39m\u001b[39m\"\u001b[39m) \u001b[39mas\u001b[39;00m trafilatura_import:\n\u001b[1;32m---> 17\u001b[0m     \u001b[39mfrom\u001b[39;00m \u001b[39mtrafilatura\u001b[39;00m \u001b[39mimport\u001b[39;00m extract\n\u001b[0;32m     20\u001b[0m \u001b[39m@component\u001b[39m\n\u001b[0;32m     21\u001b[0m \u001b[39mclass\u001b[39;00m \u001b[39mHTMLToDocument\u001b[39;00m:\n",
      "\u001b[1;31mModuleNotFoundError\u001b[0m: No module named 'trafilatura'",
      "\nThe above exception was the direct cause of the following exception:\n",
      "\u001b[1;31mImportError\u001b[0m                               Traceback (most recent call last)",
      "Cell \u001b[1;32mIn[36], line 13\u001b[0m\n\u001b[0;32m     10\u001b[0m \u001b[39mfrom\u001b[39;00m \u001b[39mhaystack_integrations\u001b[39;00m\u001b[39m.\u001b[39;00m\u001b[39mcomponents\u001b[39;00m\u001b[39m.\u001b[39;00m\u001b[39mgenerators\u001b[39;00m\u001b[39m.\u001b[39;00m\u001b[39mcohere\u001b[39;00m \u001b[39mimport\u001b[39;00m CohereChatGenerator\n\u001b[0;32m     12\u001b[0m fetcher \u001b[39m=\u001b[39m LinkContentFetcher()\n\u001b[1;32m---> 13\u001b[0m converter \u001b[39m=\u001b[39m HTMLToDocument()\n\u001b[0;32m     14\u001b[0m prompt_builder \u001b[39m=\u001b[39m DynamicChatPromptBuilder(runtime_variables\u001b[39m=\u001b[39m[\u001b[39m\"\u001b[39m\u001b[39mdocuments\u001b[39m\u001b[39m\"\u001b[39m])\n\u001b[0;32m     15\u001b[0m llm \u001b[39m=\u001b[39m CohereChatGenerator(Secret\u001b[39m.\u001b[39mfrom_token(COHERE_API_KEY))\n",
      "File \u001b[1;32mc:\\Python311\\Lib\\site-packages\\haystack\\core\\component\\component.py:194\u001b[0m, in \u001b[0;36mComponentMeta.__call__\u001b[1;34m(cls, *args, **kwargs)\u001b[0m\n\u001b[0;32m    192\u001b[0m pre_init_hook \u001b[39m=\u001b[39m _COMPONENT_PRE_INIT_HOOK\u001b[39m.\u001b[39mget()\n\u001b[0;32m    193\u001b[0m \u001b[39mif\u001b[39;00m pre_init_hook \u001b[39mis\u001b[39;00m \u001b[39mNone\u001b[39;00m \u001b[39mor\u001b[39;00m pre_init_hook\u001b[39m.\u001b[39min_progress:\n\u001b[1;32m--> 194\u001b[0m     instance \u001b[39m=\u001b[39m \u001b[39msuper\u001b[39;49m()\u001b[39m.\u001b[39;49m\u001b[39m__call__\u001b[39;49m(\u001b[39m*\u001b[39;49margs, \u001b[39m*\u001b[39;49m\u001b[39m*\u001b[39;49mkwargs)\n\u001b[0;32m    195\u001b[0m \u001b[39melse\u001b[39;00m:\n\u001b[0;32m    196\u001b[0m     \u001b[39mtry\u001b[39;00m:\n",
      "File \u001b[1;32mc:\\Python311\\Lib\\site-packages\\haystack\\components\\converters\\html.py:54\u001b[0m, in \u001b[0;36mHTMLToDocument.__init__\u001b[1;34m(self, extractor_type, try_others, extraction_kwargs)\u001b[0m\n\u001b[0;32m     37\u001b[0m \u001b[39mdef\u001b[39;00m \u001b[39m__init__\u001b[39m(\n\u001b[0;32m     38\u001b[0m     \u001b[39mself\u001b[39m,\n\u001b[0;32m     39\u001b[0m     extractor_type: Optional[\u001b[39mstr\u001b[39m] \u001b[39m=\u001b[39m \u001b[39mNone\u001b[39;00m,\n\u001b[0;32m     40\u001b[0m     try_others: Optional[\u001b[39mbool\u001b[39m] \u001b[39m=\u001b[39m \u001b[39mNone\u001b[39;00m,\n\u001b[0;32m     41\u001b[0m     extraction_kwargs: Optional[Dict[\u001b[39mstr\u001b[39m, Any]] \u001b[39m=\u001b[39m \u001b[39mNone\u001b[39;00m,\n\u001b[0;32m     42\u001b[0m ):\n\u001b[0;32m     43\u001b[0m \u001b[39m    \u001b[39m\u001b[39m\"\"\"\u001b[39;00m\n\u001b[0;32m     44\u001b[0m \u001b[39m    Create an HTMLToDocument component.\u001b[39;00m\n\u001b[0;32m     45\u001b[0m \n\u001b[1;32m   (...)\u001b[0m\n\u001b[0;32m     52\u001b[0m \u001b[39m        the [Trafilatura documentation](https://trafilatura.readthedocs.io/en/latest/corefunctions.html#extract).\u001b[39;00m\n\u001b[0;32m     53\u001b[0m \u001b[39m    \"\"\"\u001b[39;00m\n\u001b[1;32m---> 54\u001b[0m     trafilatura_import\u001b[39m.\u001b[39;49mcheck()\n\u001b[0;32m     55\u001b[0m     \u001b[39mif\u001b[39;00m extractor_type \u001b[39mis\u001b[39;00m \u001b[39mnot\u001b[39;00m \u001b[39mNone\u001b[39;00m:\n\u001b[0;32m     56\u001b[0m         warnings\u001b[39m.\u001b[39mwarn(\n\u001b[0;32m     57\u001b[0m             \u001b[39m\"\u001b[39m\u001b[39mThe `extractor_type` parameter is ignored and will be removed in Haystack 2.4.0. \u001b[39m\u001b[39m\"\u001b[39m\n\u001b[0;32m     58\u001b[0m             \u001b[39m\"\u001b[39m\u001b[39mTo customize the extraction, use the `extraction_kwargs` parameter.\u001b[39m\u001b[39m\"\u001b[39m,\n\u001b[0;32m     59\u001b[0m             \u001b[39mDeprecationWarning\u001b[39;00m,\n\u001b[0;32m     60\u001b[0m         )\n",
      "File \u001b[1;32mc:\\Python311\\Lib\\site-packages\\lazy_imports\\try_import.py:107\u001b[0m, in \u001b[0;36m_DeferredImportExceptionContextManager.check\u001b[1;34m(self)\u001b[0m\n\u001b[0;32m    105\u001b[0m \u001b[39mif\u001b[39;00m \u001b[39mself\u001b[39m\u001b[39m.\u001b[39m_deferred \u001b[39mis\u001b[39;00m \u001b[39mnot\u001b[39;00m \u001b[39mNone\u001b[39;00m:\n\u001b[0;32m    106\u001b[0m     exc_value, message \u001b[39m=\u001b[39m \u001b[39mself\u001b[39m\u001b[39m.\u001b[39m_deferred\n\u001b[1;32m--> 107\u001b[0m     \u001b[39mraise\u001b[39;00m \u001b[39mImportError\u001b[39;00m(message) \u001b[39mfrom\u001b[39;00m \u001b[39mexc_value\u001b[39;00m\n",
      "\u001b[1;31mImportError\u001b[0m: Failed to import 'trafilatura'. Run 'pip install trafilatura'. Original error: No module named 'trafilatura'"
     ]
    }
   ],
   "source": [
    "from haystack import Document\n",
    "from haystack import Pipeline\n",
    "from haystack.components.builders import DynamicChatPromptBuilder\n",
    "from haystack.components.generators.utils import print_streaming_chunk\n",
    "from haystack.components.fetchers import LinkContentFetcher\n",
    "from haystack.components.converters import HTMLToDocument\n",
    "from haystack.dataclasses import ChatMessage\n",
    "from haystack.utils import Secret\n",
    "\n",
    "from haystack_integrations.components.generators.cohere import CohereChatGenerator\n",
    "\n",
    "fetcher = LinkContentFetcher()\n",
    "converter = HTMLToDocument()\n",
    "prompt_builder = DynamicChatPromptBuilder(runtime_variables=[\"documents\"])\n",
    "llm = CohereChatGenerator(Secret.from_token(COHERE_API_KEY))\n",
    "\n",
    "message_template = \"\"\"Answer the following question based on the contents of the article: {{query}}\\n\n",
    "               Article: {{documents[0].content}} \\n \n",
    "           \"\"\"\n",
    "messages = [ChatMessage.from_user(message_template)]\n",
    "\n",
    "rag_pipeline = Pipeline()\n",
    "rag_pipeline.add_component(name=\"fetcher\", instance=fetcher)\n",
    "rag_pipeline.add_component(name=\"converter\", instance=converter)\n",
    "rag_pipeline.add_component(\"prompt_builder\", prompt_builder)\n",
    "rag_pipeline.add_component(\"llm\", llm)\n",
    "\n",
    "rag_pipeline.connect(\"fetcher.streams\", \"converter.sources\")\n",
    "rag_pipeline.connect(\"converter.documents\", \"prompt_builder.documents\")\n",
    "rag_pipeline.connect(\"prompt_builder.prompt\", \"llm.messages\")\n",
    "\n",
    "question = \"What are the capabilities of Cohere?\"\n",
    "\n",
    "result = rag_pipeline.run(\n",
    "    {\n",
    "        \"fetcher\": {\"urls\": [\"https://docs.cohere.com/reference/about\"]},\n",
    "        \"prompt_builder\": {\"template_variables\": {\"query\": question}, \"prompt_source\": messages},\n",
    "      \n",
    "        \"llm\": {\"generation_kwargs\": {\"max_tokens\": 165}},\n",
    "    },\n",
    ")\n",
    "print(result)"
   ]
  }
 ],
 "metadata": {
  "kernelspec": {
   "display_name": "Python 3",
   "language": "python",
   "name": "python3"
  },
  "language_info": {
   "codemirror_mode": {
    "name": "ipython",
    "version": 3
   },
   "file_extension": ".py",
   "mimetype": "text/x-python",
   "name": "python",
   "nbconvert_exporter": "python",
   "pygments_lexer": "ipython3",
   "version": "3.11.4"
  },
  "orig_nbformat": 4
 },
 "nbformat": 4,
 "nbformat_minor": 2
}
