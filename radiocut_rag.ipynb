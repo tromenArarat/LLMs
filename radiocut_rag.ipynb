{
 "cells": [
  {
   "attachments": {},
   "cell_type": "markdown",
   "metadata": {},
   "source": [
    "Instanciación de la AI Mistral"
   ]
  },
  {
   "cell_type": "code",
   "execution_count": 2,
   "metadata": {},
   "outputs": [],
   "source": [
    "import os\n",
    "from dotenv import load_dotenv\n",
    "from mistralai.client import MistralClient\n",
    "from mistralai.models.chat_completion import ChatMessage\n",
    "\n",
    "load_dotenv()\n",
    "\n",
    "api_key = os.getenv(\"MISTRAL_API_KEY\")\n",
    "if not api_key:\n",
    "    raise ValueError(\"Error con las variables de entorno.\")\n",
    "\n",
    "model = \"mistral-large-latest\"\n",
    "\n",
    "client = MistralClient(api_key=api_key)\n"
   ]
  },
  {
   "attachments": {},
   "cell_type": "markdown",
   "metadata": {},
   "source": [
    "Prueba del chat"
   ]
  },
  {
   "cell_type": "code",
   "execution_count": 3,
   "metadata": {},
   "outputs": [
    {
     "name": "stdout",
     "output_type": "stream",
     "text": [
      "La palabra \"ubicuo\" se utiliza para describir algo que está presente en todas partes o en muchos lugares al mismo tiempo. Proviene del latín \"ubique,\" que significa \"en todas partes.\" Por ejemplo, si decimos que una tecnología es ubicua, estamos indicando que está ampliamente disponible y accesible en muchos lugares.\n"
     ]
    }
   ],
   "source": [
    "chat_response = client.chat(\n",
    "    model=model,\n",
    "    messages=[ChatMessage(role=\"user\", content=\"Cuál es el significado de 'ubicuo'?\")]\n",
    ")\n",
    "\n",
    "print(chat_response.choices[0].message.content)"
   ]
  },
  {
   "attachments": {},
   "cell_type": "markdown",
   "metadata": {},
   "source": [
    "##### 1er paso: request al sitio para buscar \"robots.txt\" si existe"
   ]
  },
  {
   "cell_type": "code",
   "execution_count": 4,
   "metadata": {},
   "outputs": [
    {
     "name": "stdout",
     "output_type": "stream",
     "text": [
      "robots.txt content:\n",
      "User-agent: *\n",
      "Crawl-delay: 30\n",
      "Request-rate: 1/3\n",
      "Sitemap: https://radiocut.fm/sitemap.xml\n",
      "Disallow: /*/delete$\n",
      "\n"
     ]
    }
   ],
   "source": [
    "import requests\n",
    "\n",
    "def get_robots_txt(url):\n",
    "    if not url.endswith('/'):\n",
    "        url += '/'\n",
    "    \n",
    "    robots_url = url + \"robots.txt\"\n",
    "    \n",
    "    response = requests.get(robots_url)\n",
    "    \n",
    "    if response.status_code == 200:\n",
    "        return response.text\n",
    "    else:\n",
    "        return None\n",
    "\n",
    "website_url = \"https://radiocut.fm\"\n",
    "robots_txt = get_robots_txt(website_url)\n",
    "\n",
    "if robots_txt:\n",
    "    print(\"robots.txt content:\")\n",
    "    print(robots_txt)\n",
    "else:\n",
    "    print(\"robots.txt no encontrado\")"
   ]
  },
  {
   "attachments": {},
   "cell_type": "markdown",
   "metadata": {},
   "source": [
    "\n",
    "##### 2do paso: ajustar el craw_delay y el request_rate con la librería \"time\""
   ]
  },
  {
   "cell_type": "code",
   "execution_count": 10,
   "metadata": {},
   "outputs": [
    {
     "name": "stdout",
     "output_type": "stream",
     "text": [
      "Fetched: https://ar.radiocut.fm/search/?type=cut&page=4&created=1\n"
     ]
    }
   ],
   "source": [
    "import requests\n",
    "import time\n",
    "\n",
    "def fetch_url(url):\n",
    "    response = requests.get(url)\n",
    "    return response\n",
    "\n",
    "# Recortes del día\n",
    "urls = [\"https://ar.radiocut.fm/search/?type=cut&page=4&created=1\"]\n",
    "\n",
    "crawl_delay = 30  # segundos\n",
    "request_rate = 1 / 3  # 1 request cada 3 segundos\n",
    "\n",
    "docs = []\n",
    "for url in urls:\n",
    "    response = fetch_url(url)\n",
    "    if response.status_code == 200:\n",
    "        print(\"Fetched:\", url)\n",
    "        docs.append(response.text)\n",
    "\n",
    "    else:\n",
    "        print(\"Failed to fetch:\", url)\n",
    "    \n",
    "    # Esperar de acuerdo al tiempo del crawl (rebaje)\n",
    "    time.sleep(crawl_delay)\n",
    "    "
   ]
  },
  {
   "cell_type": "code",
   "execution_count": 11,
   "metadata": {},
   "outputs": [
    {
     "data": {
      "text/plain": [
       "1"
      ]
     },
     "execution_count": 11,
     "metadata": {},
     "output_type": "execute_result"
    }
   ],
   "source": [
    "len(docs)"
   ]
  },
  {
   "cell_type": "code",
   "execution_count": 12,
   "metadata": {},
   "outputs": [
    {
     "data": {
      "text/plain": [
       "['\\n<!DOCTYPE html>\\n<html lang=\"es\">\\n<head>\\n<link rel=\"preconnect dns-prefetch\" href=\"https://www.googletagmanager.com\" />\\n<meta charset=\"UTF-8\">\\n<meta name=\"viewport\" content=\"width=device-width,initial-scale=1.0\" />\\n<meta name=\"alexaVerifyID\" content=\"VnZ_Et-Jpg6HoBQRuWYP1dYWaa0\" />\\n<meta property=\"fb:app_id\" content=\"471603786214644\" />\\n<meta property=\"og:site_name\" content=\"RadioCut\" />\\n<meta property=\"og:image\" content=\"https://static.radiocut.com.ar/images/radio_cut_96.png\" />\\n<meta name=\"description\" content=\"\\n            \\n            Escucha radios online de Argentina\\n            \\n          y programas de la radio FM, AM, Noticias, Música... Retrocede horas y días atrás y crea tus propios recortes de la radio.\\n        \">\\n<meta name=\"keywords\" content=\"radios,radiodifusion,programa de radio,noticias,archivo de radios, podcast, deportes,musica,radiocut\">\\n<meta name=\"apple-itunes-app\" content=\"app-id=1120326976\">\\n<meta name=\"google-play-app\" content=\"app-id=com.lambdasistemas.radiocutapp\">\\n<link rel=\"apple-touch-icon\" href=\"https://static.radiocut.com.ar/images/radio_cut_96.png\">\\n<link rel=\"android-touch-icon\" href=\"https://static.radiocut.com.ar/images/radio_cut_96.png\" />\\n<title>Búsqueda | RadioCut\\n           Argentina </title>\\n<link rel=\"shortcut icon\" href=\"https://static.radiocut.com.ar/images/radio_cut_16.png\" type=\"image/png\" />\\n<script>\\nwindow.dataLayer = window.dataLayer || [];\\nwindow.dataLayer.push({\\n  master: \\'main\\',\\n  \\n  userId: null,\\n  \\n  skip_ads: \\'no\\',\\n  ads_type: \\'152media\\',\\n  country_code: \\'AR\\',\\n  has_gdpr: \\'no\\',\\n  });\\n\\nwindow.ga_events = [\\n    \\n];\\n</script>\\n\\n<script>(function(w,d,s,l,i){w[l]=w[l]||[];w[l].push({\\'gtm.start\\':\\nnew Date().getTime(),event:\\'gtm.js\\'});var f=d.getElementsByTagName(s)[0],\\nj=d.createElement(s),dl=l!=\\'dataLayer\\'?\\'&l=\\'+l:\\'\\';j.async=true;j.src=\\n\\'https://www.googletagmanager.com/gtm.js?id=\\'+i+dl;f.parentNode.insertBefore(j,f);\\n})(window,document,\\'script\\',\\'dataLayer\\',\\'GTM-T48SMCX\\');</script>\\n\\n\\n<script>(function(w,d,s,l,i){w[l]=w[l]||[];w[l].push({\\'gtm.start\\':\\nnew Date().getTime(),event:\\'gtm.js\\'});var f=d.getElementsByTagName(s)[0],\\nj=d.createElement(s),dl=l!=\\'dataLayer\\'?\\'&l=\\'+l:\\'\\';j.async=true;j.src=\\n\\'https://www.googletagmanager.com/gtm.js?id=\\'+i+dl;f.parentNode.insertBefore(j,f);\\n})(window,document,\\'script\\',\\'dataLayer\\',\\'GTM-WN7BVX6\\');</script>\\n\\n<script>\\n          window.Radiocut = window.Radiocut || {};\\n          window.Radiocut.vastBaseUrl = \"\";\\n          window.Radiocut.prerollSkipWait = 15,0;\\n          window.Radiocut.staticUrl = \"https://static.radiocut.com.ar/\";\\n        </script>\\n<link rel=\"preload\" href=\"https://static.radiocut.com.ar/js/app.fe494f93d5ad8a05d443c641a32e17ce56635a4b.js\" as=\"script\">\\n<link rel=\"preload\" href=\"https://static.radiocut.com.ar/css/app.79651b6999e693cdd81b03945da4f3a0b310fd63.css\" as=\"style\">\\n<link rel=\"stylesheet\" href=\"https://static.radiocut.com.ar/css/app.79651b6999e693cdd81b03945da4f3a0b310fd63.css\">\\n<link rel=\"alternate\" href=\"https://es.radiocut.fm/search/?type=cut&amp;page=4&amp;created=1\" hreflang=\"es-es\" />\\n<link rel=\"alternate\" href=\"https://uy.radiocut.fm/search/?type=cut&amp;page=4&amp;created=1\" hreflang=\"es-uy\" />\\n<link rel=\"alternate\" href=\"https://ar.radiocut.fm/search/?type=cut&amp;page=4&amp;created=1\" hreflang=\"es-ar\" />\\n<link rel=\"alternate\" href=\"https://co.radiocut.fm/search/?type=cut&amp;page=4&amp;created=1\" hreflang=\"es-co\" />\\n<link rel=\"alternate\" href=\"https://ve.radiocut.fm/search/?type=cut&amp;page=4&amp;created=1\" hreflang=\"es-ve\" />\\n<link rel=\"alternate\" href=\"https://cl.radiocut.fm/search/?type=cut&amp;page=4&amp;created=1\" hreflang=\"es-cl\" />\\n<link rel=\"alternate\" href=\"https://mx.radiocut.fm/search/?type=cut&amp;page=4&amp;created=1\" hreflang=\"es-mx\" />\\n<link rel=\"alternate\" href=\"https://cl.radiocut.fm/search/?type=cut&amp;page=4&amp;created=1\" hreflang=\"es-cl\" />\\n<link rel=\"alternate\" href=\"https://pe.radiocut.fm/search/?type=cut&amp;page=4&amp;created=1\" hreflang=\"es-pe\" />\\n<link rel=\"alternate\" href=\"https://uk.radiocut.fm/search/?type=cut&amp;page=4&amp;created=1\" hreflang=\"en-gb\" />\\n<link rel=\"alternate\" href=\"https://us.radiocut.fm/search/?type=cut&amp;page=4&amp;created=1\" hreflang=\"en-us\" />\\n<link rel=\"alternate\" href=\"https://in.radiocut.fm/search/?type=cut&amp;page=4&amp;created=1\" hreflang=\"en-in\" />\\n<link rel=\"alternate\" href=\"https://id.radiocut.fm/search/?type=cut&amp;page=4&amp;created=1\" hreflang=\"en-id\" />\\n<link rel=\"alternate\" href=\"https://tw.radiocut.fm/search/?type=cut&amp;page=4&amp;created=1\" hreflang=\"zh-tw\" />\\n<link rel=\"alternate\" href=\"https://my.radiocut.fm/search/?type=cut&amp;page=4&amp;created=1\" hreflang=\"en-my\" />\\n<link rel=\"alternate\" href=\"https://ph.radiocut.fm/search/?type=cut&amp;page=4&amp;created=1\" hreflang=\"en-ph\" />\\n<link rel=\"alternate\" href=\"https://sg.radiocut.fm/search/?type=cut&amp;page=4&amp;created=1\" hreflang=\"en-sg\" />\\n<link rel=\"alternate\" href=\"https://ar.radiocut.fm/search/?type=cut&amp;page=4&amp;created=1\" hreflang=\"es\" />\\n<link rel=\"alternate\" href=\"https://radiocut.fm/search/?type=cut&amp;page=4&amp;created=1\" hreflang=\"en\" />\\n<link rel=\"alternate\" href=\"https://in.radiocut.fm/search/?type=cut&amp;page=4&amp;created=1\" hreflang=\"hi\" />\\n<link rel=\"alternate\" href=\"https://id.radiocut.fm/search/?type=cut&amp;page=4&amp;created=1\" hreflang=\"id\" />\\n<link rel=\"alternate\" href=\"https://my.radiocut.fm/search/?type=cut&amp;page=4&amp;created=1\" hreflang=\"my\" />\\n<link rel=\"alternate\" href=\"https://ph.radiocut.fm/search/?type=cut&amp;page=4&amp;created=1\" hreflang=\"tl\" />\\n<!--[if lte IE 10]>\\n        <link rel=\"stylesheet\" href=\"https://static.radiocut.com.ar/css/ie.ada981331d84936f13e06ff8d081d31b59790624.css\">\\n        <![endif]-->\\n<link rel=\"stylesheet\" href=\"//maxcdn.bootstrapcdn.com/font-awesome/4.7.0/css/font-awesome.min.css\">\\n<script type=\"text/javascript\">\\n            window.currentUser = null;\\n        </script>\\n<link rel=\"alternate\" type=\"application/rss+xml\" title=\"RSS\" href=\"/feeds?type=cut&amp;page=4&amp;created=1\" />\\n\\n<!--[if lt IE 10]>\\n        <script src=\"https://static.radiocut.com.ar/js/jquery.iecors.57c8479bae1feff3ffaac837ff4b550542888520.js\"></script>\\n        <![endif]-->\\n\\n<script async defer src=\"https://ats-wrapper.privacymanager.io/ats-modules/0f6ade3d-faee-4e82-9078-a5c024715120/ats.js\"></script>\\n\\n<script async defer src=\"https://www.google.com/recaptcha/api.js\"></script>\\n</head>\\n<body>\\n\\n<noscript><iframe src=\"https://www.googletagmanager.com/ns.html?id=GTM-T48SMCX\"\\nheight=\"0\" width=\"0\" style=\"display:none;visibility:hidden\"></iframe></noscript>\\n\\n\\n<noscript><iframe src=\"https://www.googletagmanager.com/ns.html?id=GTM-WN7BVX6\"\\nheight=\"0\" width=\"0\" style=\"display:none;visibility:hidden\"></iframe></noscript>\\n\\n<div id=\"feedback_bar\" style=\"display: none\"><span class=\"message\"> </span> <a href=\"#\" class=\"dismiss\">[x]</a></div>\\n<nav class=\"navbar navbar-inverse navbar-fixed-top\" id=\"main_header\">\\n<div class=\"container-fluid\">\\n<div class=\"navbar-header\">\\n<button type=\"button\" class=\"navbar-toggle collapsed\" data-toggle=\"collapse\" data-target=\"#bs-example-navbar-collapse-1\">\\n<span class=\"sr-only\">Toggle navigation</span>\\n<span class=\"icon-bar\"></span>\\n<span class=\"icon-bar\"></span>\\n<span class=\"icon-bar\"></span>\\n</button>\\n<a class=\"navbar-brand\" href=\"/\">\\n<img src=\"https://static.radiocut.com.ar/images/radio_cut_64.png\" alt=\"-8&lt;- RadioCut\" />\\n</a>\\n</div>\\n\\n<div class=\"collapse navbar-collapse\" id=\"bs-example-navbar-collapse-1\">\\n<form class=\"nav navbar-nav navbar-form navbar-left\" role=\"search\" id=\"search_form\" method=\"get\" action=\"/search\">\\n<div class=\"input-group hidden-xs\">\\n<select class=\"form-control\" name=\"type\">\\n<option value=\"all\">Todo</option>\\n<option value=\"radio\">Radios</option>\\n<option value=\"show\">Programas</option>\\n<option value=\"cut\">Recortes</option>\\n<option value=\"mark\">Marcas</option>\\n<option value=\"episode\">Episodios</option>\\n</select>\\n</div>\\n<div class=\"input-group\">\\n<input type=\"text\" class=\"form-control search_term\" name=\"search_term\" id=\"search_term\">\\n<span class=\"input-group-btn\">\\n<button type=\"submit\" class=\"btn btn-default\"> <span class=\"glyphicon glyphicon-search\"></span></button>\\n</span>\\n</div>\\n</form>\\n<ul class=\"nav navbar-nav\">\\n<li><a href=\"/features/\">Conoce RadioCut</a></li>\\n<li class=\"dropdown\">\\n<a href=\"#\" class=\"dropdown-toggle\" data-toggle=\"dropdown\" role=\"button\" aria-expanded=\"false\">\\nExplora&nbsp;<i class=\"fa fa-caret-down\"></i>\\n</a>\\n<ul class=\"dropdown-menu\" role=\"menu\">\\n<li>\\n<a href=\"/search?type=radio\">\\nRadios\\n</a>\\n</li>\\n<li><a href=\"https://radiocut.fm/all/\">RadioCut Global</a></li>\\n</ul>\\n<li class=\"dropdown\">\\n<a href=\"#\" class=\"dropdown-toggle\" data-toggle=\"dropdown\" role=\"button\" aria-expanded=\"false\">\\nServicios&nbsp;<i class=\"fa fa-caret-down\"></i>\\n</a>\\n<ul class=\"dropdown-menu\" role=\"menu\">\\n<li><a href=\"/premium/\">Cuenta Premium y Plus</a></li>\\n<li><a href=\"/features/radios/\">Servicios para radios y programas</a></li>\\n<li><a href=\"/customsites/radioshowsite/new\" class=\"blanco\">Crea tu sitio</a></li>\\n<li><a href=\"/radiostationrequest/new/\">Solicitar carga de una radio nueva</a></li>\\n<li><a href=\"/list_request_radio/\">Ver listado de radios postuladas</a></li>\\n</ul>\\n<li class=\"dropdown\">\\n<a href=\"#\" class=\"dropdown-toggle\" data-toggle=\"dropdown\" role=\"button\" aria-expanded=\"false\">\\n<img src=\"https://static.radiocut.com.ar/images/blank.gif\" class=\"flag flag-ar\" alt=\"Argentina\" />\\n&nbsp;<i class=\"fa fa-caret-down\"></i>\\n</a>\\n<ul class=\"dropdown-menu\" role=\"menu\">\\n<li>\\n<a href=\"http://de.radiocut.fm\">\\n<img src=\"https://static.radiocut.com.ar/images/blank.gif\" class=\"flag flag-de\" alt=\"Alemania\" />\\nAlemania\\n</a>\\n</li>\\n<li>\\n<a href=\"http://bd.radiocut.fm\">\\n<img src=\"https://static.radiocut.com.ar/images/blank.gif\" class=\"flag flag-bd\" alt=\"Bangladesh\" />\\nBangladés\\n</a>\\n</li>\\n<li>\\n<a href=\"http://bo.radiocut.fm\">\\n<img src=\"https://static.radiocut.com.ar/images/blank.gif\" class=\"flag flag-bo\" alt=\"Bolivia\" />\\nBolivia\\n</a>\\n</li>\\n<li>\\n<a href=\"http://br.radiocut.fm\">\\n<img src=\"https://static.radiocut.com.ar/images/blank.gif\" class=\"flag flag-br\" alt=\"Brasil\" />\\nBrasil\\n</a>\\n</li>\\n<li>\\n<a href=\"http://cl.radiocut.fm\">\\n<img src=\"https://static.radiocut.com.ar/images/blank.gif\" class=\"flag flag-cl\" alt=\"Chile\" />\\nChile\\n</a>\\n</li>\\n<li>\\n<a href=\"http://co.radiocut.fm\">\\n<img src=\"https://static.radiocut.com.ar/images/blank.gif\" class=\"flag flag-co\" alt=\"Colombia\" />\\nColombia\\n</a>\\n</li>\\n<li>\\n<a href=\"http://farco.radiocut.fm\">\\n<img src=\"https://static.radiocut.com.ar/images/blank.gif\" class=\"flag flag-farco\" alt=\"Emisoras asociadas a FARCO\" />\\nEmisoras asociadas a FARCO\\n</a>\\n</li>\\n<li>\\n<a href=\"http://es.radiocut.fm\">\\n<img src=\"https://static.radiocut.com.ar/images/blank.gif\" class=\"flag flag-es\" alt=\"España\" />\\nEspaña\\n</a>\\n</li>\\n<li>\\n<a href=\"http://in.radiocut.fm\">\\n<img src=\"https://static.radiocut.com.ar/images/blank.gif\" class=\"flag flag-in\" alt=\"India\" />\\nIndia\\n</a>\\n</li>\\n<li>\\n<a href=\"http://id.radiocut.fm\">\\n<img src=\"https://static.radiocut.com.ar/images/blank.gif\" class=\"flag flag-id\" alt=\"Indonesia\" />\\nIndonesia\\n</a>\\n</li>\\n<li>\\n<a href=\"http://my.radiocut.fm\">\\n<img src=\"https://static.radiocut.com.ar/images/blank.gif\" class=\"flag flag-my\" alt=\"Malaysia\" />\\nMalasia\\n</a>\\n</li>\\n<li>\\n<a href=\"http://mx.radiocut.fm\">\\n<img src=\"https://static.radiocut.com.ar/images/blank.gif\" class=\"flag flag-mx\" alt=\"México\" />\\nMéxico\\n</a>\\n</li>\\n<li>\\n<a href=\"http://py.radiocut.fm\">\\n<img src=\"https://static.radiocut.com.ar/images/blank.gif\" class=\"flag flag-py\" alt=\"Paraguay\" />\\nParaguay\\n</a>\\n</li>\\n<li>\\n<a href=\"http://pe.radiocut.fm\">\\n<img src=\"https://static.radiocut.com.ar/images/blank.gif\" class=\"flag flag-pe\" alt=\"Perú\" />\\nPerú\\n</a>\\n</li>\\n<li>\\n<a href=\"http://ph.radiocut.fm\">\\n<img src=\"https://static.radiocut.com.ar/images/blank.gif\" class=\"flag flag-ph\" alt=\"Philippines\" />\\nFilipinas\\n</a>\\n</li>\\n<li>\\n<a href=\"http://sv.radiocut.fm\">\\n<img src=\"https://static.radiocut.com.ar/images/blank.gif\" class=\"flag flag-sv\" alt=\"Radio de El Salvador\" />\\nRadio de El Salvador\\n</a>\\n</li>\\n<li>\\n<a href=\"http://pa.radiocut.fm\">\\n<img src=\"https://static.radiocut.com.ar/images/blank.gif\" class=\"flag flag-pa\" alt=\"Radios Panamá\" />\\nRadios Panamá\\n</a>\\n</li>\\n<li>\\n<a href=\"http://uk.radiocut.fm\">\\n<img class=\"country-select-flag\" src=\"https://static.radiocut.com.ar/flags/uk.gif\" alt=\"Reino Unido\">\\nReino Unido\\n</a>\\n</li>\\n<li>\\n<a href=\"http://sg.radiocut.fm\">\\n<img src=\"https://static.radiocut.com.ar/images/blank.gif\" class=\"flag flag-sg\" alt=\"Singapore\" />\\nSingapur\\n</a>\\n</li>\\n<li>\\n<a href=\"http://tw.radiocut.fm\">\\n<img src=\"https://static.radiocut.com.ar/images/blank.gif\" class=\"flag flag-tw\" alt=\"Taiwán\" />\\nTaiwán\\n</a>\\n</li>\\n<li>\\n<a href=\"http://uy.radiocut.fm\">\\n<img src=\"https://static.radiocut.com.ar/images/blank.gif\" class=\"flag flag-uy\" alt=\"Uruguay\" />\\nUruguay\\n</a>\\n</li>\\n<li>\\n<a href=\"http://us.radiocut.fm\">\\n<img src=\"https://static.radiocut.com.ar/images/blank.gif\" class=\"flag flag-us\" alt=\"USA\" />\\nUSA\\n</a>\\n</li>\\n<li>\\n<a href=\"http://ve.radiocut.fm\">\\n<img src=\"https://static.radiocut.com.ar/images/blank.gif\" class=\"flag flag-ve\" alt=\"Venezuela\" />\\nVenezuela\\n</a>\\n</li>\\n<li>\\n<a href=\"https://radiocut.fm/all/\">\\n<i class=\"fa fa-globe\"></i>\\nRadioCut Global\\n</a>\\n</li>\\n</ul>\\n</ul>\\n<ul id=\"user_menu_items\" class=\"nav navbar-nav navbar-right\">\\n<li>\\n<a id=\"login_button\" href=\"/accounts/login-or-signup\">Ingresar</a>\\n</li>\\n</ul>\\n</div>\\n</div>\\n</nav>\\n<div class=\"container-fluid\">\\n<div class=\"row\">\\n<div class=\"col-md-12\">\\n</div>\\n<div class=\"col-md-12\">\\n<div style=\"text-align:center; clear: both; margin-top: 0px; margin-bottom: 0px;\" id=\"div-gpt-ad-top-leaderboard\" class>\\n</div>\\n</div>\\n</div>\\n<div class=\"row main_wrapper\">\\n<div id=\"contenido\" class=\"col-md-7\">\\n<h1>Resultados de búsqueda</h1>\\n<div class=\"row\">\\n<div class=\"col-sm-12\">\\n<strong>Ver </strong>\\n<span class=\"text-muted\">&nbsp;146 resultados</span>\\n</div>\\n</div>\\n<hr/>\\n<ul class=\"list-unstyled search_results\">\\n<li class=\"row\">\\n<div class=\"col-sm-2 col-xs-4\">\\n<a href=\"/audiocut/umf-parte-2-2014-dia-2-metro-22-02-2014/\">\\n<img class=\"img-thumbnail\" src=\"https://imgsvr.radiocut.site/get/crop/center/100/100/shows_logos/zukker.jpg\" alt=\"Logo de la recorte\" />\\n</a>\\n</div>\\n<div class=\"col-sm-10 col-xs-8\">\\n<div class=\"row\">\\n<div class=\"col-sm-12\">\\n<a href=\"/audiocut/umf-parte-2-2014-dia-2-metro-22-02-2014/\">UMF Parte 2 - 2014 - Dia 2 - Metro 22-02-2014</a>\\n<span class=\"text-muted\">Dur: 163:12</span>\\n<i class=\"fa fa-scissors fa-rotate-270 pull-right\"></i>\\n</div>\\n</div>\\n<div class=\"row hidden-xs\">\\n<p class=\"col-sm-12 description text-left\">UMF BS.AS. Metro</p>\\n</div>\\n<p>\\nhace 10 años, 5 meses\\n<a href=\"/user/tizianopaiz/\">por tizianopaiz</a>\\n- 2 reproducciones\\n</p>\\n</div>\\n</li>\\n<hr/>\\n<li class=\"row\">\\n<div class=\"col-sm-2 col-xs-4\">\\n<a href=\"/audiocut/denunciaron-a-meta-en-argentina-en-lateshow/\">\\n<img class=\"img-thumbnail\" src=\"https://imgsvr.radiocut.site/get/crop/center/100/100/cuts_logos/99/7a/997a6a1a-14a9-4b24-b23f-e7603badc7c7.jpg\" alt=\"Logo de la recorte\" />\\n</a>\\n</div>\\n<div class=\"col-sm-10 col-xs-8\">\\n<div class=\"row\">\\n<div class=\"col-sm-12\">\\n<a href=\"/audiocut/denunciaron-a-meta-en-argentina-en-lateshow/\">Denunciaron a Meta en la Argentina en #LateShow</a>\\n<span class=\"text-muted\">Dur: 04:37</span>\\n<i class=\"fa fa-scissors fa-rotate-270 pull-right\"></i>\\n</div>\\n</div>\\n<div class=\"row hidden-xs\">\\n<p class=\"col-sm-12 description text-left\">Denunciaron a Meta en la Argentina ante la Agencia de Acceso a la Información Pública para que la compañía aclare cómo preserva la intimidad de los datos de los usuarios, que usa para mejorar su inteligencia artificial por Augusto Fortunato </p>\\n</div>\\n<p>\\nhace 19 horas\\n<a href=\"/user/MLB/\">por MLB</a>\\n- 2 reproducciones\\n</p>\\n</div>\\n</li>\\n<hr/>\\n<li class=\"row\">\\n<div class=\"col-sm-2 col-xs-4\">\\n<a href=\"/audiocut/catalina-contartese-en-lateshow/\">\\n<img class=\"img-thumbnail\" src=\"https://imgsvr.radiocut.site/get/crop/center/100/100/cuts_logos/f6/6e/f66eee90-58f8-4643-8417-47d2f301a2db.jpg\" alt=\"Logo de la recorte\" />\\n</a>\\n</div>\\n<div class=\"col-sm-10 col-xs-8\">\\n<div class=\"row\">\\n<div class=\"col-sm-12\">\\n<a href=\"/audiocut/catalina-contartese-en-lateshow/\">Catalina Contartese en #LateShow </a>\\n<span class=\"text-muted\">Dur: 15:12</span>\\n<i class=\"fa fa-scissors fa-rotate-270 pull-right\"></i>\\n</div>\\n</div>\\n<div class=\"row hidden-xs\">\\n<p class=\"col-sm-12 description text-left\">El 9 de Agosto se estrena la comedia “Bajo Cero”, protagonizada por Federico Llerena, Catalina Contartese, Marcela Morales, Matias Lujan, Carola Santulario y Carmelo Gomez.<br/>Diseño Grafico: <a href=\"https://twitter.com/wave\" target=\"new\">@wave</a>.cs. Fotografía: Argenphoto. Produccion ejecutiva: Nano Monserrat. Prensa y Difusión: Alfredo Monserrat. Direccion Gral: Cristhian Quiroga.</p>\\n</div>\\n<p>\\nhace 19 horas\\n<a href=\"/user/MLB/\">por MLB</a>\\n- 2 reproducciones\\n</p>\\n</div>\\n</li>\\n<hr/>\\n<li class=\"row\">\\n<div class=\"col-sm-2 col-xs-4\">\\n<a href=\"/audiocut/comunicologo-daniel-zarate-ramirez-y-polemica-sobre-boxeadora-argelina/\">\\n<img class=\"img-thumbnail\" src=\"https://imgsvr.radiocut.site/get/crop/center/100/100/cuts_logos/34/56/34569b9d-dfbf-414a-9d56-1d1b48c0c26d.jpg\" alt=\"Logo de la recorte\" />\\n</a>\\n</div>\\n<div class=\"col-sm-10 col-xs-8\">\\n<div class=\"row\">\\n<div class=\"col-sm-12\">\\n<a href=\"/audiocut/comunicologo-daniel-zarate-ramirez-y-polemica-sobre-boxeadora-argelina/\">El comunicólogo Daniel Zárate Ramírez y la polémica sobre la boxeadora argelina.</a>\\n<span class=\"text-muted\">Dur: 17:24</span>\\n<i class=\"fa fa-scissors fa-rotate-270 pull-right\"></i>\\n</div>\\n</div>\\n<div class=\"row hidden-xs\">\\n<p class=\"col-sm-12 description text-left\">Las olimpiadas francesas no dejan de sorprendernos día a día, una serie de situaciones dejan a la organización de los juegos olimpicos muy mal parada por los graves errores cometidos.<br/>En el caso del boxeo la pugil Argelina fue cuestionada por su sexuallidad, cuando en realidad padece de una producción anormal de testorerona para una mujer. Imane Khelif quedó en el centro de las miradas de la comunidad en general.<br/>La falta de imparcialidad en algunas disciplinas.</p>\\n</div>\\n<p>\\nhace 1 día, 20 horas\\n<a href=\"/user/Mariadelujaningallinella/\">por Mariadelujaningallinella</a>\\n- 3 reproducciones\\n</p>\\n</div>\\n</li>\\n<hr/>\\n<li class=\"row\">\\n<div class=\"col-sm-2 col-xs-4\">\\n<a href=\"/audiocut/columna-rosita-sagray-sabado-sport-am-590-radio-continental-sabado-27jul24/\">\\n<img class=\"img-thumbnail\" src=\"https://imgsvr.radiocut.site/get/crop/center/100/100/cuts_logos/77/b3/77b3dc9b-6dbe-4884-a88e-d0bdea1a4fbb.jpg\" alt=\"Logo de la recorte\" />\\n</a>\\n</div>\\n<div class=\"col-sm-10 col-xs-8\">\\n<div class=\"row\">\\n<div class=\"col-sm-12\">\\n<a href=\"/audiocut/columna-rosita-sagray-sabado-sport-am-590-radio-continental-sabado-27jul24/\">COLUMNA DE ROSITA SAGRAY - SABADO SPORT -AM 590 RADIO CONTINENTAL -SABADO 27JUL24</a>\\n<span class=\"text-muted\">Dur: 05:15</span>\\n<i class=\"fa fa-scissors fa-rotate-270 pull-right\"></i>\\n</div>\\n</div>\\n<div class=\"row hidden-xs\">\\n<p class=\"col-sm-12 description text-left\">MENCIONES DE ESPECTACULOS TEATRALES: LA LLUVIA SEGUIRA CAYENDO - BECKETT TEATRO Y MENCIONES DE CATULO TANGO</p>\\n</div>\\n<p>\\nhace 1 semana\\n<a href=\"/user/rosita/\">por rosita</a>\\n- 2 reproducciones\\n</p>\\n</div>\\n</li>\\n<hr/>\\n<script async src=\"https://pagead2.googlesyndication.com/pagead/js/adsbygoogle.js\"></script>\\n<ins class=\"adsbygoogle\" style=\"display:block\" data-ad-format=\"fluid\" data-ad-layout-key=\"-h1+p-z-ej+ud\" data-ad-client=\"ca-pub-3630645806124191\" data-ad-slot=\"8362982357\"></ins>\\n<script>\\n(adsbygoogle = window.adsbygoogle || []).push({});\\n</script>\\n<hr/>\\n<li class=\"row\">\\n<div class=\"col-sm-2 col-xs-4\">\\n<a href=\"/audiocut/programa-buenas-razones-nacho-riverol/\">\\n<img class=\"img-thumbnail\" src=\"https://imgsvr.radiocut.site/get/crop/center/100/100/radio_logos/ba/c6/bac6bf5a-239c-4a27-8bd5-82ed0615ae46.png\" alt=\"Logo de la recorte\" />\\n</a>\\n</div>\\n<div class=\"col-sm-10 col-xs-8\">\\n<div class=\"row\">\\n<div class=\"col-sm-12\">\\n<a href=\"/audiocut/programa-buenas-razones-nacho-riverol/\">Programa Buenas Razones de Nacho Riverol</a>\\n<span class=\"text-muted\">Dur: 00:38</span>\\n<i class=\"fa fa-scissors fa-rotate-270 pull-right\"></i>\\n</div>\\n</div>\\n<div class=\"row hidden-xs\">\\n<p class=\"col-sm-12 description text-left\">Auspicios Agosto 202<br/></p>\\n</div>\\n<p>\\nhace 1 día, 1 hora\\n<a href=\"/user/Marialauraortega/\">por Marialauraortega</a>\\n- 1 reproducciones\\n</p>\\n</div>\\n</li>\\n<hr/>\\n<li class=\"row\">\\n<div class=\"col-sm-2 col-xs-4\">\\n<a href=\"/audiocut/columna-rosita-sagray-a-medio-camino-frecuencia-zero-fm92-5-lunes-29jul24/\">\\n<img class=\"img-thumbnail\" src=\"https://imgsvr.radiocut.site/get/crop/center/100/100/cuts_logos/0f/5e/0f5e8293-94d1-4651-a695-efecb3e0c8c6.jpg\" alt=\"Logo de la recorte\" />\\n</a>\\n</div>\\n<div class=\"col-sm-10 col-xs-8\">\\n<div class=\"row\">\\n<div class=\"col-sm-12\">\\n<a href=\"/audiocut/columna-rosita-sagray-a-medio-camino-frecuencia-zero-fm92-5-lunes-29jul24/\">COLUMNA DE ROSITA SAGRAY - A MEDIO CAMINO - FRECUENCIA ZERO - FM92.5 - LUNES 29JUL24</a>\\n<span class=\"text-muted\">Dur: 09:01</span>\\n<i class=\"fa fa-scissors fa-rotate-270 pull-right\"></i>\\n</div>\\n</div>\\n<div class=\"row hidden-xs\">\\n<p class=\"col-sm-12 description text-left\">MENCIONES DE ESPECTACULOS TEATRALES: LA LLUVIA SEGUIRA CAYENDO - MASTER ARAOZ - CARAS Y CARETAS 2037<br/>MENCIONES DE GASTRONOMIA: RECOMENDACIONS SOBRE LUGARES RECOMENDADOS EN INSTAGRAM POR INFLUENCERS - LA RABERIA - PUCARA</p>\\n</div>\\n<p>\\nhace 5 días, 12 horas\\n<a href=\"/user/rosita/\">por rosita</a>\\n- 3 reproducciones\\n</p>\\n</div>\\n</li>\\n<hr/>\\n<li class=\"row\">\\n<div class=\"col-sm-2 col-xs-4\">\\n<a href=\"/audiocut/nancy-duplaa-sobre-goyo-y-su-reencuentro-con-quique/\">\\n<img class=\"img-thumbnail\" src=\"https://imgsvr.radiocut.site/get/crop/center/100/100/radio_logos/32/52/32521a14-81d8-4f78-9fb5-e2a346d73445.jpg\" alt=\"Logo de la recorte\" />\\n</a>\\n</div>\\n<div class=\"col-sm-10 col-xs-8\">\\n<div class=\"row\">\\n<div class=\"col-sm-12\">\\n<a href=\"/audiocut/nancy-duplaa-sobre-goyo-y-su-reencuentro-con-quique/\">Nancy Dupláa sobre Goyo y su reencuentro con Quique</a>\\n<span class=\"text-muted\">Dur: 50:17</span>\\n<i class=\"fa fa-scissors fa-rotate-270 pull-right\"></i>\\n</div>\\n</div>\\n<div class=\"row hidden-xs\">\\n<p class=\"col-sm-12 description text-left\">Hoy nos emociona compartir una entrevista muy especial: después de 25 años, Quique entrevistó a su hermana, Nancy Dupláa. Hablaron sobre la astrología, la importancia que tiene la música dentro de la vida de Nancy, y por supuesto, recordaron anécdotas de su infancia. Además, charlaron junto a Lurri del estreno de \"Goyo\", un protagónico que tiene junto a Nicolás Furtado, en el que un joven con asperger se enamora profundamente de su compañera de trabajo, que lidia con su ex marido violento.</p>\\n</div>\\n<p>\\nhace 23 horas\\n<a href=\"/user/soylurri/\">por soylurri</a>\\n- 6 reproducciones\\n</p>\\n</div>\\n</li>\\n<hr/>\\n<li class=\"row\">\\n<div class=\"col-sm-2 col-xs-4\">\\n<a href=\"/audiocut/hora-saludable-fm-106-7-milenium-sabado-03ago24/\">\\n<img class=\"img-thumbnail\" src=\"https://imgsvr.radiocut.site/get/crop/center/100/100/radio_logos/logo_1.png\" alt=\"Logo de la recorte\" />\\n</a>\\n</div>\\n<div class=\"col-sm-10 col-xs-8\">\\n<div class=\"row\">\\n<div class=\"col-sm-12\">\\n<a href=\"/audiocut/hora-saludable-fm-106-7-milenium-sabado-03ago24/\">HORA SALUDABLE - FM 106.7 MILENIUM - SABADO 03AGO24</a>\\n<span class=\"text-muted\">Dur: 14:12</span>\\n<i class=\"fa fa-scissors fa-rotate-270 pull-right\"></i>\\n</div>\\n</div>\\n<div class=\"row hidden-xs\">\\n<p class=\"col-sm-12 description text-left\">GABY ZAGORDO ENTREVISTA AL DR. HUGO FRANZETTI DIRECTOR DE HF CENTER - REFERENTE EN MATERIA DE MEDICINA ORTOMOLECULAR</p>\\n</div>\\n<p>\\nhace 20 horas\\n<a href=\"/user/rosita/\">por rosita</a>\\n- 3 reproducciones\\n</p>\\n</div>\\n</li>\\n<hr/>\\n<li class=\"row\">\\n<div class=\"col-sm-2 col-xs-4\">\\n<a href=\"/audiocut/auspicio-merck-programa-buenas-razones-ignacio-riverol/\">\\n<img class=\"img-thumbnail\" src=\"https://imgsvr.radiocut.site/get/crop/center/100/100/radio_logos/ba/c6/bac6bf5a-239c-4a27-8bd5-82ed0615ae46.png\" alt=\"Logo de la recorte\" />\\n</a>\\n</div>\\n<div class=\"col-sm-10 col-xs-8\">\\n<div class=\"row\">\\n<div class=\"col-sm-12\">\\n<a href=\"/audiocut/auspicio-merck-programa-buenas-razones-ignacio-riverol/\">Auspicio Merck Programa Buenas Razones de Ignacio Riverol</a>\\n<span class=\"text-muted\">Dur: 00:33</span>\\n<i class=\"fa fa-scissors fa-rotate-270 pull-right\"></i>\\n</div>\\n</div>\\n<div class=\"row hidden-xs\">\\n<p class=\"col-sm-12 description text-left\">Agosto 2024</p>\\n</div>\\n<p>\\nhace 1 día, 1 hora\\n<a href=\"/user/Marialauraortega/\">por Marialauraortega</a>\\n- 1 reproducciones\\n</p>\\n</div>\\n</li>\\n<hr/>\\n<li class=\"row\">\\n<div class=\"col-sm-2 col-xs-4\">\\n<a href=\"/audiocut/educacion-en-era-del-conocimiento-por-patrizio-bianchi/\">\\n<img class=\"img-thumbnail\" src=\"https://imgsvr.radiocut.site/get/crop/center/100/100/cuts_logos/45/25/45256422-ec68-424d-ac60-d17307e6c2a6.png\" alt=\"Logo de la recorte\" />\\n</a>\\n</div>\\n<div class=\"col-sm-10 col-xs-8\">\\n<div class=\"row\">\\n<div class=\"col-sm-12\">\\n<a href=\"/audiocut/educacion-en-era-del-conocimiento-por-patrizio-bianchi/\">La Educación en la era del conocimiento, por Patrizio Bianchi</a>\\n<span class=\"text-muted\">Dur: 18:42</span>\\n<i class=\"fa fa-scissors fa-rotate-270 pull-right\"></i>\\n</div>\\n</div>\\n<div class=\"row hidden-xs\">\\n<p class=\"col-sm-12 description text-left\">Federico Poli dialogó con el profesor y economista Patrizio Bianchi, graduado en Ciencias Políticas por la Universidad de Bolonia, que se especializó en Economía y Política Industrial en la London School of Economics.<br/>Bianchi fue ministro de Educación en el gobierno de Mario Draghi y actualmente tiene una cátedra UNESCO y es profesor emérito en la Universidad de Ferrara.<br/>Durante la conversación, expresó su temor a una posible guerra en Europa debido a la situación en Ucrania y cómo esto afecta la seguridad y las inversiones, en tanto que la crisis también está marcada por desafíos económicos, así como por el ascenso de movimientos de extrema derecha.<br/>Bianchi enfatizó la importancia de la educación y las inversiones en investigación para el desarrollo a largo plazo, y remarcó la necesidad de una federación europea al tiempo que detalló cómo la inteligencia artificial impactará la educación y el trabajo en el futuro.<br/>Por último, señaló la importancia de adaptar los modelos educativos a los nuevos tiempos y fomentar la capacidad de aprendizaje continuo.</p>\\n</div>\\n<p>\\nhace 23 horas\\n<a href=\"/user/ElTransbordadoradio/\">por ElTransbordadoradio</a>\\n- 2 reproducciones\\n</p>\\n</div>\\n</li>\\n<hr/>\\n<li class=\"row\">\\n<div class=\"col-sm-2 col-xs-4\">\\n<a href=\"/audiocut/anais-castro-en-20-anos-lollapalooza-usa-programa-especial/\">\\n<img class=\"img-thumbnail\" src=\"https://imgsvr.radiocut.site/get/crop/center/100/100/cuts_logos/61/5a/615a1557-92d3-4e3d-a7d3-72869f91c503.jpg\" alt=\"Logo de la recorte\" />\\n</a>\\n</div>\\n<div class=\"col-sm-10 col-xs-8\">\\n<div class=\"row\">\\n<div class=\"col-sm-12\">\\n<a href=\"/audiocut/anais-castro-en-20-anos-lollapalooza-usa-programa-especial/\">Anais Castro en los 20 años de Lollapalooza USA (Programa Especial)</a>\\n<span class=\"text-muted\">Dur: 52:35</span>\\n<i class=\"fa fa-scissors fa-rotate-270 pull-right\"></i>\\n</div>\\n</div>\\n<div class=\"row hidden-xs\">\\n<p class=\"col-sm-12 description text-left\">Emitido el 3/8/2024 en LRL322 Urbana Play 104.3FM.</p>\\n</div>\\n<p>\\nhace 21 horas\\n<a href=\"/user/ZZNoficial/\">por ZZNoficial</a>\\n- 3 reproducciones\\n</p>\\n</div>\\n</li>\\n<hr/>\\n<li class=\"row\">\\n<div class=\"col-sm-2 col-xs-4\">\\n<a href=\"/audiocut/carlos-mariscal-mejor-cronistas-parlamentario-argentina/\">\\n<img class=\"img-thumbnail\" src=\"https://imgsvr.radiocut.site/get/crop/center/100/100/cuts_logos/b6/a8/b6a8a2d9-05e0-44c9-ad6b-fcc33bda28f6.jpg\" alt=\"Logo de la recorte\" />\\n</a>\\n</div>\\n<div class=\"col-sm-10 col-xs-8\">\\n<div class=\"row\">\\n<div class=\"col-sm-12\">\\n<a href=\"/audiocut/carlos-mariscal-mejor-cronistas-parlamentario-argentina/\">Carlos Mariscal el mejor cronistas parlamentario de Argentina</a>\\n<span class=\"text-muted\">Dur: 11:35</span>\\n<i class=\"fa fa-scissors fa-rotate-270 pull-right\"></i>\\n</div>\\n</div>\\n<div class=\"row hidden-xs\">\\n<p class=\"col-sm-12 description text-left\">Un entrañable amigo, la mejor información desde# el Congreso de la Nación.</p>\\n</div>\\n<p>\\nhace 1 día, 20 horas\\n<a href=\"/user/Mariadelujaningallinella/\">por Mariadelujaningallinella</a>\\n- 3 reproducciones\\n</p>\\n</div>\\n</li>\\n<hr/>\\n<script async src=\"https://pagead2.googlesyndication.com/pagead/js/adsbygoogle.js\"></script>\\n<ins class=\"adsbygoogle\" style=\"display:block\" data-ad-format=\"fluid\" data-ad-layout-key=\"-h1+p-z-ej+ud\" data-ad-client=\"ca-pub-3630645806124191\" data-ad-slot=\"8362982357\"></ins>\\n<script>\\n(adsbygoogle = window.adsbygoogle || []).push({});\\n</script>\\n<hr/>\\n<li class=\"row\">\\n<div class=\"col-sm-2 col-xs-4\">\\n<a href=\"/audiocut/john-mayall-en-planeta-blues-por-claudio-gabis/\">\\n<img class=\"img-thumbnail\" src=\"https://imgsvr.radiocut.site/get/crop/center/100/100/cuts_logos/9d/ba/9dba81f7-7d85-4082-9670-6b28b21cfcd3.jpg\" alt=\"Logo de la recorte\" />\\n</a>\\n</div>\\n<div class=\"col-sm-10 col-xs-8\">\\n<div class=\"row\">\\n<div class=\"col-sm-12\">\\n<a href=\"/audiocut/john-mayall-en-planeta-blues-por-claudio-gabis/\">John Mayall en Planeta Blues, por Claudio Gabis </a>\\n<span class=\"text-muted\">Dur: 08:26</span>\\n<i class=\"fa fa-scissors fa-rotate-270 pull-right\"></i>\\n</div>\\n</div>\\n<div class=\"row hidden-xs\">\\n<p class=\"col-sm-12 description text-left\">Con motivo de la partida de John Mayall el 22 de julio pasado, Claudio Gabis repasa el legado del músico británico que tuvo un rol clave en la expansión del blues en su país.<br/>Gabis seleccionó una pieza de la agrupación John Mayall\\'s Blues Breakers, All Your Love, que contó con la participación de Eric Clapton en la guitarra.<br/>Un sentido y eléctrico homenaje a una figura central del resurgimiento del blues a partir de la década del \\'60. </p>\\n</div>\\n<p>\\nhace 22 horas\\n<a href=\"/user/ElTransbordadoradio/\">por ElTransbordadoradio</a>\\n- 5 reproducciones\\n</p>\\n</div>\\n</li>\\n<hr/>\\n<li class=\"row\">\\n<div class=\"col-sm-2 col-xs-4\">\\n<a href=\"/audiocut/dialogo-internacional-03-08-24/\">\\n<img class=\"img-thumbnail\" src=\"https://imgsvr.radiocut.site/get/crop/center/100/100/shows_logos/9a/c9/9ac985be-e015-440e-95e0-6f998c6e6867.jpg\" alt=\"Logo de la recorte\" />\\n</a>\\n</div>\\n<div class=\"col-sm-10 col-xs-8\">\\n<div class=\"row\">\\n<div class=\"col-sm-12\">\\n<a href=\"/audiocut/dialogo-internacional-03-08-24/\">Diálogo Internacional 03.08.24</a>\\n<span class=\"text-muted\">Dur: 115:22</span>\\n<i class=\"fa fa-scissors fa-rotate-270 pull-right\"></i>\\n</div>\\n</div>\\n<div class=\"row hidden-xs\">\\n<p class=\"col-sm-12 description text-left\">Diálogo Internacional 03.08.24</p>\\n</div>\\n<p>\\nhace 16 horas\\n<a href=\"/user/somosradio/\">por somosradio</a>\\n- 7 reproducciones\\n</p>\\n</div>\\n</li>\\n<hr/>\\n<li class=\"row\">\\n<div class=\"col-sm-2 col-xs-4\">\\n<a href=\"/audiocut/ser-feriante-es-un-parametro-identidad-en-conurbano-sebastian-russo/\">\\n<img class=\"img-thumbnail\" src=\"https://imgsvr.radiocut.site/get/crop/center/100/100/cuts_logos/38/7c/387cc5ae-4d79-46e3-8929-646ed356f139.jpg\" alt=\"Logo de la recorte\" />\\n</a>\\n</div>\\n<div class=\"col-sm-10 col-xs-8\">\\n<div class=\"row\">\\n<div class=\"col-sm-12\">\\n<a href=\"/audiocut/ser-feriante-es-un-parametro-identidad-en-conurbano-sebastian-russo/\">Ser feriante es un parámetro de identidad en el conurbano- Sebastián Russo</a>\\n<span class=\"text-muted\">Dur: 17:17</span>\\n<i class=\"fa fa-scissors fa-rotate-270 pull-right\"></i>\\n</div>\\n</div>\\n<div class=\"row hidden-xs\">\\n<p class=\"col-sm-12 description text-left\"># Columna de Conurbanos a cargo de <a href=\"https://twitter.com/sebastianrussob\" target=\"new\">@sebastianrussob</a>autista en <a href=\"https://twitter.com/radiopulki\" target=\"new\">@radiopulki</a> en <a href=\"https://twitter.com/radioulaplata\" target=\"new\">@radioulaplata</a><br/># Hoy nos acercamos a una práctica que se expresa en el ámbito popular, que es la feria. Esta feria en particular se llama Lxs Caracolxs y se desarrolla en San Miguel en el norte del gran Buenos Aires.<br/># Es un espacio de sociabilidad, de encuentro y de resistencia económica, en tiempos como el que atravesamos, que sufren cierta estigmatización sobre todo si se desarrolla en las calles de los conurbanos. En grandes ciudades se la reemplaza por lugares cerrados y exclusivos como la feria de las naciones o la feria del libro.<br/># Estas ferias configuran un parámetro identitario que en los conurbanos crecen y proliferan. Recomiendo una película de Julíán D\\'Angiolillo, Hacerme feriante, donde el personaje es un ser asociado al hacer, al conversar, donde el rol del dinero es secundario. Lo central está asociado a ocupar el espacio, pasear, comer, compartir. Está presente el acto de generar comunidad, tan importante en momentos como este.<br/># En San Miguel, Lxs Caracolxs, tendrá su tercera edición en San Miguel, organizado por Ojo negro comunicación conurbana. Espacio de música, lecturas y de feria. <br/># Compartimos una charla con Lucila Escobar <a href=\"https://twitter.com/lucila_geowika\" target=\"new\">@lucila_geowika</a>, profesora de Geografía en escuelas secundarias y en el nivel terciario y fotógrafa. Sus materiales son presentados en la feria. Nos cuenta que la Geografía tiene una carga visual enorme. En las clases de secundarias presentamos imágenes de paisajes, donde se les pide a lxs estudiantes la descripción de lo que ven y el lugar geográfico. Por lo general asocian las fotos con lugares geográficos lejanos, asociados a países europeos o de América del Norte. La sorpresa es que cuando giramos las fotos esos paisajes son lugares de nuestro país. Esto proiduce un shock que rompe la posibilidad de pensar lugares.<br/>En el nivel terciario sugiero traer fotos de los lugares que habitualmente recorren y que permite poner en tensión aquella asociación de lo bello asociado con lo lejano.<br/># En la feria hay una puesta en acto de la comunidad. Ser feriante es una acción comunal.<br/></p>\\n</div>\\n<p>\\nhace 1 día\\n<a href=\"/user/Pulki_AM1390/\">por Pulki_AM1390</a>\\n- 4 reproducciones\\n</p>\\n</div>\\n</li>\\n<hr/>\\n<li class=\"row\">\\n<div class=\"col-sm-2 col-xs-4\">\\n<a href=\"/audiocut/anibal-valenti-en-rivadavia-rosario-9093/\">\\n<img class=\"img-thumbnail\" src=\"https://imgsvr.radiocut.site/get/crop/center/100/100/radio_logos/cd/72/cd7289f9-21da-4ed6-99cf-30e09bb50f56.jpg\" alt=\"Logo de la recorte\" />\\n</a>\\n</div>\\n<div class=\"col-sm-10 col-xs-8\">\\n<div class=\"row\">\\n<div class=\"col-sm-12\">\\n<a href=\"/audiocut/anibal-valenti-en-rivadavia-rosario-9093/\">Aníbal Valenti en Rivadavia Rosario </a>\\n<span class=\"text-muted\">Dur: 115:06</span>\\n<i class=\"fa fa-scissors fa-rotate-270 pull-right\"></i>\\n</div>\\n</div>\\n<div class=\"row hidden-xs\">\\n<p class=\"col-sm-12 description text-left\">Programa 3 de agosto 2024</p>\\n</div>\\n<p>\\nhace 21 horas\\n<a href=\"/user/romina.capella341/\">por romina.capella341</a>\\n- 3 reproducciones\\n</p>\\n</div>\\n</li>\\n<hr/>\\n<li class=\"row\">\\n<div class=\"col-sm-2 col-xs-4\">\\n<a href=\"/audiocut/valentin-en-rivadavia-rosario-1/\">\\n<img class=\"img-thumbnail\" src=\"https://imgsvr.radiocut.site/get/crop/center/100/100/radio_logos/cd/72/cd7289f9-21da-4ed6-99cf-30e09bb50f56.jpg\" alt=\"Logo de la recorte\" />\\n</a>\\n</div>\\n<div class=\"col-sm-10 col-xs-8\">\\n<div class=\"row\">\\n<div class=\"col-sm-12\">\\n<a href=\"/audiocut/valentin-en-rivadavia-rosario-1/\">Aníbal Valenti en radio Rivadavia Rosario </a>\\n<span class=\"text-muted\">Dur: 115:12</span>\\n<i class=\"fa fa-scissors fa-rotate-270 pull-right\"></i>\\n</div>\\n</div>\\n<div class=\"row hidden-xs\">\\n<p class=\"col-sm-12 description text-left\">Programa 3 de agosto </p>\\n</div>\\n<p>\\nhace 21 horas\\n<a href=\"/user/romina.capella341/\">por romina.capella341</a>\\n- 8 reproducciones\\n</p>\\n</div>\\n</li>\\n<hr/>\\n<li class=\"row\">\\n<div class=\"col-sm-2 col-xs-4\">\\n<a href=\"/audiocut/intersticios-por-marcelo-sztrum-primera-entrega/\">\\n<img class=\"img-thumbnail\" src=\"https://imgsvr.radiocut.site/get/crop/center/100/100/cuts_logos/4a/f4/4af4addc-99f0-4e1f-8db7-70d891ea418a.png\" alt=\"Logo de la recorte\" />\\n</a>\\n</div>\\n<div class=\"col-sm-10 col-xs-8\">\\n<div class=\"row\">\\n<div class=\"col-sm-12\">\\n<a href=\"/audiocut/intersticios-por-marcelo-sztrum-primera-entrega/\">Intersticios, por Marcelo Sztrum: Primera entrega</a>\\n<span class=\"text-muted\">Dur: 09:48</span>\\n<i class=\"fa fa-scissors fa-rotate-270 pull-right\"></i>\\n</div>\\n</div>\\n<div class=\"row hidden-xs\">\\n<p class=\"col-sm-12 description text-left\">Federico Poli presenta un segmento muy especial de El Transbordador, \\'Intersticios, las cintas encontradas del profesor Marcelo Sztrum\\'.<br/>En esta primera entrega, el diálogo atemporal nos enfrenta al dilema del autor y su obra (extensa o no). <br/>Octavio Paz, Juan Rulfo y César Aira se debaten y polemizan en el universo íntimo del profesor Sztrum.</p>\\n</div>\\n<p>\\nhace 22 horas\\n<a href=\"/user/ElTransbordadoradio/\">por ElTransbordadoradio</a>\\n- 6 reproducciones\\n</p>\\n</div>\\n</li>\\n<hr/>\\n<li class=\"row\">\\n<div class=\"col-sm-2 col-xs-4\">\\n<a href=\"/audiocut/duracion-peliculas-en-columna-rosario-fraga/\">\\n<img class=\"img-thumbnail\" src=\"https://imgsvr.radiocut.site/get/crop/center/100/100/cuts_logos/bf/83/bf83e768-d2ef-4b33-b875-fddeaf5cca74.png\" alt=\"Logo de la recorte\" />\\n</a>\\n</div>\\n<div class=\"col-sm-10 col-xs-8\">\\n<div class=\"row\">\\n<div class=\"col-sm-12\">\\n<a href=\"/audiocut/duracion-peliculas-en-columna-rosario-fraga/\">La duración de las películas, en la columna de Rosario Fraga</a>\\n<span class=\"text-muted\">Dur: 08:46</span>\\n<i class=\"fa fa-scissors fa-rotate-270 pull-right\"></i>\\n</div>\\n</div>\\n<div class=\"row hidden-xs\">\\n<p class=\"col-sm-12 description text-left\">En su columna de cine, Rosario Fraga realiza un recorrido histórico para abordar la duración de las películas en perspectiva.<br/>Las diferencias artísticas y comerciales entre directores y productores, sumado a dinámica actual, complejizada por la irrupción de las plataformas.</p>\\n</div>\\n<p>\\nhace 22 horas\\n<a href=\"/user/ElTransbordadoradio/\">por ElTransbordadoradio</a>\\n- 3 reproducciones\\n</p>\\n</div>\\n</li>\\n<hr/>\\n<li class=\"row\">\\n<div class=\"col-sm-2 col-xs-4\">\\n<a href=\"/audiocut/identitango-es-ian-ferioli-y-su-quinteto/\">\\n<img class=\"img-thumbnail\" src=\"https://imgsvr.radiocut.site/get/crop/center/100/100/cuts_logos/90/66/9066f367-b1bc-4ece-b6d5-9712d4083ed5.jpg\" alt=\"Logo de la recorte\" />\\n</a>\\n</div>\\n<div class=\"col-sm-10 col-xs-8\">\\n<div class=\"row\">\\n<div class=\"col-sm-12\">\\n<a href=\"/audiocut/identitango-es-ian-ferioli-y-su-quinteto/\">Identitango es Ian Ferioli y su quinteto</a>\\n<span class=\"text-muted\">Dur: 12:59</span>\\n<i class=\"fa fa-scissors fa-rotate-270 pull-right\"></i>\\n</div>\\n</div>\\n<div class=\"row hidden-xs\">\\n<p class=\"col-sm-12 description text-left\">Avanzamos un la vida de Ian, sus composiciones, el amor por la música y el respeto por los grandes del tango.<br/>El 24 de Agosto Identitango en el Cento Cultural Atlas, Mitre 645 :en la ciudad de Rosario.</p>\\n</div>\\n<p>\\nhace 1 día, 19 horas\\n<a href=\"/user/Mariadelujaningallinella/\">por Mariadelujaningallinella</a>\\n- 2 reproducciones\\n</p>\\n</div>\\n</li>\\n<hr/>\\n<script async src=\"https://pagead2.googlesyndication.com/pagead/js/adsbygoogle.js\"></script>\\n<ins class=\"adsbygoogle\" style=\"display:block\" data-ad-format=\"fluid\" data-ad-layout-key=\"-h1+p-z-ej+ud\" data-ad-client=\"ca-pub-3630645806124191\" data-ad-slot=\"8362982357\"></ins>\\n<script>\\n(adsbygoogle = window.adsbygoogle || []).push({});\\n</script>\\n<hr/>\\n<li class=\"row\">\\n<div class=\"col-sm-2 col-xs-4\">\\n<a href=\"/audiocut/ajuste-en-conicet-desvinculacion-anticipada-becarios-posdoctorales/\">\\n<img class=\"img-thumbnail\" src=\"https://imgsvr.radiocut.site/get/crop/center/100/100/shows_logos/f3/b1/f3b11ac0-5923-4e98-8bd4-3c05b35b99cb.jpg\" alt=\"Logo de la recorte\" />\\n</a>\\n</div>\\n<div class=\"col-sm-10 col-xs-8\">\\n<div class=\"row\">\\n<div class=\"col-sm-12\">\\n<a href=\"/audiocut/ajuste-en-conicet-desvinculacion-anticipada-becarios-posdoctorales/\">Ajuste en el CONICET - Desvinculación anticipada de becarios\\xa0posdoctorales</a>\\n<span class=\"text-muted\">Dur: 18:09</span>\\n<i class=\"fa fa-scissors fa-rotate-270 pull-right\"></i>\\n</div>\\n</div>\\n<div class=\"row hidden-xs\">\\n<p class=\"col-sm-12 description text-left\">Entrevista sobre la situación del CONICET. En particular, sobre la cancelación anticipada de becas posdoctorales que esta semana dejó sin trabajo a más de 200 científicos. Estas becas, que debían durar hasta la publicación de los resultados de la convocatoria actual para el ingreso a la Carrera del Investigador Científico (estimada para mediados de 2025), fueron interrumpidas este miércoles 31/7 en el marco del ajuste que sufre el organismo, que ha implicado también el otorgamiento de cientos de becas nuevas menos, el congelamiento de las altas de personal ya seleccionado y el despido de personal administrativo, entre otras medidas. Claudio Martínez conversa con Pamela Brownell, integrante del colectivo de (ex)becarios posdoctorales afectados en el programa Laboratorio de Ideas de Radio\\xa0Provincia.</p>\\n</div>\\n<p>\\nhace 18 horas\\n<a href=\"/user/ciencia.cooperativa/\">por ciencia.cooperativa</a>\\n- 7 reproducciones\\n</p>\\n</div>\\n</li>\\n<hr/>\\n<li class=\"row\">\\n<div class=\"col-sm-2 col-xs-4\">\\n<a href=\"/audiocut/juanchi-baleiron-en-eternamente-beatles-en-estudios-radio-del-plata/\">\\n<img class=\"img-thumbnail\" src=\"https://imgsvr.radiocut.site/get/crop/center/100/100/shows_logos/08/04/08048900-7255-4398-8c80-50ddf378d9d6.jpg\" alt=\"Logo de la recorte\" />\\n</a>\\n</div>\\n<div class=\"col-sm-10 col-xs-8\">\\n<div class=\"row\">\\n<div class=\"col-sm-12\">\\n<a href=\"/audiocut/juanchi-baleiron-en-eternamente-beatles-en-estudios-radio-del-plata/\">📻 Juanchi Baleirón en Eternamente Beatles en los estudios de Radio Del Plata</a>\\n<span class=\"text-muted\">Dur: 79:00</span>\\n<i class=\"fa fa-scissors fa-rotate-270 pull-right\"></i>\\n</div>\\n</div>\\n<div class=\"row hidden-xs\">\\n<p class=\"col-sm-12 description text-left\">📻 Juanchi Baleirón en Eternamente Beatles en los estudios de Radio Del Plata</p>\\n</div>\\n<p>\\nhace 14 horas\\n<a href=\"/user/RedesAMdelPlata/\">por RedesAMdelPlata</a>\\n- 4 reproducciones\\n</p>\\n</div>\\n</li>\\n<hr/>\\n<li class=\"row\">\\n<div class=\"col-sm-2 col-xs-4\">\\n<a href=\"/audiocut/guillermo-martin-caviasca-historiador-y-especialista-en-politica-internacional/\">\\n<img class=\"img-thumbnail\" src=\"https://imgsvr.radiocut.site/get/crop/center/100/100/cuts_logos/cd/f1/cdf1878b-a156-4a31-8483-a861d95207a5.jpg\" alt=\"Logo de la recorte\" />\\n</a>\\n</div>\\n<div class=\"col-sm-10 col-xs-8\">\\n<div class=\"row\">\\n<div class=\"col-sm-12\">\\n<a href=\"/audiocut/guillermo-martin-caviasca-historiador-y-especialista-en-politica-internacional/\">GUILLERMO MARTIN CAVIASCA - HISTORIADOR Y ESPECIALISTA EN POLITICA INTERNACIONAL </a>\\n<span class=\"text-muted\">Dur: 25:03</span>\\n<i class=\"fa fa-scissors fa-rotate-270 pull-right\"></i>\\n</div>\\n</div>\\n<div class=\"row hidden-xs\">\\n<p class=\"col-sm-12 description text-left\">TRIUNFO DEL MADURO EN LAS ELECCIONES EN VENEZUELA</p>\\n</div>\\n<p>\\nhace 20 horas\\n<a href=\"/user/EMPODERADOS.CFK/\">por EMPODERADOS.CFK</a>\\n- 13 reproducciones\\n</p>\\n</div>\\n</li>\\n<hr/>\\n<li class=\"row\">\\n<div class=\"col-sm-2 col-xs-4\">\\n<a href=\"/audiocut/claudio-bustelo-secretario-prensa-asociacion-bancaria-1/\">\\n<img class=\"img-thumbnail\" src=\"https://imgsvr.radiocut.site/get/crop/center/100/100/cuts_logos/58/57/58573480-b442-43d7-82ae-3403357be8fa.jpg\" alt=\"Logo de la recorte\" />\\n</a>\\n</div>\\n<div class=\"col-sm-10 col-xs-8\">\\n<div class=\"row\">\\n<div class=\"col-sm-12\">\\n<a href=\"/audiocut/claudio-bustelo-secretario-prensa-asociacion-bancaria-1/\">CLAUDIO BUSTELO SECRETARIO DE PRENSA DE LA ASOCIACIÓN BANCARIA.</a>\\n<span class=\"text-muted\">Dur: 10:46</span>\\n<i class=\"fa fa-scissors fa-rotate-270 pull-right\"></i>\\n</div>\\n</div>\\n<div class=\"row hidden-xs\">\\n<p class=\"col-sm-12 description text-left\">En un escenario en donde distintos indicadores económicos y sociales se van agravando, desde Trabajo y Vida Cotidiana consultamos la opinión de distintos referentes gremiales, esta vez estamos comunicados con el Secretario Gremial de la Asociación Bancaria Claudio Bustelo, analiza la situación general de la actual coyuntura y las novedades habidas en la actividad bancaria. En particular la nueva disposición flexibilizadora del Banco Central en la llamada corresponsalías bancarias. También hablo sobre la medida cautelar presentada ante la justicia por parte de la Asociación Bancaria. Sobre las respuestas que el movimiento obrero esta planificando para el 7 de agosto, en la tradicional jornada de San Cayetano. en la basílica del barrio de Liniers.</p>\\n</div>\\n<p>\\nhace 3 días, 21 horas\\n<a href=\"/user/jorge_alberto4/\">por jorge_alberto4</a>\\n- 3 reproducciones\\n</p>\\n</div>\\n</li>\\n<hr/>\\n<li class=\"row\">\\n<div class=\"col-sm-2 col-xs-4\">\\n<a href=\"/audiocut/nuestra-nacion-esta-siendo-bloqueada-por-poder-imperial-lilia-ferrer-morillo/\">\\n<img class=\"img-thumbnail\" src=\"https://imgsvr.radiocut.site/get/crop/center/100/100/cuts_logos/98/4d/984dd8c9-fff6-461c-bf73-58245c99b8b5.jpg\" alt=\"Logo de la recorte\" />\\n</a>\\n</div>\\n<div class=\"col-sm-10 col-xs-8\">\\n<div class=\"row\">\\n<div class=\"col-sm-12\">\\n<a href=\"/audiocut/nuestra-nacion-esta-siendo-bloqueada-por-poder-imperial-lilia-ferrer-morillo/\">Nuestra Nación está siendo bloqueada por el poder imperial- Lilia Ferrer Morillo</a>\\n<span class=\"text-muted\">Dur: 28:27</span>\\n<i class=\"fa fa-scissors fa-rotate-270 pull-right\"></i>\\n</div>\\n</div>\\n<div class=\"row hidden-xs\">\\n<p class=\"col-sm-12 description text-left\">Entrevistamos a la escritora, analista política, militante afrodescendiente venezolana <a href=\"https://twitter.com/liliaferrermori\" target=\"new\">@liliaferrermori</a>llo en <a href=\"https://twitter.com/radiopulki\" target=\"new\">@radiopulki</a> para <a href=\"https://twitter.com/radioulaplata\" target=\"new\">@radioulaplata</a><br/># En primer lugar nuestra patria es de paz. Exigimos que se respeten nuestros procesos democráticos. Denunciamos los intentos de intromisión en nuestros asuntos internos. No solo se inmiscuyen en nuestros asuntos, sino que buscan darle materialidad.<br/># La nuestra es una nación bloqueada. Hay guerras de cuarta generación, guerras híbridas. Venezuela está sometida a esas guerras. Venezuela ha podido derrotar inflaciones, bloqueos de recursos. Nos sometieron a partir de que el ex presidente de EEUU Obama calificó a Venezuela de peligrosa.<br/># Venezuela no tiene antecedentes de migraciones, por el contrario ha recibido poblaciones perseguidas por las dictaduras. Los argentinos lo saben..<br/># Venezuela tiene reservas de oro, de petróleo, de minerales estratégicos. Será el país de mayor crecimiento en la región, lo dijo el FMI. Vladimir Putín ha invitado a Maduro a la próxima asamblea de los Brics.<br/># Las guarimbas en cualquier lugar serían calificada de accionar terrorista. Los medios lo presentan como lugares de resistencia. Están compuestas por mercenarios pagos que generan miedo y terror en las poblaciones.<br/># Edmundo González es un hombre con carrera diplomática, que en los últimos años ha tenido un bajo perfil. En 2009 a través de Wickileaks se señaló que estuvo en El Salvador en los años \\'80, en grupos sindicados como mata-curas. Estuvo en El Salvador cuando la CIA llevó adelante el Plan Cóndor en el cono sur y que tuvo su correlato en centro-américa. Fue el segundo de la embajada de Venezuela en El Salvador<br/># Ser mujer luchadora y en mi caso de campesina y afrodescendiente, fue definido por el comandante Chávez desde el inicio: el proceso será con las mujeres. Las mujeres tienen a su cargo el liderazgo en las calles y en los barrios. La constitución garantiza la paridad de géneros. Históricamente fuimos oprimidas. En Venezuela hay cinco poderes. El cuarto poder es el poder electoral, el quinto poder el poder popular. Nuestros líderes afros están siendo perseguidos y señalados por la ultraderecha</p>\\n</div>\\n<p>\\nhace 23 horas\\n<a href=\"/user/Pulki_AM1390/\">por Pulki_AM1390</a>\\n- 3 reproducciones\\n</p>\\n</div>\\n</li>\\n<hr/>\\n<li class=\"row\">\\n<div class=\"col-sm-2 col-xs-4\">\\n<a href=\"/audiocut/70-anos-del-nacimiento-chavez-homenaje-escuchando-palabras-inolvidables-emocionan/\">\\n<img class=\"img-thumbnail\" src=\"https://imgsvr.radiocut.site/get/crop/center/100/100/cuts_logos/90/5e/905e1aff-793f-4043-a84b-3ea6ddb31ae1.jpg\" alt=\"Logo de la recorte\" />\\n</a>\\n</div>\\n<div class=\"col-sm-10 col-xs-8\">\\n<div class=\"row\">\\n<div class=\"col-sm-12\">\\n<a href=\"/audiocut/70-anos-del-nacimiento-chavez-homenaje-escuchando-palabras-inolvidables-emocionan/\">70 años del nacimiento de CHAVEZ. Homenaje escuchando palabras inolvidables que emocionan </a>\\n<span class=\"text-muted\">Dur: 57:09</span>\\n<i class=\"fa fa-scissors fa-rotate-270 pull-right\"></i>\\n</div>\\n</div>\\n<div class=\"row hidden-xs\">\\n<p class=\"col-sm-12 description text-left\">El 28 julio, el mismo dia que se votó en Venezuela, se cumplieron 70 años del nacimiento del Comandante. Escuchamos su voz y canciones en homenaje. Nunca detendrán la primavera. Radio Ahijuna. </p>\\n</div>\\n<p>\\nhace 13 horas\\n<a href=\"/user/Nuncadetendran/\">por Nuncadetendran</a>\\n- 1 reproducciones\\n</p>\\n</div>\\n</li>\\n<hr/>\\n<li class=\"row\">\\n<div class=\"col-sm-2 col-xs-4\">\\n<a href=\"/audiocut/dramaturga-y-directora-teatral-laura-correa-paso-por-marca-para-hablar-su-obra-parrandera-s/\">\\n<img class=\"img-thumbnail\" src=\"https://imgsvr.radiocut.site/get/crop/center/100/100/cuts_logos/c7/67/c767451c-ff88-4e0c-82e2-e1be7c72f3c8.png\" alt=\"Logo de la recorte\" />\\n</a>\\n</div>\\n<div class=\"col-sm-10 col-xs-8\">\\n<div class=\"row\">\\n<div class=\"col-sm-12\">\\n<a href=\"/audiocut/dramaturga-y-directora-teatral-laura-correa-paso-por-marca-para-hablar-su-obra-parrandera-s/\">La dramaturga y directora teatral Laura Correa pasó por Marca para hablar de su obra Parrandera s. </a>\\n<span class=\"text-muted\">Dur: 00:58</span>\\n<i class=\"fa fa-scissors fa-rotate-270 pull-right\"></i>\\n</div>\\n</div>\\n<div class=\"row hidden-xs\">\\n<p class=\"col-sm-12 description text-left\">Laura Correa acaba de reestrenar Parrandera´s. Epifanía de un rapto, obra de su autoría. La pieza fue gestada en 2015 en el marco del Ciclo Teatro Cumbiero y en 2017 se estrenó e hizo temporada en el Teatro Polonia.<br/>Parrandera´s. toma el mito del Rapto de Helena de Troya, y lo acerca a la actualidad de las culturas populares que santifican personas que les son significativas. Aborda la construcción del mito, cruzando referencias de la mitología griega, con signos de nuestros cultos paganos latinoamericanos. Toma la tragedia como género, ilustrando personajes que actúan desde el deseo y no desde la razón.<br/>La obra acaba de ser publicada por Policarpo ediciones y se puede ver, todos los viernes de agosto y septiembre a las 21h en el Abasto Social Club.<br/></p>\\n</div>\\n<p>\\nhace 21 horas\\n<a href=\"/user/danielfrancoprensa/\">por danielfrancoprensa</a>\\n- 5 reproducciones\\n</p>\\n</div>\\n</li>\\n<hr/>\\n<li class=\"row\">\\n<div class=\"col-sm-2 col-xs-4\">\\n<a href=\"/audiocut/directora-y-autora-teatral-laura-correa-paso-por-banquina-para-hablar-parrandera-s/\">\\n<img class=\"img-thumbnail\" src=\"https://imgsvr.radiocut.site/get/crop/center/100/100/cuts_logos/37/6f/376ff482-a3c8-4f3b-a263-41ddbf926438.png\" alt=\"Logo de la recorte\" />\\n</a>\\n</div>\\n<div class=\"col-sm-10 col-xs-8\">\\n<div class=\"row\">\\n<div class=\"col-sm-12\">\\n<a href=\"/audiocut/directora-y-autora-teatral-laura-correa-paso-por-banquina-para-hablar-parrandera-s/\">La directora y autora teatral Laura Correa pasó por La Banquina para hablar de Parrandera s.</a>\\n<span class=\"text-muted\">Dur: 00:53</span>\\n<i class=\"fa fa-scissors fa-rotate-270 pull-right\"></i>\\n</div>\\n</div>\\n<div class=\"row hidden-xs\">\\n<p class=\"col-sm-12 description text-left\">Parrandera´s. toma el mito del Rapto de Helena de Troya, y lo acerca a la actualidad de las culturas populares que santifican personas que les son significativas. Aborda la construcción del mito, cruzando referencias de la mitología griega, con signos de nuestros cultos paganos latinoamericanos. Toma la tragedia como género, ilustrando personajes que actúan desde el deseo y no desde la razón.<br/>La obra acaba de ser publicada por Policarpo ediciones y se puede ver desde el viernes 2 de agosto, todos los viernes de agosto y septiembre a las 21h en el Abasto Social Club.<br/></p>\\n</div>\\n<p>\\nhace 1 día, 12 horas\\n<a href=\"/user/danielfrancoprensa/\">por danielfrancoprensa</a>\\n- 3 reproducciones\\n</p>\\n</div>\\n</li>\\n<hr/>\\n<script async src=\"https://pagead2.googlesyndication.com/pagead/js/adsbygoogle.js\"></script>\\n<ins class=\"adsbygoogle\" style=\"display:block\" data-ad-format=\"fluid\" data-ad-layout-key=\"-h1+p-z-ej+ud\" data-ad-client=\"ca-pub-3630645806124191\" data-ad-slot=\"8362982357\"></ins>\\n<script>\\n(adsbygoogle = window.adsbygoogle || []).push({});\\n</script>\\n<hr/>\\n<li class=\"row\">\\n<div class=\"col-sm-2 col-xs-4\">\\n<a href=\"/audiocut/laura-correa-paso-por-reunion-cumbre-hablar-parrandera-s-epifania-un-rapto/\">\\n<img class=\"img-thumbnail\" src=\"https://imgsvr.radiocut.site/get/crop/center/100/100/cuts_logos/9c/25/9c250b5c-9489-4185-9a02-2bcd340809e2.png\" alt=\"Logo de la recorte\" />\\n</a>\\n</div>\\n<div class=\"col-sm-10 col-xs-8\">\\n<div class=\"row\">\\n<div class=\"col-sm-12\">\\n<a href=\"/audiocut/laura-correa-paso-por-reunion-cumbre-hablar-parrandera-s-epifania-un-rapto/\">Laura Correa pasó por la Reunión cumbre hablar de Parrandera s. Epifanía de un rapto</a>\\n<span class=\"text-muted\">Dur: 00:57</span>\\n<i class=\"fa fa-scissors fa-rotate-270 pull-right\"></i>\\n</div>\\n</div>\\n<div class=\"row hidden-xs\">\\n<p class=\"col-sm-12 description text-left\">Parrandera´s. toma el mito del Rapto de Helena de Troya, y lo acerca a la actualidad de las culturas populares que santifican personas que les son significativas. Aborda la construcción del mito, cruzando referencias de la mitología griega, con signos de nuestros cultos paganos latinoamericanos. Toma la tragedia como género, ilustrando personajes que actúan desde el deseo y no desde la razón.<br/>La obra acaba de ser publicada por Policarpo ediciones y se puede ver desde el viernes 2 de agosto, todos los viernes de agosto y septiembre a las 21h en el Abasto Social Club.<br/></p>\\n</div>\\n<p>\\nhace 19 horas\\n<a href=\"/user/danielfrancoprensa/\">por danielfrancoprensa</a>\\n- 3 reproducciones\\n</p>\\n</div>\\n</li>\\n<hr/>\\n</ul>\\n<div class=\"row\">\\n<div class=\"col-sm-9 col-xs-8\">\\n<ul class=\"pagination pagination-sm \">\\n<li id=\"prev_page\">\\n<a href=\"/search/?type=cut&page=3&created=1\">&laquo;</a>\\n</li>\\n<li> <a href=\"/search/?type=cut&page=1&created=1\">1</a></li>\\n<li> <a href=\"/search/?type=cut&page=2&created=1\">2</a></li>\\n<li> <a href=\"/search/?type=cut&page=3&created=1\">3</a></li>\\n<li class=\"active\"><a>4</a></li>\\n<li>\\n<a href=\"/search/?type=cut&page=5&created=1\">5</a></li>\\n<li id=\"next_page\">\\n<a href=\"/search/?type=cut&page=5&created=1\">&raquo;</a></li>\\n</ul>\\n</div>\\n<div class=\"btn-group col-sm-3 col-xs-4\">\\n<div class=\"btn-group pull-right\">\\n<a href=\"/feeds?type=cut&amp;page=4&amp;created=1\" class=\"btn btn-default fa\" target=\"_blank\" data-toggle=\"tooltip\" title=\"Suscribirse al RSS de esta búsqueda\">&#xf09e;</a>\\n<a href=\"/audiocut/embed/list/?type=cut&amp;page=4&amp;created=1\" class=\"btn btn-default fa\" data-toggle=\"modal\" data-target=\"#embed_list_dialog\"><span data-toggle=\"tooltip\" title=\"Embeber el resultado de la búsqueda\">&#xf121;</span></a>\\n</div>\\n</div>\\n</div>\\n</div >\\n<div id=\"embed_list_dialog\" class=\"modal fade\">\\n<div class=\"modal-dialog\">\\n<div class=\"modal-content\">\\n<div class=\"modal-header\">\\n<h2 class=\"modal-title\">Embeber resultado de búsqueda</h2>\\n</div>\\n<div class=\"modal-body\">\\n<h3 class=\"text-center\">Código</h3>\\n<pre>&lt;iframe width=\"100%\" height=\"420px\" scrolling=\"no\" frameborder=\"no\" src=\"//ar.radiocut.fm/audiocut/embed/list/?type=cut&amp;page=4&amp;created=1\" &gt;&lt;/iframe&gt;</pre>\\n<h3 class=\"text-center\">Vista previa</h3>\\n<div class=\"center-block preview\"></div>\\n</div>\\n<div class=\"modal-footer\">\\n<button type=\"button\" class=\"btn btn-danger fa\" data-dismiss=\"modal\">&times;&emsp;Cerrar</button>\\n</div>\\n</div>\\n</div>\\n</div>\\n<aside class=\"col-md-5\">\\n<h2>Filtro de Búsqueda</h2>\\n<ul class=\"list-unstyled col-sm-6 col-md-4\">\\n<li class=\"h3\"><strong>Tipo de resultados:</strong></li>\\n<li>\\n<a id=\"all_filter\" href=\"/search/?type=all&page=4&created=1\">Todos</a>\\n</li>\\n<li>\\n<a id=\"cut_filter\" href=\"/search/?type=cut&page=4&created=1\">Recorte</a>\\n</li>\\n<li>\\n<a id=\"radio_filter\" href=\"/search/?type=radio&page=4&created=1\">Radio</a>\\n</li>\\n<li>\\n<a id=\"show_filter\" href=\"/search/?type=show&page=4&created=1\">Programa</a>\\n</li>\\n<li>\\n<a id=\"episode_filter\" href=\"/search/?type=episode&page=4&created=1\">Episodio</a>\\n</li>\\n</ul>\\n<ul class=\"list-unstyled col-sm-6 col-md-4\">\\n<li class=\"h3\"><strong>Fecha del audio:</strong></li>\\n<li>\\n<a id=\"always_filter\" href=\"/search/?start=all&type=cut&page=4&created=1\">Todos</a>\\n</li>\\n<li>\\n<a id=\"today_filter\" href=\"/search/?start=1&type=cut&page=4&created=1\">Hoy</a>\\n</li>\\n<li>\\n<a id=\"week_filter\" href=\"/search/?start=7&type=cut&page=4&created=1\">Última semana</a>\\n</li>\\n<li>\\n<a id=\"month_filter\" href=\"/search/?start=30&type=cut&page=4&created=1\">Último mes</a>\\n</li>\\n</ul>\\n<ul class=\"list-unstyled col-sm-6 col-md-4\">\\n<li class=\"h3\"><strong>Fecha de creación:</strong></li>\\n<li>\\n<a id=\"always_filter\" href=\"/search/?type=cut&page=4&created=all\">Todos</a>\\n</li>\\n<li>\\n<a id=\"today_filter\" href=\"/search/?type=cut&page=4&created=1\">Hoy</a>\\n</li>\\n<li>\\n<a id=\"week_filter\" href=\"/search/?type=cut&page=4&created=7\">Última semana</a>\\n</li>\\n<li>\\n<a id=\"month_filter\" href=\"/search/?type=cut&page=4&created=30\">Último mes</a>\\n</li>\\n</ul>\\n<div style=\"text-align:center; clear: both; margin: 0.5em;display:inline-block\" id=\"div-gpt-ad-aside\">\\n</div>\\n<div style=\"text-align:center; clear: both; margin: 0.5em;\" id=\"div-gpt-ad-aside-two\">\\n</div>\\n</aside>\\n</div>\\n</div>\\n<footer id=\"main_footer\" class=\"container-fluid\">\\n<div class=\"row\">\\n<div class=\"col-md-12\">\\n<div style=\"text-align:center; clear: both; margin-top: 0px; margin-bottom: 0px;\" id=\"div-gpt-ad-bottom-leaderboard\">\\n</div>\\n</div>\\n</div>\\n<div class=\"row\">\\n<div class=\"col-md-12 text-center\">\\n<form id=\"lang_form\" action=\"i18n/setlang/\" method=\"post\" class=\"hidden\"><div style=\"display:none\"><input type=\"hidden\" name=\"csrfmiddlewaretoken\" value=\"WERr41XdpCgy1SsRR0IhDgFbJdRttxY2\" /></div>\\n<select name=\"language\" id=\"lang_language\">\\n<option value=\"en\">English</option>\\n<option value=\"pt\">Português</option>\\n<option value=\"hi\">Hindi</option>\\n<option value=\"id\">Bahasa Indonesia</option>\\n</select>\\n</form>\\n<a href=\"#\" class=\"set-lang en\" onclick=\"setLang(\\'en\\')\">English</a> -\\n<a href=\"#\" class=\"set-lang pt\" onclick=\"setLang(\\'pt\\')\">Português</a> -\\n<a href=\"#\" class=\"set-lang hi\" onclick=\"setLang(\\'hi\\')\">Hindi</a> -\\n<a href=\"#\" class=\"set-lang id\" onclick=\"setLang(\\'id\\')\">Bahasa Indonesia</a>\\n<script type=\"text/javascript\">\\n                function setLang(lang) {\\n                  document.getElementById(\"lang_language\").value = lang;\\n                  document.getElementById(\"lang_form\").submit();\\n                  return false;\\n                }\\n              </script>\\n</div>\\n</div>\\n<div class=\"row\">\\n<div class=\"col-md-12 text-center\">\\n<span class=\"text-muted\">&#169; 2024 RadioCut Inc.</span>\\n<a href=\"https://www.linkedin.com/company/radiocut/\" target=\"_blank\">Quiénes somos</a> -\\n<a href=\"/about\">Acerca de RadioCut</a> -\\n<a href=\"//blog.radiocut.fm\" target=\"_blank\">Blog</a> -\\n<a href=\"/ayuda\">Ayuda</a> -\\n<a href=\"/faq\">Preguntas Frecuentes</a> -\\n<a href=\"/privacidad\">Privacidad</a> -\\n<a href=\"//radiocut.uservoice.com\" target=\"_blank\">Contáctanos</a> -\\n<a href=\"//twitter.com/radiocutfm\" target=\"_blank\">Seguinos en Twitter</a> -\\n<a href=\"//www.facebook.com/radiocut\" target=\"_blank\">Nuestro Facebook</a> -\\n<a href=\"/terminos\" target=\"_blank\">Términos y Condiciones</a>\\n<div class=\"hidden\">1.1.95</div>\\n</div>\\n</div>\\n</footer>\\n<script src=\"https://ajax.googleapis.com/ajax/libs/jquery/1.12.4/jquery.min.js\"></script>\\n<script src=\"https://static.radiocut.com.ar/js/app.fe494f93d5ad8a05d443c641a32e17ce56635a4b.js\" async></script>\\n<script type=\"text/javascript\">\\n  (RCStrings = window.RCStrings || {}).current_language = \\'es\\';\\n\\n  (appjsloaded_cbs = window.appjsloaded_cbs || []).push(function() {\\n    moment.locale(\\'es\\');\\n    jQuery.datetimepicker.setLocale(moment.locale());\\n  });\\n\\n  if (window.appjsloaded)\\n    window.run_app_js_callbacks();\\n</script>\\n\\n<script type=\"text/javascript\" src=\"//s7.addthis.com/js/300/addthis_widget.js#pubid=ra-4f7e1d4c59e13883\" async=\"async\"></script>\\n<script>(function(){function c(){var b=a.contentDocument||a.contentWindow.document;if(b){var d=b.createElement(\\'script\\');d.innerHTML=\"window.__CF$cv$params={r:\\'8adedc13bae28bc0\\',t:\\'MTcyMjc3Nzc4OC4wMDAwMDA=\\'};var a=document.createElement(\\'script\\');a.nonce=\\'\\';a.src=\\'/cdn-cgi/challenge-platform/scripts/jsd/main.js\\';document.getElementsByTagName(\\'head\\')[0].appendChild(a);\";b.getElementsByTagName(\\'head\\')[0].appendChild(d)}}if(document.body){var a=document.createElement(\\'iframe\\');a.height=1;a.width=1;a.style.position=\\'absolute\\';a.style.top=0;a.style.left=0;a.style.border=\\'none\\';a.style.visibility=\\'hidden\\';document.body.appendChild(a);if(\\'loading\\'!==document.readyState)c();else if(window.addEventListener)document.addEventListener(\\'DOMContentLoaded\\',c);else{var e=document.onreadystatechange||function(){};document.onreadystatechange=function(b){e(b);\\'loading\\'!==document.readyState&&(document.onreadystatechange=e,c())}}}})();</script></body>\\n</html>\\n']"
      ]
     },
     "execution_count": 12,
     "metadata": {},
     "output_type": "execute_result"
    }
   ],
   "source": [
    "docs"
   ]
  },
  {
   "attachments": {},
   "cell_type": "markdown",
   "metadata": {},
   "source": [
    "##### 3er paso: servirse la cucharada de sopa y separar el osobuco"
   ]
  },
  {
   "cell_type": "code",
   "execution_count": 13,
   "metadata": {},
   "outputs": [
    {
     "name": "stdout",
     "output_type": "stream",
     "text": [
      "{'title': 'UMF Parte 2 - 2014 - Dia 2 - Metro 22-02-2014', 'duration': '163:12', 'description': 'UMF BS.AS. Metro', 'fecha': '10 de marzo de 2014 13:23:59'}\n",
      "{'title': 'Denunciaron a Meta en la Argentina en #LateShow', 'duration': '04:37', 'description': 'Denunciaron a Meta en la Argentina ante la Agencia de Acceso a la Información Pública para que la compañía aclare cómo preserva la intimidad de los datos de los usuarios, que usa para mejorar su inteligencia artificial por Augusto Fortunato', 'fecha': '3 de agosto de 2024 18:23:59'}\n",
      "{'title': 'Catalina Contartese en #LateShow', 'duration': '15:12', 'description': 'El 9 de Agosto se estrena la comedia “Bajo Cero”, protagonizada por Federico Llerena, Catalina Contartese, Marcela Morales, Matias Lujan, Carola Santulario y Carmelo Gomez.Diseño Grafico: @wave.cs. Fotografía: Argenphoto. Produccion ejecutiva: Nano Monserrat. Prensa y Difusión: Alfredo Monserrat. Direccion Gral: Cristhian Quiroga.', 'fecha': '3 de agosto de 2024 18:23:59'}\n",
      "{'title': 'El comunicólogo Daniel Zárate Ramírez y la polémica sobre la boxeadora argelina.', 'duration': '17:24', 'description': 'Las olimpiadas francesas no dejan de sorprendernos día a día, una serie de situaciones dejan a la organización de los juegos olimpicos muy mal parada por los graves errores cometidos.En el caso del boxeo la pugil Argelina fue cuestionada por su sexuallidad, cuando en realidad padece de una producción anormal de testorerona para una mujer. Imane Khelif quedó en el centro de las miradas de la comunidad en general.La falta de imparcialidad en algunas disciplinas.', 'fecha': '2 de agosto de 2024 17:23:59'}\n",
      "{'title': 'COLUMNA DE ROSITA SAGRAY - SABADO SPORT -AM 590 RADIO CONTINENTAL -SABADO 27JUL24', 'duration': '05:15', 'description': 'MENCIONES DE ESPECTACULOS TEATRALES: LA LLUVIA SEGUIRA CAYENDO - BECKETT TEATRO Y MENCIONES DE CATULO TANGO', 'fecha': '28 de julio de 2024 13:23:59'}\n",
      "{'title': 'Programa Buenas Razones de Nacho Riverol', 'duration': '00:38', 'description': 'Auspicios Agosto 202', 'fecha': '3 de agosto de 2024 12:23:59'}\n",
      "{'title': 'COLUMNA DE ROSITA SAGRAY - A MEDIO CAMINO - FRECUENCIA ZERO - FM92.5 - LUNES 29JUL24', 'duration': '09:01', 'description': 'MENCIONES DE ESPECTACULOS TEATRALES: LA LLUVIA SEGUIRA CAYENDO - MASTER ARAOZ - CARAS Y CARETAS 2037MENCIONES DE GASTRONOMIA: RECOMENDACIONS SOBRE LUGARES RECOMENDADOS EN INSTAGRAM POR INFLUENCERS - LA RABERIA - PUCARA', 'fecha': '30 de julio de 2024 01:23:59'}\n",
      "{'title': 'Nancy Dupláa sobre Goyo y su reencuentro con Quique', 'duration': '50:17', 'description': 'Hoy nos emociona compartir una entrevista muy especial: después de 25 años, Quique entrevistó a su hermana, Nancy Dupláa. Hablaron sobre la astrología, la importancia que tiene la música dentro de la vida de Nancy, y por supuesto, recordaron anécdotas de su infancia. Además, charlaron junto a Lurri del estreno de \"Goyo\", un protagónico que tiene junto a Nicolás Furtado, en el que un joven con asperger se enamora profundamente de su compañera de trabajo, que lidia con su ex marido violento.', 'fecha': '3 de agosto de 2024 14:23:59'}\n",
      "{'title': 'HORA SALUDABLE - FM 106.7 MILENIUM - SABADO 03AGO24', 'duration': '14:12', 'description': 'GABY ZAGORDO ENTREVISTA AL DR. HUGO FRANZETTI DIRECTOR DE HF CENTER - REFERENTE EN MATERIA DE MEDICINA ORTOMOLECULAR', 'fecha': '3 de agosto de 2024 17:23:59'}\n",
      "{'title': 'Auspicio Merck Programa Buenas Razones de Ignacio Riverol', 'duration': '00:33', 'description': 'Agosto 2024', 'fecha': '3 de agosto de 2024 12:23:59'}\n",
      "{'title': 'La Educación en la era del conocimiento, por Patrizio Bianchi', 'duration': '18:42', 'description': 'Federico Poli dialogó con el profesor y economista Patrizio Bianchi, graduado en Ciencias Políticas por la Universidad de Bolonia, que se especializó en Economía y Política Industrial en la London School of Economics.Bianchi fue ministro de Educación en el gobierno de Mario Draghi y actualmente tiene una cátedra UNESCO y es profesor emérito en la Universidad de Ferrara.Durante la conversación, expresó su temor a una posible guerra en Europa debido a la situación en Ucrania y cómo esto afecta la seguridad y las inversiones, en tanto que la crisis también está marcada por desafíos económicos, así como por el ascenso de movimientos de extrema derecha.Bianchi enfatizó la importancia de la educación y las inversiones en investigación para el desarrollo a largo plazo, y remarcó la necesidad de una federación europea al tiempo que detalló cómo la inteligencia artificial impactará la educación y el trabajo en el futuro.Por último, señaló la importancia de adaptar los modelos educativos a los nuevos tiempos y fomentar la capacidad de aprendizaje continuo.', 'fecha': '3 de agosto de 2024 14:23:59'}\n",
      "{'title': 'Anais Castro en los 20 años de Lollapalooza USA (Programa Especial)', 'duration': '52:35', 'description': 'Emitido el 3/8/2024 en LRL322 Urbana Play 104.3FM.', 'fecha': '3 de agosto de 2024 16:23:59'}\n",
      "{'title': 'Carlos Mariscal el mejor cronistas parlamentario de Argentina', 'duration': '11:35', 'description': 'Un entrañable amigo, la mejor información desde# el Congreso de la Nación.', 'fecha': '2 de agosto de 2024 17:23:59'}\n",
      "{'title': 'John Mayall en Planeta Blues, por Claudio Gabis', 'duration': '08:26', 'description': \"Con motivo de la partida de John Mayall el 22 de julio pasado, Claudio Gabis repasa el legado del músico británico que tuvo un rol clave en la expansión del blues en su país.Gabis seleccionó una pieza de la agrupación John Mayall's Blues Breakers, All Your Love, que contó con la participación de Eric Clapton en la guitarra.Un sentido y eléctrico homenaje a una figura central del resurgimiento del blues a partir de la década del '60.\", 'fecha': '3 de agosto de 2024 15:23:59'}\n",
      "{'title': 'Diálogo Internacional 03.08.24', 'duration': '115:22', 'description': 'Diálogo Internacional 03.08.24', 'fecha': '3 de agosto de 2024 21:23:59'}\n",
      "{'title': 'Ser feriante es un parámetro de identidad en el conurbano- Sebastián Russo', 'duration': '17:17', 'description': \"# Columna de Conurbanos a cargo de @sebastianrussobautista en @radiopulki en @radioulaplata# Hoy nos acercamos a una práctica que se expresa en el ámbito popular, que es la feria. Esta feria en particular se llama Lxs Caracolxs y se desarrolla en San Miguel en el norte del gran Buenos Aires.# Es un espacio de sociabilidad, de encuentro y de resistencia económica, en tiempos como el que atravesamos, que sufren cierta estigmatización sobre todo si se desarrolla en las calles de los conurbanos. En grandes ciudades se la reemplaza por lugares cerrados y exclusivos como la feria de las naciones o la feria del libro.# Estas ferias configuran un parámetro identitario que en los conurbanos crecen y proliferan. Recomiendo una película de Julíán D'Angiolillo, Hacerme feriante, donde el personaje es un ser asociado al hacer, al conversar, donde el rol del dinero es secundario. Lo central está asociado a ocupar el espacio, pasear, comer, compartir. Está presente el acto de generar comunidad, tan importante en momentos como este.# En San Miguel, Lxs Caracolxs, tendrá su tercera edición en San Miguel, organizado por Ojo negro comunicación conurbana. Espacio de música, lecturas y de feria. # Compartimos una charla con Lucila Escobar @lucila_geowika, profesora de Geografía en escuelas secundarias y en el nivel terciario y fotógrafa. Sus materiales son presentados en la feria. Nos cuenta que la Geografía tiene una carga visual enorme. En las clases de secundarias presentamos imágenes de paisajes, donde se les pide a lxs estudiantes la descripción de lo que ven y el lugar geográfico. Por lo general asocian las fotos con lugares geográficos lejanos, asociados a países europeos o de América del Norte. La sorpresa es que cuando giramos las fotos esos paisajes son lugares de nuestro país. Esto proiduce un shock que rompe la posibilidad de pensar lugares.En el nivel terciario sugiero traer fotos de los lugares que habitualmente recorren y que permite poner en tensión aquella asociación de lo bello asociado con lo lejano.# En la feria hay una puesta en acto de la comunidad. Ser feriante es una acción comunal.\", 'fecha': '3 de agosto de 2024 13:23:59'}\n",
      "{'title': 'Aníbal Valenti en Rivadavia Rosario', 'duration': '115:06', 'description': 'Programa 3 de agosto 2024', 'fecha': '3 de agosto de 2024 16:23:59'}\n",
      "{'title': 'Aníbal Valenti en radio Rivadavia Rosario', 'duration': '115:12', 'description': 'Programa 3 de agosto', 'fecha': '3 de agosto de 2024 16:23:59'}\n",
      "{'title': 'Intersticios, por Marcelo Sztrum: Primera entrega', 'duration': '09:48', 'description': \"Federico Poli presenta un segmento muy especial de El Transbordador, 'Intersticios, las cintas encontradas del profesor Marcelo Sztrum'.En esta primera entrega, el diálogo atemporal nos enfrenta al dilema del autor y su obra (extensa o no). Octavio Paz, Juan Rulfo y César Aira se debaten y polemizan en el universo íntimo del profesor Sztrum.\", 'fecha': '3 de agosto de 2024 15:23:59'}\n",
      "{'title': 'La duración de las películas, en la columna de Rosario Fraga', 'duration': '08:46', 'description': 'En su columna de cine, Rosario Fraga realiza un recorrido histórico para abordar la duración de las películas en perspectiva.Las diferencias artísticas y comerciales entre directores y productores, sumado a dinámica actual, complejizada por la irrupción de las plataformas.', 'fecha': '3 de agosto de 2024 15:23:59'}\n",
      "{'title': 'Identitango es Ian Ferioli y su quinteto', 'duration': '12:59', 'description': 'Avanzamos un la vida de Ian, sus composiciones, el amor por la música y el respeto por los grandes del tango.El 24 de Agosto Identitango en el Cento Cultural Atlas, Mitre 645 :en la ciudad de Rosario.', 'fecha': '2 de agosto de 2024 18:23:59'}\n",
      "{'title': 'Ajuste en el CONICET - Desvinculación anticipada de becarios\\xa0posdoctorales', 'duration': '18:09', 'description': 'Entrevista sobre la situación del CONICET. En particular, sobre la cancelación anticipada de becas posdoctorales que esta semana dejó sin trabajo a más de 200 científicos. Estas becas, que debían durar hasta la publicación de los resultados de la convocatoria actual para el ingreso a la Carrera del Investigador Científico (estimada para mediados de 2025), fueron interrumpidas este miércoles 31/7 en el marco del ajuste que sufre el organismo, que ha implicado también el otorgamiento de cientos de becas nuevas menos, el congelamiento de las altas de personal ya seleccionado y el despido de personal administrativo, entre otras medidas. Claudio Martínez conversa con Pamela Brownell, integrante del colectivo de (ex)becarios posdoctorales afectados en el programa Laboratorio de Ideas de Radio\\xa0Provincia.', 'fecha': '3 de agosto de 2024 19:23:59'}\n",
      "{'title': '📻 Juanchi Baleirón en Eternamente Beatles en los estudios de Radio Del Plata', 'duration': '79:00', 'description': '📻 Juanchi Baleirón en Eternamente Beatles en los estudios de Radio Del Plata', 'fecha': '3 de agosto de 2024 23:23:59'}\n",
      "{'title': 'GUILLERMO MARTIN CAVIASCA - HISTORIADOR Y ESPECIALISTA EN POLITICA INTERNACIONAL', 'duration': '25:03', 'description': 'TRIUNFO DEL MADURO EN LAS ELECCIONES EN VENEZUELA', 'fecha': '3 de agosto de 2024 17:23:59'}\n",
      "{'title': 'CLAUDIO BUSTELO SECRETARIO DE PRENSA DE LA ASOCIACIÓN BANCARIA.', 'duration': '10:46', 'description': 'En un escenario en donde distintos indicadores económicos y sociales se van agravando, desde Trabajo y Vida Cotidiana consultamos la opinión de distintos referentes gremiales, esta vez estamos comunicados con el Secretario Gremial de la Asociación Bancaria Claudio Bustelo, analiza la situación general de la actual coyuntura y las novedades habidas en la actividad bancaria. En particular la nueva disposición flexibilizadora del Banco Central en la llamada corresponsalías bancarias. También hablo sobre la medida cautelar presentada ante la justicia por parte de la Asociación Bancaria. Sobre las respuestas que el movimiento obrero esta planificando para el 7 de agosto, en la tradicional jornada de San Cayetano. en la basílica del barrio de Liniers.', 'fecha': '31 de julio de 2024 16:23:59'}\n",
      "{'title': 'Nuestra Nación está siendo bloqueada por el poder imperial- Lilia Ferrer Morillo', 'duration': '28:27', 'description': \"Entrevistamos a la escritora, analista política, militante afrodescendiente venezolana @liliaferrermorillo en @radiopulki para @radioulaplata# En primer lugar nuestra patria es de paz. Exigimos que se respeten nuestros procesos democráticos. Denunciamos los intentos de intromisión en nuestros asuntos internos. No solo se inmiscuyen en nuestros asuntos, sino que buscan darle materialidad.# La nuestra es una nación bloqueada. Hay guerras de cuarta generación, guerras híbridas. Venezuela está sometida a esas guerras. Venezuela ha podido derrotar inflaciones, bloqueos de recursos. Nos sometieron a partir de que el ex presidente de EEUU Obama calificó a Venezuela de peligrosa.# Venezuela no tiene antecedentes de migraciones, por el contrario ha recibido poblaciones perseguidas por las dictaduras. Los argentinos lo saben..# Venezuela tiene reservas de oro, de petróleo, de minerales estratégicos. Será el país de mayor crecimiento en la región, lo dijo el FMI. Vladimir Putín ha invitado a Maduro a la próxima asamblea de los Brics.# Las guarimbas en cualquier lugar serían calificada de accionar terrorista. Los medios lo presentan como lugares de resistencia. Están compuestas por mercenarios pagos que generan miedo y terror en las poblaciones.# Edmundo González es un hombre con carrera diplomática, que en los últimos años ha tenido un bajo perfil. En 2009 a través de Wickileaks se señaló que estuvo en El Salvador en los años '80, en grupos sindicados como mata-curas. Estuvo en El Salvador cuando la CIA llevó adelante el Plan Cóndor en el cono sur y que tuvo su correlato en centro-américa. Fue el segundo de la embajada de Venezuela en El Salvador# Ser mujer luchadora y en mi caso de campesina y afrodescendiente, fue definido por el comandante Chávez desde el inicio: el proceso será con las mujeres. Las mujeres tienen a su cargo el liderazgo en las calles y en los barrios. La constitución garantiza la paridad de géneros. Históricamente fuimos oprimidas. En Venezuela hay cinco poderes. El cuarto poder es el poder electoral, el quinto poder el poder popular. Nuestros líderes afros están siendo perseguidos y señalados por la ultraderecha\", 'fecha': '3 de agosto de 2024 14:23:59'}\n",
      "{'title': '70 años del nacimiento de CHAVEZ. Homenaje escuchando palabras inolvidables que emocionan', 'duration': '57:09', 'description': 'El 28 julio, el mismo dia que se votó en Venezuela, se cumplieron 70 años del nacimiento del Comandante. Escuchamos su voz y canciones en homenaje. Nunca detendrán la primavera. Radio Ahijuna.', 'fecha': '4 de agosto de 2024 00:23:59'}\n",
      "{'title': 'La dramaturga y directora teatral Laura Correa pasó por Marca para hablar de su obra Parrandera s.', 'duration': '00:58', 'description': 'Laura Correa acaba de reestrenar Parrandera´s. Epifanía de un rapto, obra de su autoría. La pieza fue gestada en 2015 en el marco del Ciclo Teatro Cumbiero y en 2017 se estrenó e hizo temporada en el Teatro Polonia.Parrandera´s. toma el mito del Rapto de Helena de Troya, y lo acerca a la actualidad de las culturas populares que santifican personas que les son significativas. Aborda la construcción del mito, cruzando referencias de la mitología griega, con signos de nuestros cultos paganos latinoamericanos. Toma la tragedia como género, ilustrando personajes que actúan desde el deseo y no desde la razón.La obra acaba de ser publicada por Policarpo ediciones y se puede ver, todos los viernes de agosto y septiembre a las 21h en el Abasto Social Club.', 'fecha': '3 de agosto de 2024 16:23:59'}\n",
      "{'title': 'La directora y autora teatral Laura Correa pasó por La Banquina para hablar de Parrandera s.', 'duration': '00:53', 'description': 'Parrandera´s. toma el mito del Rapto de Helena de Troya, y lo acerca a la actualidad de las culturas populares que santifican personas que les son significativas. Aborda la construcción del mito, cruzando referencias de la mitología griega, con signos de nuestros cultos paganos latinoamericanos. Toma la tragedia como género, ilustrando personajes que actúan desde el deseo y no desde la razón.La obra acaba de ser publicada por Policarpo ediciones y se puede ver desde el viernes 2 de agosto, todos los viernes de agosto y septiembre a las 21h en el Abasto Social Club.', 'fecha': '3 de agosto de 2024 01:23:59'}\n",
      "{'title': 'Laura Correa pasó por la Reunión cumbre hablar de Parrandera s. Epifanía de un rapto', 'duration': '00:57', 'description': 'Parrandera´s. toma el mito del Rapto de Helena de Troya, y lo acerca a la actualidad de las culturas populares que santifican personas que les son significativas. Aborda la construcción del mito, cruzando referencias de la mitología griega, con signos de nuestros cultos paganos latinoamericanos. Toma la tragedia como género, ilustrando personajes que actúan desde el deseo y no desde la razón.La obra acaba de ser publicada por Policarpo ediciones y se puede ver desde el viernes 2 de agosto, todos los viernes de agosto y septiembre a las 21h en el Abasto Social Club.', 'fecha': '3 de agosto de 2024 18:23:59'}\n"
     ]
    }
   ],
   "source": [
    "from bs4 import BeautifulSoup\n",
    "import re\n",
    "from datetime import datetime, timedelta\n",
    "import pytz\n",
    "import locale\n",
    "\n",
    "# Establece la localización en español\n",
    "locale.setlocale(locale.LC_TIME, 'es_ES.UTF-8')\n",
    "\n",
    "soup = BeautifulSoup(docs[0], 'html.parser')\n",
    "\n",
    "def clean_duration(duration_text):\n",
    "    return duration_text.replace(\"Dur: \", \"\").strip()\n",
    "\n",
    "def convert_duration_to_date(duration_text):\n",
    "    pattern = re.compile(r'(\\d+)\\s*año|(\\d+)\\s*mes|(\\d+)\\s*semana|(\\d+)\\s*día|(\\d+)\\s*hora|(\\d+)\\s*minuto')\n",
    "    matches = pattern.findall(duration_text)\n",
    "    \n",
    "    years = months = weeks = days = hours = minutes = 0\n",
    "    for match in matches:\n",
    "        if match[0]: years = int(match[0])\n",
    "        if match[1]: months = int(match[1])\n",
    "        if match[2]: weeks = int(match[2])\n",
    "        if match[3]: days = int(match[3])\n",
    "        if match[4]: hours = int(match[4])\n",
    "        if match[5]: minutes = int(match[5])\n",
    "    \n",
    "    now = datetime.now(pytz.timezone('America/Argentina/Buenos_Aires'))\n",
    "    time_delta = timedelta(days=(years * 365 + months * 30 + weeks * 7 + days), hours=hours, minutes=minutes)\n",
    "    result_date = now - time_delta\n",
    "    utc_dt = result_date.astimezone(pytz.utc)\n",
    "    \n",
    "    # Formatea el día y el mes manualmente para evitar ceros a la izquierda\n",
    "    day = utc_dt.day\n",
    "    month = utc_dt.strftime('%B')\n",
    "    year = utc_dt.year\n",
    "    time_str = utc_dt.strftime('%H:%M:%S')\n",
    "    readable_date = f'{day} de {month} de {year} {time_str}'\n",
    "    \n",
    "    return readable_date\n",
    "\n",
    "data_list = []\n",
    "\n",
    "containers = soup.find_all('div', class_='col-sm-10 col-xs-8')\n",
    "\n",
    "for container in containers:\n",
    "    # Extraer el título\n",
    "    title_tag = container.find('a')\n",
    "    title = title_tag.text.strip() if title_tag else None\n",
    "\n",
    "    if title:  # Sólo sigue si hay título\n",
    "        # Extrae la duración y la emprolija\n",
    "        duration_tag = container.find('span', class_='text-muted')\n",
    "        duration = clean_duration(duration_tag.text) if duration_tag else None\n",
    "\n",
    "        # Extrae la descripción y la emprolija\n",
    "        description_tag = container.find('p', class_='col-sm-12 description text-left')\n",
    "        description = description_tag.text.strip() if description_tag else None\n",
    "\n",
    "        # Extrae la fecha de creación del contenedor actual\n",
    "        p_element = container.find_all('p')[-1]  # Asumiendo que la fecha está en el último <p> del contenedor\n",
    "        first_text = p_element.text.strip().split('\\n')[0].strip() if p_element else \"\"\n",
    "        readable_date = convert_duration_to_date(first_text)\n",
    "        \n",
    "        # Crear un diccionario para almacenar la data\n",
    "        data = {\n",
    "            \"title\": title,\n",
    "            \"duration\": duration,\n",
    "            \"description\": description,\n",
    "            \"fecha\": readable_date\n",
    "        }\n",
    "        \n",
    "        if description:\n",
    "            data_list.append(data)\n",
    "            print(data)"
   ]
  },
  {
   "attachments": {},
   "cell_type": "markdown",
   "metadata": {},
   "source": [
    "Obtengo la descripción con más caracteres como para saber"
   ]
  },
  {
   "cell_type": "code",
   "execution_count": 14,
   "metadata": {},
   "outputs": [
    {
     "name": "stdout",
     "output_type": "stream",
     "text": [
      "La descripción con longitud máxima tiene: 2160 caracteres con espacios\n",
      "y es: Entrevistamos a la escritora, analista política, militante afrodescendiente venezolana @liliaferrermorillo en @radiopulki para @radioulaplata# En primer lugar nuestra patria es de paz. Exigimos que se respeten nuestros procesos democráticos. Denunciamos los intentos de intromisión en nuestros asuntos internos. No solo se inmiscuyen en nuestros asuntos, sino que buscan darle materialidad.# La nuestra es una nación bloqueada. Hay guerras de cuarta generación, guerras híbridas. Venezuela está sometida a esas guerras. Venezuela ha podido derrotar inflaciones, bloqueos de recursos. Nos sometieron a partir de que el ex presidente de EEUU Obama calificó a Venezuela de peligrosa.# Venezuela no tiene antecedentes de migraciones, por el contrario ha recibido poblaciones perseguidas por las dictaduras. Los argentinos lo saben..# Venezuela tiene reservas de oro, de petróleo, de minerales estratégicos. Será el país de mayor crecimiento en la región, lo dijo el FMI. Vladimir Putín ha invitado a Maduro a la próxima asamblea de los Brics.# Las guarimbas en cualquier lugar serían calificada de accionar terrorista. Los medios lo presentan como lugares de resistencia. Están compuestas por mercenarios pagos que generan miedo y terror en las poblaciones.# Edmundo González es un hombre con carrera diplomática, que en los últimos años ha tenido un bajo perfil. En 2009 a través de Wickileaks se señaló que estuvo en El Salvador en los años '80, en grupos sindicados como mata-curas. Estuvo en El Salvador cuando la CIA llevó adelante el Plan Cóndor en el cono sur y que tuvo su correlato en centro-américa. Fue el segundo de la embajada de Venezuela en El Salvador# Ser mujer luchadora y en mi caso de campesina y afrodescendiente, fue definido por el comandante Chávez desde el inicio: el proceso será con las mujeres. Las mujeres tienen a su cargo el liderazgo en las calles y en los barrios. La constitución garantiza la paridad de géneros. Históricamente fuimos oprimidas. En Venezuela hay cinco poderes. El cuarto poder es el poder electoral, el quinto poder el poder popular. Nuestros líderes afros están siendo perseguidos y señalados por la ultraderecha\n"
     ]
    }
   ],
   "source": [
    "def find_max_description_length(data_list):\n",
    "    max_length = 0\n",
    "    dictDescLenMax = {}\n",
    "    for item in data_list:\n",
    "        description = item.get(\"description\", \"\")\n",
    "        current_length = len(description)\n",
    "        currentMax = item\n",
    "        if current_length > max_length:\n",
    "            max_length = current_length\n",
    "            dictDescLenMax = currentMax\n",
    "    return dictDescLenMax\n",
    "\n",
    "dictDescLenMax = find_max_description_length(data_list).get(\"description\")\n",
    "max_length = len(dictDescLenMax)\n",
    "print(f\"La descripción con longitud máxima tiene: {max_length} caracteres con espacios\")\n",
    "print(f\"y es: {dictDescLenMax}\")\n"
   ]
  },
  {
   "attachments": {},
   "cell_type": "markdown",
   "metadata": {},
   "source": [
    "###### 1er paso: Unir todos los diccionarios en un solo archivo de texto. Split y chunk\n",
    "###### 2do paso: Convertir los diccionarios en vectores con sentenceTransformer (embedding)\n",
    "###### 3er paso: Cargar a una base de datos de vectores\n",
    "###### 4to paso: Pasar a la IA"
   ]
  },
  {
   "cell_type": "code",
   "execution_count": 19,
   "metadata": {},
   "outputs": [
    {
     "name": "stdout",
     "output_type": "stream",
     "text": [
      "Number of chunks: 9\n"
     ]
    }
   ],
   "source": [
    "def write_dicts_to_text_file(dict_list, file_path):\n",
    "    with open(file_path, 'w', encoding='utf-8') as file:\n",
    "        for dictionary in dict_list:\n",
    "            for key, value in dictionary.items():\n",
    "                # Escribe cada llave y valor en el archivo\n",
    "                file.write(f\"{key}: {value}\\n\")\n",
    "\n",
    "def read_file_content(file_path):\n",
    "    with open(file_path, 'r', encoding='utf-8') as file:\n",
    "        return file.read()\n",
    "\n",
    "def split_text_into_chunks(text, chunk_size):\n",
    "    return [text[i:i + chunk_size] for i in range(0, len(text), chunk_size)]\n",
    "\n",
    "file_path = 'output.txt'\n",
    "\n",
    "# Write the dictionary list to the text file\n",
    "write_dicts_to_text_file(data_list, file_path)\n",
    "\n",
    "# Read the content from the file\n",
    "file_content = read_file_content(file_path)\n",
    "\n",
    "# Define the chunk size\n",
    "chunk_size = 2048\n",
    "\n",
    "# Split the file content into chunks\n",
    "chunks = split_text_into_chunks(file_content, chunk_size)\n",
    "\n",
    "# Print the number of chunks and their contents\n",
    "print(f\"Number of chunks: {len(chunks)}\")"
   ]
  },
  {
   "attachments": {},
   "cell_type": "markdown",
   "metadata": {},
   "source": [
    "##### 2do paso: embeddings"
   ]
  },
  {
   "cell_type": "code",
   "execution_count": 16,
   "metadata": {},
   "outputs": [],
   "source": [
    "import numpy as np\n",
    "\n",
    "def get_text_embedding(input):\n",
    "    embeddings_batch_response = client.embeddings(\n",
    "          model=\"mistral-embed\",\n",
    "          input=input\n",
    "      )\n",
    "    return embeddings_batch_response.data[0].embedding\n",
    "text_embeddings = np.array([get_text_embedding(chunk) for chunk in chunks])\n"
   ]
  },
  {
   "cell_type": "code",
   "execution_count": 21,
   "metadata": {},
   "outputs": [
    {
     "data": {
      "text/plain": [
       "9"
      ]
     },
     "execution_count": 21,
     "metadata": {},
     "output_type": "execute_result"
    }
   ],
   "source": [
    "len(text_embeddings)"
   ]
  },
  {
   "attachments": {},
   "cell_type": "markdown",
   "metadata": {},
   "source": [
    "##### 3er paso: cargar en la base de datos de vectores"
   ]
  },
  {
   "attachments": {},
   "cell_type": "markdown",
   "metadata": {},
   "source": [
    "###### Para probar: https://github.com/pgvector/pgvector\n",
    "\n",
    "###### Para convertir el diccionario en un pdf: https://python.langchain.com/v0.2/docs/how_to/document_loader_pdf/\n",
    "\n",
    "###### Para usar FAISS Instalación de miniconda3 y: https://docs.conda.io/projects/conda/en/stable/user-guide/getting-started.html"
   ]
  },
  {
   "cell_type": "code",
   "execution_count": 24,
   "metadata": {},
   "outputs": [],
   "source": [
    "from langchain.document_loaders import TextLoader\n",
    "from langchain_text_splitters import CharacterTextSplitter\n",
    "from langchain_community.vectorstores import FAISS\n",
    "from langchain_mistralai import MistralAIEmbeddings\n",
    "import os\n",
    "from dotenv import load_dotenv\n",
    "\n",
    "load_dotenv()\n",
    "\n",
    "api_key = os.getenv(\"MISTRAL_API_KEY\")\n",
    "if not api_key:\n",
    "    raise ValueError(\"Error con las variables de entorno.\")\n",
    "\n",
    "os.environ['HF_TOKEN'] = os.getenv('HF_TOKEN')\n",
    "\n",
    "mistral = MistralAIEmbeddings(\n",
    "    model=\"mistral-embed\",\n",
    "    api_key=api_key\n",
    ")\n",
    "\n",
    "# Specify the correct encoding\n",
    "loader = TextLoader(\"output.txt\", encoding=\"utf-8\")\n",
    "\n",
    "documents = loader.load()\n",
    "text_splitter = CharacterTextSplitter(chunk_size=1000, chunk_overlap=100)\n",
    "texts = text_splitter.split_documents(documents)\n",
    "vectorstore = FAISS.from_documents(texts, mistral)"
   ]
  },
  {
   "attachments": {},
   "cell_type": "markdown",
   "metadata": {},
   "source": [
    "https://colab.research.google.com/github/mistralai/cookbook/blob/main/mistral/rag/basic_RAG.ipynb#scrollTo=d67a4729-cd2f-47e7-a4f6-f84a5677414f"
   ]
  },
  {
   "cell_type": "code",
   "execution_count": 32,
   "metadata": {},
   "outputs": [
    {
     "name": "stdout",
     "output_type": "stream",
     "text": [
      "Imane Khelif\n"
     ]
    }
   ],
   "source": [
    "from langchain_mistralai.chat_models import ChatMistralAI\n",
    "from langchain_core.prompts import ChatPromptTemplate\n",
    "from langchain.chains.combine_documents import create_stuff_documents_chain\n",
    "from langchain.chains import create_retrieval_chain\n",
    "\n",
    "# Define a retriever interface\n",
    "retriever = vectorstore.as_retriever()\n",
    "# Define LLM\n",
    "model = ChatMistralAI(mistral_api_key=api_key)\n",
    "# Define prompt template\n",
    "prompt = ChatPromptTemplate.from_template(\"\"\"Responde la siguiente pregunta basándote únicamente en el contexto provisto:\n",
    "\n",
    "<context>\n",
    "{context}\n",
    "</context>\n",
    "\n",
    "Question: {input}\"\"\")\n",
    "\n",
    "# Create a retrieval chain to answer questions\n",
    "document_chain = create_stuff_documents_chain(model, prompt)\n",
    "retrieval_chain = create_retrieval_chain(retriever, document_chain)\n",
    "response = retrieval_chain.invoke({\"input\": \"¿Cómo se llama la boxeadora argelina?\"})\n",
    "print(response[\"answer\"])"
   ]
  }
 ],
 "metadata": {
  "kernelspec": {
   "display_name": "Python 3",
   "language": "python",
   "name": "python3"
  },
  "language_info": {
   "codemirror_mode": {
    "name": "ipython",
    "version": 3
   },
   "file_extension": ".py",
   "mimetype": "text/x-python",
   "name": "python",
   "nbconvert_exporter": "python",
   "pygments_lexer": "ipython3",
   "version": "3.11.4"
  },
  "orig_nbformat": 4
 },
 "nbformat": 4,
 "nbformat_minor": 2
}
