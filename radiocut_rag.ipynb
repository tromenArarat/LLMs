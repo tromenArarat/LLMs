{
 "cells": [
  {
   "attachments": {},
   "cell_type": "markdown",
   "metadata": {},
   "source": [
    "Instanciación de la AI Mistral"
   ]
  },
  {
   "cell_type": "code",
   "execution_count": 8,
   "metadata": {},
   "outputs": [],
   "source": [
    "import os\n",
    "from dotenv import load_dotenv\n",
    "from mistralai.client import MistralClient\n",
    "from mistralai.models.chat_completion import ChatMessage\n",
    "\n",
    "load_dotenv()\n",
    "\n",
    "api_key = os.getenv(\"MISTRAL_API_KEY\")\n",
    "if not api_key:\n",
    "    raise ValueError(\"Error con las variables de entorno.\")\n",
    "\n",
    "model = \"mistral-large-latest\"\n",
    "\n",
    "client = MistralClient(api_key=api_key)\n"
   ]
  },
  {
   "attachments": {},
   "cell_type": "markdown",
   "metadata": {},
   "source": [
    "Prueba del chat"
   ]
  },
  {
   "cell_type": "code",
   "execution_count": 9,
   "metadata": {},
   "outputs": [
    {
     "name": "stdout",
     "output_type": "stream",
     "text": [
      "La palabra \"ubicuo\" se utiliza para describir algo que está presente en todas partes al mismo tiempo. Proviene del latín \"ubique\", que significa \"en todas partes\". En términos más formales, se refiere a una cualidad de omnipresencia, es decir, la capacidad de estar en todos los lugares simultáneamente. Este término se puede aplicar tanto a conceptos abstractos como a entidades físicas o digitales que tienen una amplia distribución o accesibilidad.\n"
     ]
    }
   ],
   "source": [
    "chat_response = client.chat(\n",
    "    model=model,\n",
    "    messages=[ChatMessage(role=\"user\", content=\"Cuál es el significado de 'ubicuo'?\")]\n",
    ")\n",
    "\n",
    "print(chat_response.choices[0].message.content)"
   ]
  },
  {
   "attachments": {},
   "cell_type": "markdown",
   "metadata": {},
   "source": [
    "##### 1er paso: request al sitio para buscar \"robots.txt\" si existe"
   ]
  },
  {
   "cell_type": "code",
   "execution_count": 6,
   "metadata": {},
   "outputs": [
    {
     "name": "stdout",
     "output_type": "stream",
     "text": [
      "robots.txt content:\n",
      "User-agent: *\n",
      "Crawl-delay: 30\n",
      "Request-rate: 1/3\n",
      "Sitemap: https://radiocut.fm/sitemap.xml\n",
      "Disallow: /*/delete$\n",
      "\n"
     ]
    }
   ],
   "source": [
    "import requests\n",
    "\n",
    "def get_robots_txt(url):\n",
    "    if not url.endswith('/'):\n",
    "        url += '/'\n",
    "    \n",
    "    robots_url = url + \"robots.txt\"\n",
    "    \n",
    "    response = requests.get(robots_url)\n",
    "    \n",
    "    if response.status_code == 200:\n",
    "        return response.text\n",
    "    else:\n",
    "        return None\n",
    "\n",
    "website_url = \"https://radiocut.fm\"\n",
    "robots_txt = get_robots_txt(website_url)\n",
    "\n",
    "if robots_txt:\n",
    "    print(\"robots.txt content:\")\n",
    "    print(robots_txt)\n",
    "else:\n",
    "    print(\"robots.txt no encontrado\")"
   ]
  },
  {
   "attachments": {},
   "cell_type": "markdown",
   "metadata": {},
   "source": [
    "\n",
    "##### 2do paso: ajustar el craw_delay y el request_rate con la librería \"time\""
   ]
  },
  {
   "cell_type": "code",
   "execution_count": 20,
   "metadata": {},
   "outputs": [
    {
     "name": "stdout",
     "output_type": "stream",
     "text": [
      "Fetched: https://ar.radiocut.fm/search/?type=cut&page=4&created=1\n"
     ]
    }
   ],
   "source": [
    "import requests\n",
    "import time\n",
    "\n",
    "def fetch_url(url):\n",
    "    response = requests.get(url)\n",
    "    return response\n",
    "\n",
    "# Recortes del día\n",
    "urls = [\"https://ar.radiocut.fm/search/?type=cut&page=4&created=1\"]\n",
    "\n",
    "crawl_delay = 30  # segundos\n",
    "request_rate = 1 / 3  # 1 request cada 3 segundos\n",
    "\n",
    "docs = []\n",
    "for url in urls:\n",
    "    response = fetch_url(url)\n",
    "    if response.status_code == 200:\n",
    "        print(\"Fetched:\", url)\n",
    "        docs.append(response.text)\n",
    "\n",
    "    else:\n",
    "        print(\"Failed to fetch:\", url)\n",
    "    \n",
    "    # Esperar de acuerdo al tiempo del crawl (rebaje)\n",
    "    time.sleep(crawl_delay)\n",
    "    "
   ]
  },
  {
   "cell_type": "code",
   "execution_count": 18,
   "metadata": {},
   "outputs": [
    {
     "data": {
      "text/plain": [
       "1"
      ]
     },
     "execution_count": 18,
     "metadata": {},
     "output_type": "execute_result"
    }
   ],
   "source": [
    "len(docs)"
   ]
  },
  {
   "cell_type": "code",
   "execution_count": 20,
   "metadata": {},
   "outputs": [
    {
     "data": {
      "text/plain": [
       "['\\n<!DOCTYPE html>\\n<html lang=\"es\">\\n<head>\\n<link rel=\"preconnect dns-prefetch\" href=\"https://www.googletagmanager.com\" />\\n<meta charset=\"UTF-8\">\\n<meta name=\"viewport\" content=\"width=device-width,initial-scale=1.0\" />\\n<meta name=\"alexaVerifyID\" content=\"VnZ_Et-Jpg6HoBQRuWYP1dYWaa0\" />\\n<meta property=\"fb:app_id\" content=\"471603786214644\" />\\n<meta property=\"og:site_name\" content=\"RadioCut\" />\\n<meta property=\"og:image\" content=\"https://static.radiocut.com.ar/images/radio_cut_96.png\" />\\n<meta name=\"description\" content=\"\\n            \\n            Escucha radios online de Argentina\\n            \\n          y programas de la radio FM, AM, Noticias, Música... Retrocede horas y días atrás y crea tus propios recortes de la radio.\\n        \">\\n<meta name=\"keywords\" content=\"radios,radiodifusion,programa de radio,noticias,archivo de radios, podcast, deportes,musica,radiocut\">\\n<meta name=\"apple-itunes-app\" content=\"app-id=1120326976\">\\n<meta name=\"google-play-app\" content=\"app-id=com.lambdasistemas.radiocutapp\">\\n<link rel=\"apple-touch-icon\" href=\"https://static.radiocut.com.ar/images/radio_cut_96.png\">\\n<link rel=\"android-touch-icon\" href=\"https://static.radiocut.com.ar/images/radio_cut_96.png\" />\\n<title>Búsqueda | RadioCut\\n           Argentina </title>\\n<link rel=\"shortcut icon\" href=\"https://static.radiocut.com.ar/images/radio_cut_16.png\" type=\"image/png\" />\\n<script>\\nwindow.dataLayer = window.dataLayer || [];\\nwindow.dataLayer.push({\\n  master: \\'main\\',\\n  \\n  userId: null,\\n  \\n  skip_ads: \\'no\\',\\n  ads_type: \\'152media\\',\\n  country_code: \\'AR\\',\\n  has_gdpr: \\'no\\',\\n  });\\n\\nwindow.ga_events = [\\n    \\n];\\n</script>\\n\\n<script>(function(w,d,s,l,i){w[l]=w[l]||[];w[l].push({\\'gtm.start\\':\\nnew Date().getTime(),event:\\'gtm.js\\'});var f=d.getElementsByTagName(s)[0],\\nj=d.createElement(s),dl=l!=\\'dataLayer\\'?\\'&l=\\'+l:\\'\\';j.async=true;j.src=\\n\\'https://www.googletagmanager.com/gtm.js?id=\\'+i+dl;f.parentNode.insertBefore(j,f);\\n})(window,document,\\'script\\',\\'dataLayer\\',\\'GTM-T48SMCX\\');</script>\\n\\n\\n<script>(function(w,d,s,l,i){w[l]=w[l]||[];w[l].push({\\'gtm.start\\':\\nnew Date().getTime(),event:\\'gtm.js\\'});var f=d.getElementsByTagName(s)[0],\\nj=d.createElement(s),dl=l!=\\'dataLayer\\'?\\'&l=\\'+l:\\'\\';j.async=true;j.src=\\n\\'https://www.googletagmanager.com/gtm.js?id=\\'+i+dl;f.parentNode.insertBefore(j,f);\\n})(window,document,\\'script\\',\\'dataLayer\\',\\'GTM-WN7BVX6\\');</script>\\n\\n<script>\\n          window.Radiocut = window.Radiocut || {};\\n          window.Radiocut.vastBaseUrl = \"\";\\n          window.Radiocut.prerollSkipWait = 15,0;\\n          window.Radiocut.staticUrl = \"https://static.radiocut.com.ar/\";\\n        </script>\\n<link rel=\"preload\" href=\"https://static.radiocut.com.ar/js/app.fe494f93d5ad8a05d443c641a32e17ce56635a4b.js\" as=\"script\">\\n<link rel=\"preload\" href=\"https://static.radiocut.com.ar/css/app.79651b6999e693cdd81b03945da4f3a0b310fd63.css\" as=\"style\">\\n<link rel=\"stylesheet\" href=\"https://static.radiocut.com.ar/css/app.79651b6999e693cdd81b03945da4f3a0b310fd63.css\">\\n<link rel=\"alternate\" href=\"https://es.radiocut.fm/search/?type=cut&amp;page=1\" hreflang=\"es-es\" />\\n<link rel=\"alternate\" href=\"https://uy.radiocut.fm/search/?type=cut&amp;page=1\" hreflang=\"es-uy\" />\\n<link rel=\"alternate\" href=\"https://ar.radiocut.fm/search/?type=cut&amp;page=1\" hreflang=\"es-ar\" />\\n<link rel=\"alternate\" href=\"https://co.radiocut.fm/search/?type=cut&amp;page=1\" hreflang=\"es-co\" />\\n<link rel=\"alternate\" href=\"https://ve.radiocut.fm/search/?type=cut&amp;page=1\" hreflang=\"es-ve\" />\\n<link rel=\"alternate\" href=\"https://cl.radiocut.fm/search/?type=cut&amp;page=1\" hreflang=\"es-cl\" />\\n<link rel=\"alternate\" href=\"https://mx.radiocut.fm/search/?type=cut&amp;page=1\" hreflang=\"es-mx\" />\\n<link rel=\"alternate\" href=\"https://cl.radiocut.fm/search/?type=cut&amp;page=1\" hreflang=\"es-cl\" />\\n<link rel=\"alternate\" href=\"https://pe.radiocut.fm/search/?type=cut&amp;page=1\" hreflang=\"es-pe\" />\\n<link rel=\"alternate\" href=\"https://uk.radiocut.fm/search/?type=cut&amp;page=1\" hreflang=\"en-gb\" />\\n<link rel=\"alternate\" href=\"https://us.radiocut.fm/search/?type=cut&amp;page=1\" hreflang=\"en-us\" />\\n<link rel=\"alternate\" href=\"https://in.radiocut.fm/search/?type=cut&amp;page=1\" hreflang=\"en-in\" />\\n<link rel=\"alternate\" href=\"https://id.radiocut.fm/search/?type=cut&amp;page=1\" hreflang=\"en-id\" />\\n<link rel=\"alternate\" href=\"https://tw.radiocut.fm/search/?type=cut&amp;page=1\" hreflang=\"zh-tw\" />\\n<link rel=\"alternate\" href=\"https://my.radiocut.fm/search/?type=cut&amp;page=1\" hreflang=\"en-my\" />\\n<link rel=\"alternate\" href=\"https://ph.radiocut.fm/search/?type=cut&amp;page=1\" hreflang=\"en-ph\" />\\n<link rel=\"alternate\" href=\"https://sg.radiocut.fm/search/?type=cut&amp;page=1\" hreflang=\"en-sg\" />\\n<link rel=\"alternate\" href=\"https://ar.radiocut.fm/search/?type=cut&amp;page=1\" hreflang=\"es\" />\\n<link rel=\"alternate\" href=\"https://radiocut.fm/search/?type=cut&amp;page=1\" hreflang=\"en\" />\\n<link rel=\"alternate\" href=\"https://in.radiocut.fm/search/?type=cut&amp;page=1\" hreflang=\"hi\" />\\n<link rel=\"alternate\" href=\"https://id.radiocut.fm/search/?type=cut&amp;page=1\" hreflang=\"id\" />\\n<link rel=\"alternate\" href=\"https://my.radiocut.fm/search/?type=cut&amp;page=1\" hreflang=\"my\" />\\n<link rel=\"alternate\" href=\"https://ph.radiocut.fm/search/?type=cut&amp;page=1\" hreflang=\"tl\" />\\n<!--[if lte IE 10]>\\n        <link rel=\"stylesheet\" href=\"https://static.radiocut.com.ar/css/ie.ada981331d84936f13e06ff8d081d31b59790624.css\">\\n        <![endif]-->\\n<link rel=\"stylesheet\" href=\"//maxcdn.bootstrapcdn.com/font-awesome/4.7.0/css/font-awesome.min.css\">\\n<script type=\"text/javascript\">\\n            window.currentUser = null;\\n        </script>\\n<link rel=\"alternate\" type=\"application/rss+xml\" title=\"RSS\" href=\"/feeds?type=cut&amp;page=1\" />\\n\\n<!--[if lt IE 10]>\\n        <script src=\"https://static.radiocut.com.ar/js/jquery.iecors.57c8479bae1feff3ffaac837ff4b550542888520.js\"></script>\\n        <![endif]-->\\n\\n<script async defer src=\"https://ats-wrapper.privacymanager.io/ats-modules/0f6ade3d-faee-4e82-9078-a5c024715120/ats.js\"></script>\\n\\n<script async defer src=\"https://www.google.com/recaptcha/api.js\"></script>\\n</head>\\n<body>\\n\\n<noscript><iframe src=\"https://www.googletagmanager.com/ns.html?id=GTM-T48SMCX\"\\nheight=\"0\" width=\"0\" style=\"display:none;visibility:hidden\"></iframe></noscript>\\n\\n\\n<noscript><iframe src=\"https://www.googletagmanager.com/ns.html?id=GTM-WN7BVX6\"\\nheight=\"0\" width=\"0\" style=\"display:none;visibility:hidden\"></iframe></noscript>\\n\\n<div id=\"feedback_bar\" style=\"display: none\"><span class=\"message\"> </span> <a href=\"#\" class=\"dismiss\">[x]</a></div>\\n<nav class=\"navbar navbar-inverse navbar-fixed-top\" id=\"main_header\">\\n<div class=\"container-fluid\">\\n<div class=\"navbar-header\">\\n<button type=\"button\" class=\"navbar-toggle collapsed\" data-toggle=\"collapse\" data-target=\"#bs-example-navbar-collapse-1\">\\n<span class=\"sr-only\">Toggle navigation</span>\\n<span class=\"icon-bar\"></span>\\n<span class=\"icon-bar\"></span>\\n<span class=\"icon-bar\"></span>\\n</button>\\n<a class=\"navbar-brand\" href=\"/\">\\n<img src=\"https://static.radiocut.com.ar/images/radio_cut_64.png\" alt=\"-8&lt;- RadioCut\" />\\n</a>\\n</div>\\n\\n<div class=\"collapse navbar-collapse\" id=\"bs-example-navbar-collapse-1\">\\n<form class=\"nav navbar-nav navbar-form navbar-left\" role=\"search\" id=\"search_form\" method=\"get\" action=\"/search\">\\n<div class=\"input-group hidden-xs\">\\n<select class=\"form-control\" name=\"type\">\\n<option value=\"all\">Todo</option>\\n<option value=\"radio\">Radios</option>\\n<option value=\"show\">Programas</option>\\n<option value=\"cut\">Recortes</option>\\n<option value=\"mark\">Marcas</option>\\n<option value=\"episode\">Episodios</option>\\n</select>\\n</div>\\n<div class=\"input-group\">\\n<input type=\"text\" class=\"form-control search_term\" name=\"search_term\" id=\"search_term\">\\n<span class=\"input-group-btn\">\\n<button type=\"submit\" class=\"btn btn-default\"> <span class=\"glyphicon glyphicon-search\"></span></button>\\n</span>\\n</div>\\n</form>\\n<ul class=\"nav navbar-nav\">\\n<li><a href=\"/features/\">Conoce RadioCut</a></li>\\n<li class=\"dropdown\">\\n<a href=\"#\" class=\"dropdown-toggle\" data-toggle=\"dropdown\" role=\"button\" aria-expanded=\"false\">\\nExplora&nbsp;<i class=\"fa fa-caret-down\"></i>\\n</a>\\n<ul class=\"dropdown-menu\" role=\"menu\">\\n<li>\\n<a href=\"/search?type=radio\">\\nRadios\\n</a>\\n</li>\\n<li><a href=\"https://radiocut.fm/all/\">RadioCut Global</a></li>\\n</ul>\\n<li class=\"dropdown\">\\n<a href=\"#\" class=\"dropdown-toggle\" data-toggle=\"dropdown\" role=\"button\" aria-expanded=\"false\">\\nServicios&nbsp;<i class=\"fa fa-caret-down\"></i>\\n</a>\\n<ul class=\"dropdown-menu\" role=\"menu\">\\n<li><a href=\"/premium/\">Cuenta Premium y Plus</a></li>\\n<li><a href=\"/features/radios/\">Servicios para radios y programas</a></li>\\n<li><a href=\"/customsites/radioshowsite/new\" class=\"blanco\">Crea tu sitio</a></li>\\n<li><a href=\"/radiostationrequest/new/\">Solicitar carga de una radio nueva</a></li>\\n<li><a href=\"/list_request_radio/\">Ver listado de radios postuladas</a></li>\\n</ul>\\n<li class=\"dropdown\">\\n<a href=\"#\" class=\"dropdown-toggle\" data-toggle=\"dropdown\" role=\"button\" aria-expanded=\"false\">\\n<img src=\"https://static.radiocut.com.ar/images/blank.gif\" class=\"flag flag-ar\" alt=\"Argentina\" />\\n&nbsp;<i class=\"fa fa-caret-down\"></i>\\n</a>\\n<ul class=\"dropdown-menu\" role=\"menu\">\\n<li>\\n<a href=\"http://de.radiocut.fm\">\\n<img src=\"https://static.radiocut.com.ar/images/blank.gif\" class=\"flag flag-de\" alt=\"Alemania\" />\\nAlemania\\n</a>\\n</li>\\n<li>\\n<a href=\"http://bd.radiocut.fm\">\\n<img src=\"https://static.radiocut.com.ar/images/blank.gif\" class=\"flag flag-bd\" alt=\"Bangladesh\" />\\nBangladés\\n</a>\\n</li>\\n<li>\\n<a href=\"http://bo.radiocut.fm\">\\n<img src=\"https://static.radiocut.com.ar/images/blank.gif\" class=\"flag flag-bo\" alt=\"Bolivia\" />\\nBolivia\\n</a>\\n</li>\\n<li>\\n<a href=\"http://br.radiocut.fm\">\\n<img src=\"https://static.radiocut.com.ar/images/blank.gif\" class=\"flag flag-br\" alt=\"Brasil\" />\\nBrasil\\n</a>\\n</li>\\n<li>\\n<a href=\"http://cl.radiocut.fm\">\\n<img src=\"https://static.radiocut.com.ar/images/blank.gif\" class=\"flag flag-cl\" alt=\"Chile\" />\\nChile\\n</a>\\n</li>\\n<li>\\n<a href=\"http://co.radiocut.fm\">\\n<img src=\"https://static.radiocut.com.ar/images/blank.gif\" class=\"flag flag-co\" alt=\"Colombia\" />\\nColombia\\n</a>\\n</li>\\n<li>\\n<a href=\"http://farco.radiocut.fm\">\\n<img src=\"https://static.radiocut.com.ar/images/blank.gif\" class=\"flag flag-farco\" alt=\"Emisoras asociadas a FARCO\" />\\nEmisoras asociadas a FARCO\\n</a>\\n</li>\\n<li>\\n<a href=\"http://es.radiocut.fm\">\\n<img src=\"https://static.radiocut.com.ar/images/blank.gif\" class=\"flag flag-es\" alt=\"España\" />\\nEspaña\\n</a>\\n</li>\\n<li>\\n<a href=\"http://in.radiocut.fm\">\\n<img src=\"https://static.radiocut.com.ar/images/blank.gif\" class=\"flag flag-in\" alt=\"India\" />\\nIndia\\n</a>\\n</li>\\n<li>\\n<a href=\"http://id.radiocut.fm\">\\n<img src=\"https://static.radiocut.com.ar/images/blank.gif\" class=\"flag flag-id\" alt=\"Indonesia\" />\\nIndonesia\\n</a>\\n</li>\\n<li>\\n<a href=\"http://my.radiocut.fm\">\\n<img src=\"https://static.radiocut.com.ar/images/blank.gif\" class=\"flag flag-my\" alt=\"Malaysia\" />\\nMalasia\\n</a>\\n</li>\\n<li>\\n<a href=\"http://mx.radiocut.fm\">\\n<img src=\"https://static.radiocut.com.ar/images/blank.gif\" class=\"flag flag-mx\" alt=\"México\" />\\nMéxico\\n</a>\\n</li>\\n<li>\\n<a href=\"http://py.radiocut.fm\">\\n<img src=\"https://static.radiocut.com.ar/images/blank.gif\" class=\"flag flag-py\" alt=\"Paraguay\" />\\nParaguay\\n</a>\\n</li>\\n<li>\\n<a href=\"http://pe.radiocut.fm\">\\n<img src=\"https://static.radiocut.com.ar/images/blank.gif\" class=\"flag flag-pe\" alt=\"Perú\" />\\nPerú\\n</a>\\n</li>\\n<li>\\n<a href=\"http://ph.radiocut.fm\">\\n<img src=\"https://static.radiocut.com.ar/images/blank.gif\" class=\"flag flag-ph\" alt=\"Philippines\" />\\nFilipinas\\n</a>\\n</li>\\n<li>\\n<a href=\"http://sv.radiocut.fm\">\\n<img src=\"https://static.radiocut.com.ar/images/blank.gif\" class=\"flag flag-sv\" alt=\"Radio de El Salvador\" />\\nRadio de El Salvador\\n</a>\\n</li>\\n<li>\\n<a href=\"http://pa.radiocut.fm\">\\n<img src=\"https://static.radiocut.com.ar/images/blank.gif\" class=\"flag flag-pa\" alt=\"Radios Panamá\" />\\nRadios Panamá\\n</a>\\n</li>\\n<li>\\n<a href=\"http://uk.radiocut.fm\">\\n<img class=\"country-select-flag\" src=\"https://static.radiocut.com.ar/flags/uk.gif\" alt=\"Reino Unido\">\\nReino Unido\\n</a>\\n</li>\\n<li>\\n<a href=\"http://sg.radiocut.fm\">\\n<img src=\"https://static.radiocut.com.ar/images/blank.gif\" class=\"flag flag-sg\" alt=\"Singapore\" />\\nSingapur\\n</a>\\n</li>\\n<li>\\n<a href=\"http://tw.radiocut.fm\">\\n<img src=\"https://static.radiocut.com.ar/images/blank.gif\" class=\"flag flag-tw\" alt=\"Taiwán\" />\\nTaiwán\\n</a>\\n</li>\\n<li>\\n<a href=\"http://uy.radiocut.fm\">\\n<img src=\"https://static.radiocut.com.ar/images/blank.gif\" class=\"flag flag-uy\" alt=\"Uruguay\" />\\nUruguay\\n</a>\\n</li>\\n<li>\\n<a href=\"http://us.radiocut.fm\">\\n<img src=\"https://static.radiocut.com.ar/images/blank.gif\" class=\"flag flag-us\" alt=\"USA\" />\\nUSA\\n</a>\\n</li>\\n<li>\\n<a href=\"http://ve.radiocut.fm\">\\n<img src=\"https://static.radiocut.com.ar/images/blank.gif\" class=\"flag flag-ve\" alt=\"Venezuela\" />\\nVenezuela\\n</a>\\n</li>\\n<li>\\n<a href=\"https://radiocut.fm/all/\">\\n<i class=\"fa fa-globe\"></i>\\nRadioCut Global\\n</a>\\n</li>\\n</ul>\\n</ul>\\n<ul id=\"user_menu_items\" class=\"nav navbar-nav navbar-right\">\\n<li>\\n<a id=\"login_button\" href=\"/accounts/login-or-signup\">Ingresar</a>\\n</li>\\n</ul>\\n</div>\\n</div>\\n</nav>\\n<div class=\"container-fluid\">\\n<div class=\"row\">\\n<div class=\"col-md-12\">\\n</div>\\n<div class=\"col-md-12\">\\n<div style=\"text-align:center; clear: both; margin-top: 0px; margin-bottom: 0px;\" id=\"div-gpt-ad-top-leaderboard\" class>\\n</div>\\n</div>\\n</div>\\n<div class=\"row main_wrapper\">\\n<div id=\"contenido\" class=\"col-md-7\">\\n<h1>Resultados de búsqueda</h1>\\n<div class=\"row\">\\n<div class=\"col-sm-12\">\\n<strong>Ver </strong>\\n<span class=\"text-muted\">&nbsp;1923485 resultados</span>\\n</div>\\n</div>\\n<hr/>\\n<ul class=\"list-unstyled search_results\">\\n<li class=\"row\">\\n<div class=\"col-sm-2 col-xs-4\">\\n<a href=\"/audiocut/entrevista-a-alejandro-germano-aaerpa/\">\\n<img class=\"img-thumbnail\" src=\"https://imgsvr.radiocut.site/get/crop/center/100/100/shows_logos/2a/4b/2a4b4c8a-7332-4735-a419-73541b46ae37.jpg\" alt=\"Logo de la recorte\" />\\n</a>\\n</div>\\n<div class=\"col-sm-10 col-xs-8\">\\n<div class=\"row\">\\n<div class=\"col-sm-12\">\\n<a href=\"/audiocut/entrevista-a-alejandro-germano-aaerpa/\">Entrevista a Alejandro Germano de AAERPA</a>\\n<span class=\"text-muted\">Dur: 10:47</span>\\n<i class=\"fa fa-scissors fa-rotate-270 pull-right\"></i>\\n</div>\\n</div>\\n<div class=\"row hidden-xs\">\\n<p class=\"col-sm-12 description text-left\">Entrevista a Alejandro Germano de AAERPA en el programa de Jorge Rial en Radio 10</p>\\n</div>\\n<p>\\nhace 14 horas\\n<a href=\"/user/gabriel116/\">por gabriel116</a>\\n- 593 reproducciones\\n</p>\\n</div>\\n</li>\\n<hr/>\\n<li class=\"row\">\\n<div class=\"col-sm-2 col-xs-4\">\\n<a href=\"/audiocut/editorial-victro-hugo-morales-2/\">\\n<img class=\"img-thumbnail\" src=\"https://imgsvr.radiocut.site/get/crop/center/100/100/shows_logos/4f/d4/4fd4a2c3-ee1a-4d85-93be-0b08c3a974ab.png\" alt=\"Logo de la recorte\" />\\n</a>\\n</div>\\n<div class=\"col-sm-10 col-xs-8\">\\n<div class=\"row\">\\n<div class=\"col-sm-12\">\\n<a href=\"/audiocut/editorial-victro-hugo-morales-2/\">El editorial de Víctor Hugo Morales</a>\\n<span class=\"text-muted\">Dur: 03:17</span>\\n<i class=\"fa fa-scissors fa-rotate-270 pull-right\"></i>\\n</div>\\n</div>\\n<div class=\"row hidden-xs\">\\n<p class=\"col-sm-12 description text-left\">Volvé a escuchar el editorial de VHM por la 750. </p>\\n</div>\\n<p>\\nhace 16 horas\\n<a href=\"/user/RadioAM750/\">por RadioAM750</a>\\n- 425 reproducciones\\n</p>\\n</div>\\n</li>\\n<hr/>\\n<li class=\"row\">\\n<div class=\"col-sm-2 col-xs-4\">\\n<a href=\"/audiocut/rosita-contreras-nos-explica-un-polemico-proyecto-ley-del-ejecutivo/\">\\n<img class=\"img-thumbnail\" src=\"https://imgsvr.radiocut.site/get/crop/center/100/100/shows_logos/63/31/6331cb7b-1a1a-49d1-b042-46a9203db2bf.jpg\" alt=\"Logo de la recorte\" />\\n</a>\\n</div>\\n<div class=\"col-sm-10 col-xs-8\">\\n<div class=\"row\">\\n<div class=\"col-sm-12\">\\n<a href=\"/audiocut/rosita-contreras-nos-explica-un-polemico-proyecto-ley-del-ejecutivo/\">Rosita Contreras nos explica un polémico proyecto de ley del ejecutivo</a>\\n<span class=\"text-muted\">Dur: 12:27</span>\\n<i class=\"fa fa-scissors fa-rotate-270 pull-right\"></i>\\n</div>\\n</div>\\n<div class=\"row hidden-xs\">\\n<p class=\"col-sm-12 description text-left\">Entrevista en la FM 90.1 El Chubut en el programa \"La última palabra\" de Martín Bussi</p>\\n</div>\\n<p>\\nhace 17 horas\\n<a href=\"/user/karlosca/\">por karlosca</a>\\n- 198 reproducciones\\n</p>\\n</div>\\n</li>\\n<hr/>\\n<li class=\"row\">\\n<div class=\"col-sm-2 col-xs-4\">\\n<a href=\"/audiocut/conversatorio-junto-a-daniel-tognetti-diego-sztulwark-y-alejandro-horowicz-en-siempreeshoy/\">\\n<img class=\"img-thumbnail\" src=\"https://imgsvr.radiocut.site/get/crop/center/100/100/shows_logos/e2/6d/e26d4a75-37c8-446a-8f57-93d63ee2fbca.jpg\" alt=\"Logo de la recorte\" />\\n</a>\\n</div>\\n<div class=\"col-sm-10 col-xs-8\">\\n<div class=\"row\">\\n<div class=\"col-sm-12\">\\n<a href=\"/audiocut/conversatorio-junto-a-daniel-tognetti-diego-sztulwark-y-alejandro-horowicz-en-siempreeshoy/\">El Conversatorio junto a Daniel Tognetti, Diego Sztulwark y Alejandro Horowicz en #SiempreEsHoy</a>\\n<span class=\"text-muted\">Dur: 41:43</span>\\n<i class=\"fa fa-scissors fa-rotate-270 pull-right\"></i>\\n</div>\\n</div>\\n<div class=\"row hidden-xs\">\\n<p class=\"col-sm-12 description text-left\">El habitual conversatorio de #SiempreEsHoy<br/></p>\\n</div>\\n<p>\\nhace 2 días, 14 horas\\n<a href=\"/user/somosradio/\">por somosradio</a>\\n- 814 reproducciones\\n</p>\\n</div>\\n</li>\\n<hr/>\\n<li class=\"row\">\\n<div class=\"col-sm-2 col-xs-4\">\\n<a href=\"/audiocut/columna-lobo-suelto-venezuela-balance-desde-argentina/\">\\n<img class=\"img-thumbnail\" src=\"https://imgsvr.radiocut.site/get/crop/center/100/100/cuts_logos/9b/d3/9bd33a8e-506c-498d-a9d1-f331ef346501.png\" alt=\"Logo de la recorte\" />\\n</a>\\n</div>\\n<div class=\"col-sm-10 col-xs-8\">\\n<div class=\"row\">\\n<div class=\"col-sm-12\">\\n<a href=\"/audiocut/columna-lobo-suelto-venezuela-balance-desde-argentina/\">#COLUMNA LOBO SUELTO: Venezuela, balance desde argentina</a>\\n<span class=\"text-muted\">Dur: 23:52</span>\\n<i class=\"fa fa-scissors fa-rotate-270 pull-right\"></i>\\n</div>\\n</div>\\n<div class=\"row hidden-xs\">\\n<p class=\"col-sm-12 description text-left\">En una nueva intervención de Diego Sztulwark en Subversiones con la columna de Lobo Suelto, en diálogo con Pablo Ramos, analizan lo que acontece en Venezuela. ¿Cuáles fueron los limites de los procesos socialistas, progresistas en América Latina? ¿Cómo leer esas decepciones? <br/></p>\\n</div>\\n<p>\\nhace 2 días, 10 horas\\n<a href=\"/user/Camilaluz/\">por Camilaluz</a>\\n- 202 reproducciones\\n</p>\\n</div>\\n</li>\\n<hr/>\\n<script async src=\"https://pagead2.googlesyndication.com/pagead/js/adsbygoogle.js\"></script>\\n<ins class=\"adsbygoogle\" style=\"display:block\" data-ad-format=\"fluid\" data-ad-layout-key=\"-h1+p-z-ej+ud\" data-ad-client=\"ca-pub-3630645806124191\" data-ad-slot=\"8362982357\"></ins>\\n<script>\\n(adsbygoogle = window.adsbygoogle || []).push({});\\n</script>\\n<hr/>\\n<li class=\"row\">\\n<div class=\"col-sm-2 col-xs-4\">\\n<a href=\"/audiocut/entrevista-a-graciela-guell-sec-gral-adj-uepc-capital/\">\\n<img class=\"img-thumbnail\" src=\"https://imgsvr.radiocut.site/get/crop/center/100/100/cuts_logos/e6/d9/e6d9e9ab-6789-4a73-b5ca-7c27f520ec16.jpg\" alt=\"Logo de la recorte\" />\\n</a>\\n</div>\\n<div class=\"col-sm-10 col-xs-8\">\\n<div class=\"row\">\\n<div class=\"col-sm-12\">\\n<a href=\"/audiocut/entrevista-a-graciela-guell-sec-gral-adj-uepc-capital/\">Entrevista a Graciela Güell Sec.Gral.Adj de la UEPC Capital </a>\\n<span class=\"text-muted\">Dur: 20:21</span>\\n<i class=\"fa fa-scissors fa-rotate-270 pull-right\"></i>\\n</div>\\n</div>\\n<div class=\"row hidden-xs\">\\n<p class=\"col-sm-12 description text-left\">Conflicto docente en la provincia de Córdoba. La importancia de la defensa del valor de la tarea docente </p>\\n</div>\\n<p>\\nhace 5 horas\\n<a href=\"/user/claudiovigne/\">por claudiovigne</a>\\n- 22 reproducciones\\n</p>\\n</div>\\n</li>\\n<hr/>\\n<li class=\"row\">\\n<div class=\"col-sm-2 col-xs-4\">\\n<a href=\"/audiocut/miguel-angel-rearte/\">\\n<img class=\"img-thumbnail\" src=\"https://imgsvr.radiocut.site/get/crop/center/100/100/shows_logos/40/7b/407bf90a-0fd8-4817-a2ab-16adb9bf6a1e.png\" alt=\"Logo de la recorte\" />\\n</a>\\n</div>\\n<div class=\"col-sm-10 col-xs-8\">\\n<div class=\"row\">\\n<div class=\"col-sm-12\">\\n<a href=\"/audiocut/miguel-angel-rearte/\">Miguel Angel Rearte</a>\\n<span class=\"text-muted\">Dur: 13:54</span>\\n<i class=\"fa fa-scissors fa-rotate-270 pull-right\"></i>\\n</div>\\n</div>\\n<div class=\"row hidden-xs\">\\n<p class=\"col-sm-12 description text-left\">Hoy, como cada 2 de agosto, se celebra el #DiaDelGastronomico. Lo festejamos con el dueño de un restaurante en Chilecito</p>\\n</div>\\n<p>\\nhace 8 horas\\n<a href=\"/user/RBA1350/\">por RBA1350</a>\\n- 41 reproducciones\\n</p>\\n</div>\\n</li>\\n<hr/>\\n<li class=\"row\">\\n<div class=\"col-sm-2 col-xs-4\">\\n<a href=\"/audiocut/entrevista-a-milagros-gonzalez-ex-alumna-ees-61/\">\\n<img class=\"img-thumbnail\" src=\"https://imgsvr.radiocut.site/get/crop/center/100/100/cuts_logos/88/e0/88e00b97-5469-403a-9b88-2c7909b7be1e.jpg\" alt=\"Logo de la recorte\" />\\n</a>\\n</div>\\n<div class=\"col-sm-10 col-xs-8\">\\n<div class=\"row\">\\n<div class=\"col-sm-12\">\\n<a href=\"/audiocut/entrevista-a-milagros-gonzalez-ex-alumna-ees-61/\">Entrevista a Milagros Gonzalez ex alumna de la EES 61 </a>\\n<span class=\"text-muted\">Dur: 16:35</span>\\n<i class=\"fa fa-scissors fa-rotate-270 pull-right\"></i>\\n</div>\\n</div>\\n<div class=\"row hidden-xs\">\\n<p class=\"col-sm-12 description text-left\">Arbitrario desplazamiento del equipo directivo de la EES 61 de la ciudad de La Plata. Ocultamiento y restricción del derecho a la legítima defensa de lxs trabajadorxs de la educación </p>\\n</div>\\n<p>\\nhace 6 horas\\n<a href=\"/user/claudiovigne/\">por claudiovigne</a>\\n- 31 reproducciones\\n</p>\\n</div>\\n</li>\\n<hr/>\\n<li class=\"row\">\\n<div class=\"col-sm-2 col-xs-4\">\\n<a href=\"/audiocut/columna-juan-gonzalez-2/\">\\n<img class=\"img-thumbnail\" src=\"https://imgsvr.radiocut.site/get/crop/center/100/100/shows_logos/e2/6d/e26d4a75-37c8-446a-8f57-93d63ee2fbca.jpg\" alt=\"Logo de la recorte\" />\\n</a>\\n</div>\\n<div class=\"col-sm-10 col-xs-8\">\\n<div class=\"row\">\\n<div class=\"col-sm-12\">\\n<a href=\"/audiocut/columna-juan-gonzalez-2/\">Columna de Juan González</a>\\n<span class=\"text-muted\">Dur: 18:51</span>\\n<i class=\"fa fa-scissors fa-rotate-270 pull-right\"></i>\\n</div>\\n</div>\\n<div class=\"row hidden-xs\">\\n<p class=\"col-sm-12 description text-left\">La habitual columna de #SiempreEsHoy</p>\\n</div>\\n<p>\\nhace 15 horas\\n<a href=\"/user/somosradio/\">por somosradio</a>\\n- 64 reproducciones\\n</p>\\n</div>\\n</li>\\n<hr/>\\n<li class=\"row\">\\n<div class=\"col-sm-2 col-xs-4\">\\n<a href=\"/audiocut/paula-klachko-quieren-generar-un-golpe-es-muy-parecido-a-lo-ucrania-2014/\">\\n<img class=\"img-thumbnail\" src=\"https://imgsvr.radiocut.site/get/crop/center/100/100/shows_logos/f6/36/f636c4f7-c784-4466-818e-5efc3010e3cc.jpg\" alt=\"Logo de la recorte\" />\\n</a>\\n</div>\\n<div class=\"col-sm-10 col-xs-8\">\\n<div class=\"row\">\\n<div class=\"col-sm-12\">\\n<a href=\"/audiocut/paula-klachko-quieren-generar-un-golpe-es-muy-parecido-a-lo-ucrania-2014/\">Paula Klachko &quot;Quieren generar un golpe, es muy parecido a lo de Ucrania de 2014&quot;</a>\\n<span class=\"text-muted\">Dur: 28:48</span>\\n<i class=\"fa fa-scissors fa-rotate-270 pull-right\"></i>\\n</div>\\n</div>\\n<div class=\"row hidden-xs\">\\n<p class=\"col-sm-12 description text-left\">🗣️ Paula Klachko <a href=\"https://twitter.com/paula_klachko\" target=\"new\">@paula_klachko</a><br/>Socióloga, Dra. en Historia</p>\\n</div>\\n<p>\\nhace 1 día, 1 hora\\n<a href=\"/user/somosradio/\">por somosradio</a>\\n- 60 reproducciones\\n</p>\\n</div>\\n</li>\\n<hr/>\\n<li class=\"row\">\\n<div class=\"col-sm-2 col-xs-4\">\\n<a href=\"/audiocut/tenembaum-sobre-fakenews-boxeadora-no-trans/\">\\n<img class=\"img-thumbnail\" src=\"https://imgsvr.radiocut.site/get/crop/center/100/100/shows_logos/Posteos-01.jpg\" alt=\"Logo de la recorte\" />\\n</a>\\n</div>\\n<div class=\"col-sm-10 col-xs-8\">\\n<div class=\"row\">\\n<div class=\"col-sm-12\">\\n<a href=\"/audiocut/tenembaum-sobre-fakenews-boxeadora-no-trans/\">Tenembaum sobre la fakenews de la boxeadora no-trans</a>\\n<span class=\"text-muted\">Dur: 19:53</span>\\n<i class=\"fa fa-scissors fa-rotate-270 pull-right\"></i>\\n</div>\\n</div>\\n<div class=\"row hidden-xs\">\\n<p class=\"col-sm-12 description text-left\">Los homofóbicos antifeministas al palo. Combaten un principio básico de Occidente. Mucho boludo bruto con guita y poder destilando odio. Musk, Galperín, Trump, Bolsonaro, Milei, etc.</p>\\n</div>\\n<p>\\nhace 17 horas\\n<a href=\"/user/dderosa/\">por dderosa</a>\\n- 61 reproducciones\\n</p>\\n</div>\\n</li>\\n<hr/>\\n<li class=\"row\">\\n<div class=\"col-sm-2 col-xs-4\">\\n<a href=\"/audiocut/ruben-ponce-leon-veterano-malvinas/\">\\n<img class=\"img-thumbnail\" src=\"https://imgsvr.radiocut.site/get/crop/center/100/100/shows_logos/cd/c9/cdc933c3-4144-4a5e-8fad-bfbc1bb7eed2.png\" alt=\"Logo de la recorte\" />\\n</a>\\n</div>\\n<div class=\"col-sm-10 col-xs-8\">\\n<div class=\"row\">\\n<div class=\"col-sm-12\">\\n<a href=\"/audiocut/ruben-ponce-leon-veterano-malvinas/\">Rubén Ponce de León, veterano de Malvinas</a>\\n<span class=\"text-muted\">Dur: 15:45</span>\\n<i class=\"fa fa-scissors fa-rotate-270 pull-right\"></i>\\n</div>\\n</div>\\n<div class=\"row hidden-xs\">\\n<p class=\"col-sm-12 description text-left\">Denuncia al padre de la diputada libertaria Lourdes Arrieta por privarlos de alimentos en Malvinas.</p>\\n</div>\\n<p>\\nhace 1 día, 9 horas\\n<a href=\"/user/RadioAM750/\">por RadioAM750</a>\\n- 145 reproducciones\\n</p>\\n</div>\\n</li>\\n<hr/>\\n<li class=\"row\">\\n<div class=\"col-sm-2 col-xs-4\">\\n<a href=\"/audiocut/claudia-cesaroni-bajar-edad-imputabilidad-es-contruir-un-problerma-grave-donde-no-lo-hay/\">\\n<img class=\"img-thumbnail\" src=\"https://imgsvr.radiocut.site/get/crop/center/100/100/shows_logos/30/9e/309e4b3e-0248-4eb8-9570-a085d4fb9375.png\" alt=\"Logo de la recorte\" />\\n</a>\\n</div>\\n<div class=\"col-sm-10 col-xs-8\">\\n<div class=\"row\">\\n<div class=\"col-sm-12\">\\n<a href=\"/audiocut/claudia-cesaroni-bajar-edad-imputabilidad-es-contruir-un-problerma-grave-donde-no-lo-hay/\">Claudia Cesaroni: &quot;Bajar la edad de punibilidad es construir un problerma grave donde no lo hay&quot;</a>\\n<span class=\"text-muted\">Dur: 19:44</span>\\n<i class=\"fa fa-scissors fa-rotate-270 pull-right\"></i>\\n</div>\\n</div>\\n<div class=\"row hidden-xs\">\\n<p class=\"col-sm-12 description text-left\">Abigail Lassalle dialogó con Claudia Cesaroni, abogada UBA y magíster en Criminología por la Universidad Nacional de Lomas de Zamora sobre que entre 2001 y 2004 trabajó en la Procuración Penitenciaria y entre 2004 y 2010 en la Secretaría de Derechos Humanos de la Nación sobre el proyecto para la baja imputabilidad de menores. </p>\\n</div>\\n<p>\\nhace 1 día, 14 horas\\n<a href=\"/user/REPUBLICA/\">por REPUBLICA</a>\\n- 266 reproducciones\\n</p>\\n</div>\\n</li>\\n<hr/>\\n<script async src=\"https://pagead2.googlesyndication.com/pagead/js/adsbygoogle.js\"></script>\\n<ins class=\"adsbygoogle\" style=\"display:block\" data-ad-format=\"fluid\" data-ad-layout-key=\"-h1+p-z-ej+ud\" data-ad-client=\"ca-pub-3630645806124191\" data-ad-slot=\"8362982357\"></ins>\\n<script>\\n(adsbygoogle = window.adsbygoogle || []).push({});\\n</script>\\n<hr/>\\n<li class=\"row\">\\n<div class=\"col-sm-2 col-xs-4\">\\n<a href=\"/audiocut/medianoche-con-carlos-polimeni-3711/\">\\n<img class=\"img-thumbnail\" src=\"https://imgsvr.radiocut.site/get/crop/center/100/100/cuts_logos/ac/a3/aca3f103-5d13-4fa2-9896-67daeb90219c.jpg\" alt=\"Logo de la recorte\" />\\n</a>\\n</div>\\n<div class=\"col-sm-10 col-xs-8\">\\n<div class=\"row\">\\n<div class=\"col-sm-12\">\\n<a href=\"/audiocut/medianoche-con-carlos-polimeni-3711/\">&quot;La medianoche con Carlos Polimeni&quot;</a>\\n<span class=\"text-muted\">Dur: 117:12</span>\\n<i class=\"fa fa-scissors fa-rotate-270 pull-right\"></i>\\n</div>\\n</div>\\n<div class=\"row hidden-xs\">\\n<p class=\"col-sm-12 description text-left\">Programa completo del 2-8-24 celebrando las primeras 300 emisiones ♥</p>\\n</div>\\n<p>\\nhace 1 día, 1 hora\\n<a href=\"/user/monica19/\">por monica19</a>\\n- 28 reproducciones\\n</p>\\n</div>\\n</li>\\n<hr/>\\n<li class=\"row\">\\n<div class=\"col-sm-2 col-xs-4\">\\n<a href=\"/audiocut/caballero-fija-posicion-respecto-a-venezuela-para-adentro-y-afuera/\">\\n<img class=\"img-thumbnail\" src=\"https://imgsvr.radiocut.site/get/crop/center/100/100/shows_logos/8e/87/8e87f0a6-7348-42b5-81bd-9853f2094a57.jpg\" alt=\"Logo de la recorte\" />\\n</a>\\n</div>\\n<div class=\"col-sm-10 col-xs-8\">\\n<div class=\"row\">\\n<div class=\"col-sm-12\">\\n<a href=\"/audiocut/caballero-fija-posicion-respecto-a-venezuela-para-adentro-y-afuera/\">Caballero Fija Posición respecto a Venezuela para los de adentro y los de afuera.</a>\\n<span class=\"text-muted\">Dur: 20:11</span>\\n<i class=\"fa fa-scissors fa-rotate-270 pull-right\"></i>\\n</div>\\n</div>\\n<div class=\"row hidden-xs\">\\n<p class=\"col-sm-12 description text-left\">CABALLERO DE DÍA EN RADIO MADRES.</p>\\n</div>\\n<p>\\nhace 1 día, 17 horas\\n<a href=\"/user/PabloMateoVillarruel/\">por PabloMateoVillarruel</a>\\n- 274 reproducciones\\n</p>\\n</div>\\n</li>\\n<hr/>\\n<li class=\"row\">\\n<div class=\"col-sm-2 col-xs-4\">\\n<a href=\"/audiocut/pablo-dipi-dipierri-sobre-sistema-politico-en-venezuela/\">\\n<img class=\"img-thumbnail\" src=\"https://imgsvr.radiocut.site/get/crop/center/100/100/shows_logos/ad/3b/ad3bcc44-8a9c-4dd3-b071-b9f0d6c47924.jpg\" alt=\"Logo de la recorte\" />\\n</a>\\n</div>\\n<div class=\"col-sm-10 col-xs-8\">\\n<div class=\"row\">\\n<div class=\"col-sm-12\">\\n<a href=\"/audiocut/pablo-dipi-dipierri-sobre-sistema-politico-en-venezuela/\">Pablo Dipi Dipierri sobre el sistema político en Venezuela</a>\\n<span class=\"text-muted\">Dur: 27:37</span>\\n<i class=\"fa fa-scissors fa-rotate-270 pull-right\"></i>\\n</div>\\n</div>\\n<div class=\"row hidden-xs\">\\n<p class=\"col-sm-12 description text-left\">Columna más que recomendable.</p>\\n</div>\\n<p>\\nhace 14 horas\\n<a href=\"/user/comunicacionlatribu/\">por comunicacionlatribu</a>\\n- 43 reproducciones\\n</p>\\n</div>\\n</li>\\n<hr/>\\n<li class=\"row\">\\n<div class=\"col-sm-2 col-xs-4\">\\n<a href=\"/audiocut/victor-hugo-entre-cobardia-y-complicidad-america-deja-sola-a-venezuela/\">\\n<img class=\"img-thumbnail\" src=\"https://imgsvr.radiocut.site/get/crop/center/100/100/shows_logos/4f/d4/4fd4a2c3-ee1a-4d85-93be-0b08c3a974ab.png\" alt=\"Logo de la recorte\" />\\n</a>\\n</div>\\n<div class=\"col-sm-10 col-xs-8\">\\n<div class=\"row\">\\n<div class=\"col-sm-12\">\\n<a href=\"/audiocut/victor-hugo-entre-cobardia-y-complicidad-america-deja-sola-a-venezuela/\">Víctor Hugo: &quot;Entre la cobardía y la complicidad, América deja sola a Venezuela&quot;</a>\\n<span class=\"text-muted\">Dur: 02:37</span>\\n<i class=\"fa fa-scissors fa-rotate-270 pull-right\"></i>\\n</div>\\n</div>\\n<div class=\"row hidden-xs\">\\n<p class=\"col-sm-12 description text-left\">En su editorial de La Mañana por la 750, el periodista apunta contra la reacción de gobiernos y medios de la región sobre el resultado de las elecciones en Venezuela. </p>\\n</div>\\n<p>\\nhace 3 días, 16 horas\\n<a href=\"/user/RadioAM750/\">por RadioAM750</a>\\n- 2351 reproducciones\\n</p>\\n</div>\\n</li>\\n<hr/>\\n<li class=\"row\">\\n<div class=\"col-sm-2 col-xs-4\">\\n<a href=\"/audiocut/editorial-roberto-caballero-poncho-no-aparece/\">\\n<img class=\"img-thumbnail\" src=\"https://imgsvr.radiocut.site/get/crop/center/100/100/shows_logos/8e/87/8e87f0a6-7348-42b5-81bd-9853f2094a57.jpg\" alt=\"Logo de la recorte\" />\\n</a>\\n</div>\\n<div class=\"col-sm-10 col-xs-8\">\\n<div class=\"row\">\\n<div class=\"col-sm-12\">\\n<a href=\"/audiocut/editorial-roberto-caballero-poncho-no-aparece/\">Editorial de Roberto Caballero: EL PONCHO NO APARECE</a>\\n<span class=\"text-muted\">Dur: 07:20</span>\\n<i class=\"fa fa-scissors fa-rotate-270 pull-right\"></i>\\n</div>\\n</div>\\n<div class=\"row hidden-xs\">\\n<p class=\"col-sm-12 description text-left\">El habitual editorial de #CaballeroDeDía</p>\\n</div>\\n<p>\\nhace 16 horas\\n<a href=\"/user/somosradio/\">por somosradio</a>\\n- 51 reproducciones\\n</p>\\n</div>\\n</li>\\n<hr/>\\n<li class=\"row\">\\n<div class=\"col-sm-2 col-xs-4\">\\n<a href=\"/audiocut/editorial-roberto-caballero-maduro-y-granja-bots/\">\\n<img class=\"img-thumbnail\" src=\"https://imgsvr.radiocut.site/get/crop/center/100/100/shows_logos/8e/87/8e87f0a6-7348-42b5-81bd-9853f2094a57.jpg\" alt=\"Logo de la recorte\" />\\n</a>\\n</div>\\n<div class=\"col-sm-10 col-xs-8\">\\n<div class=\"row\">\\n<div class=\"col-sm-12\">\\n<a href=\"/audiocut/editorial-roberto-caballero-maduro-y-granja-bots/\">Editorial de Roberto Caballero: MADURO Y LA GRANJA DE BOTS</a>\\n<span class=\"text-muted\">Dur: 24:11</span>\\n<i class=\"fa fa-scissors fa-rotate-270 pull-right\"></i>\\n</div>\\n</div>\\n<div class=\"row hidden-xs\">\\n<p class=\"col-sm-12 description text-left\">El habitual editorial de #CaballeroDeDía</p>\\n</div>\\n<p>\\nhace 1 día, 16 horas\\n<a href=\"/user/somosradio/\">por somosradio</a>\\n- 209 reproducciones\\n</p>\\n</div>\\n</li>\\n<hr/>\\n<li class=\"row\">\\n<div class=\"col-sm-2 col-xs-4\">\\n<a href=\"/audiocut/contacto-en-mananero-concejal-juan-mercado/\">\\n<img class=\"img-thumbnail\" src=\"https://imgsvr.radiocut.site/get/crop/center/100/100/radio_logos/0e/2f/0e2fdd2e-8f5a-490f-9687-c394ffdcae2d.png\" alt=\"Logo de la recorte\" />\\n</a>\\n</div>\\n<div class=\"col-sm-10 col-xs-8\">\\n<div class=\"row\">\\n<div class=\"col-sm-12\">\\n<a href=\"/audiocut/contacto-en-mananero-concejal-juan-mercado/\">Contacto en El Mañanero - Concejal Juan Mercado</a>\\n<span class=\"text-muted\">Dur: 35:32</span>\\n<i class=\"fa fa-scissors fa-rotate-270 pull-right\"></i>\\n</div>\\n</div>\\n<div class=\"row hidden-xs\">\\n<p class=\"col-sm-12 description text-left\">Programa 30 07 24</p>\\n</div>\\n<p>\\nhace 3 días, 17 horas\\n<a href=\"/user/LucianoGarciaT/\">por LucianoGarciaT</a>\\n- 56 reproducciones\\n</p>\\n</div>\\n</li>\\n<hr/>\\n<li class=\"row\">\\n<div class=\"col-sm-2 col-xs-4\">\\n<a href=\"/audiocut/ernesto-alonso-padre-villaruel-fue-dado-baja-por-inepto/\">\\n<img class=\"img-thumbnail\" src=\"https://imgsvr.radiocut.site/get/crop/center/100/100/shows_logos/ea/45/ea45143b-fa9b-411f-abd7-46a11bf5069e.jpg\" alt=\"Logo de la recorte\" />\\n</a>\\n</div>\\n<div class=\"col-sm-10 col-xs-8\">\\n<div class=\"row\">\\n<div class=\"col-sm-12\">\\n<a href=\"/audiocut/ernesto-alonso-padre-villaruel-fue-dado-baja-por-inepto/\">Ernesto Alonso: &quot;El padre de Villaruel fue dado de baja por inepto&quot;</a>\\n<span class=\"text-muted\">Dur: 09:13</span>\\n<i class=\"fa fa-scissors fa-rotate-270 pull-right\"></i>\\n</div>\\n</div>\\n<div class=\"row hidden-xs\">\\n<p class=\"col-sm-12 description text-left\">Hablamos con Ernesto Alonso, Secretario de DD.HH del Centro de Ex Combatientes CECIM La Plata, en #QueVuelvanLasIdeas</p>\\n</div>\\n<p>\\nhace 8 horas\\n<a href=\"/user/somosradio/\">por somosradio</a>\\n- 12 reproducciones\\n</p>\\n</div>\\n</li>\\n<hr/>\\n<script async src=\"https://pagead2.googlesyndication.com/pagead/js/adsbygoogle.js\"></script>\\n<ins class=\"adsbygoogle\" style=\"display:block\" data-ad-format=\"fluid\" data-ad-layout-key=\"-h1+p-z-ej+ud\" data-ad-client=\"ca-pub-3630645806124191\" data-ad-slot=\"8362982357\"></ins>\\n<script>\\n(adsbygoogle = window.adsbygoogle || []).push({});\\n</script>\\n<hr/>\\n<li class=\"row\">\\n<div class=\"col-sm-2 col-xs-4\">\\n<a href=\"/audiocut/roberto-berrozpe-ningun-pais-logro-su-desarrollo-entrego-sus-recursos-naturales/\">\\n<img class=\"img-thumbnail\" src=\"https://imgsvr.radiocut.site/get/crop/center/100/100/cuts_logos/95/00/950029ce-ef71-4f81-ab38-77f72a425357.png\" alt=\"Logo de la recorte\" />\\n</a>\\n</div>\\n<div class=\"col-sm-10 col-xs-8\">\\n<div class=\"row\">\\n<div class=\"col-sm-12\">\\n<a href=\"/audiocut/roberto-berrozpe-ningun-pais-logro-su-desarrollo-entrego-sus-recursos-naturales/\">Roberto Berrozpe | Ningun pais que logro su desarrollo entrego sus recursos naturales.</a>\\n<span class=\"text-muted\">Dur: 10:34</span>\\n<i class=\"fa fa-scissors fa-rotate-270 pull-right\"></i>\\n</div>\\n</div>\\n<div class=\"row hidden-xs\">\\n<p class=\"col-sm-12 description text-left\">Roberto Berrozpe, dirigente y militante popular paso por el aire de #RadioAtomika y hablo en #CabezasDeRadio.<br/>Berrozpe se proclamo de cara a la movilización de #SanCayetano \"Este 7 de agosto hay un reclamo claro, el reclamo de poder trabajar, pero este gobierno se dedica a cerrar fabricas\" el dirigente de la agrupación De Frente y del Peronismo de la Soberanía también se refirió a la situación del conurbano \"Hay que rescatar la decisión de los intendentes peronistas como Juan Jose Mussi y el gobernador Kicillof de tener una gestión de cara al pueblo, estando en las malas mucho mas\" Tambien el dirigente se refirió a la planta de GNL que debería hacerse en Bahia Blanca \"No solo es una perdida para el pueblo bonarense, es una perdida de soberanía, porque con el #RIGI van entregar los dólares de la producción afuera\" <br/>para finalizar se solidarizo con las organizaciones sociales \"Es una locura lo que esta pasando en desarrollo social, es una locura que se persiga a los compañeros y compañeras que se dedican a darle de comer a nuestros pibes y pibas\"<br/></p>\\n</div>\\n<p>\\nhace 14 horas\\n<a href=\"/user/CabezasdeRadio/\">por CabezasdeRadio</a>\\n- 9 reproducciones\\n</p>\\n</div>\\n</li>\\n<hr/>\\n<li class=\"row\">\\n<div class=\"col-sm-2 col-xs-4\">\\n<a href=\"/audiocut/columna-sergio-wischnevsky-grandes-momentos-historicos-olimpiadas/\">\\n<img class=\"img-thumbnail\" src=\"https://imgsvr.radiocut.site/get/crop/center/100/100/shows_logos/e2/6d/e26d4a75-37c8-446a-8f57-93d63ee2fbca.jpg\" alt=\"Logo de la recorte\" />\\n</a>\\n</div>\\n<div class=\"col-sm-10 col-xs-8\">\\n<div class=\"row\">\\n<div class=\"col-sm-12\">\\n<a href=\"/audiocut/columna-sergio-wischnevsky-grandes-momentos-historicos-olimpiadas/\">La Columna de Sergio Wischñevsky: Grandes momentos históricos de las Olimpiadas</a>\\n<span class=\"text-muted\">Dur: 10:40</span>\\n<i class=\"fa fa-scissors fa-rotate-270 pull-right\"></i>\\n</div>\\n</div>\\n<div class=\"row hidden-xs\">\\n<p class=\"col-sm-12 description text-left\">La habitual columna de #SiempreEsHoy</p>\\n</div>\\n<p>\\nhace 14 horas\\n<a href=\"/user/somosradio/\">por somosradio</a>\\n- 22 reproducciones\\n</p>\\n</div>\\n</li>\\n<hr/>\\n<li class=\"row\">\\n<div class=\"col-sm-2 col-xs-4\">\\n<a href=\"/audiocut/angel4d-angel-4d-slot-link-alternatif-angel4d-daftar-angel4d-login-angel4d/\">\\n<img class=\"img-thumbnail\" src=\"https://imgsvr.radiocut.site/get/crop/center/100/100/cuts_logos/1f/f3/1ff3f0fc-0137-41f1-9720-82d191565d8e.jpg\" alt=\"Logo de la recorte\" />\\n</a>\\n</div>\\n<div class=\"col-sm-10 col-xs-8\">\\n<div class=\"row\">\\n<div class=\"col-sm-12\">\\n<a href=\"/audiocut/angel4d-angel-4d-slot-link-alternatif-angel4d-daftar-angel4d-login-angel4d/\">ANGEL4D • ANGEL 4D SLOT • LINK ALTERNATIF ANGEL4D • DAFTAR ANGEL4D • LOGIN ANGEL4D</a>\\n<span class=\"text-muted\">Dur: 02:50</span>\\n<i class=\"fa fa-scissors fa-rotate-270 pull-right\"></i>\\n</div>\\n</div>\\n<div class=\"row hidden-xs\">\\n<p class=\"col-sm-12 description text-left\">ANGEL4D SLOT MERUPAKAN 10 SITUS JUDI SLOT ONLINE UANG ASLI GAMPANG MENANG DENGAN LINK ALTERNATIF ANGEL4D SEBAGAI AKSES DAFTAR ANGEL4D & LOGIN ANGEL4D TERBAIK DAN TERPERCAYA DI INDONESIA</p>\\n</div>\\n<p>\\nhace 1 año, 2 meses\\n<a href=\"/user/LOGIN_ANGEL4D_DISINI/\">por LOGIN_ANGEL4D_DISINI</a>\\n- 361 reproducciones\\n</p>\\n</div>\\n</li>\\n<hr/>\\n<li class=\"row\">\\n<div class=\"col-sm-2 col-xs-4\">\\n<a href=\"/audiocut/editorial-sandra-russo-sobrina-leonie/\">\\n<img class=\"img-thumbnail\" src=\"https://imgsvr.radiocut.site/get/crop/center/100/100/shows_logos/97/c9/97c904ed-4678-4912-8385-239baeab5e74.jpg\" alt=\"Logo de la recorte\" />\\n</a>\\n</div>\\n<div class=\"col-sm-10 col-xs-8\">\\n<div class=\"row\">\\n<div class=\"col-sm-12\">\\n<a href=\"/audiocut/editorial-sandra-russo-sobrina-leonie/\">Editorial de Sandra Russo: &quot;La sobrina de Léonie&quot; </a>\\n<span class=\"text-muted\">Dur: 14:53</span>\\n<i class=\"fa fa-scissors fa-rotate-270 pull-right\"></i>\\n</div>\\n</div>\\n<div class=\"row hidden-xs\">\\n<p class=\"col-sm-12 description text-left\">Editorial de Sandra Russo, en #JugoDeLimón </p>\\n</div>\\n<p>\\nhace 1 día, 5 horas\\n<a href=\"/user/somosradio/\">por somosradio</a>\\n- 72 reproducciones\\n</p>\\n</div>\\n</li>\\n<hr/>\\n<li class=\"row\">\\n<div class=\"col-sm-2 col-xs-4\">\\n<a href=\"/audiocut/columna-manuel-saralegui-dice-pista-milman-sobre-atentado-a-cristina/\">\\n<img class=\"img-thumbnail\" src=\"https://imgsvr.radiocut.site/get/crop/center/100/100/shows_logos/44/2a/442a330d-ebd3-4984-8fcb-82736b0b8c01.jpg\" alt=\"Logo de la recorte\" />\\n</a>\\n</div>\\n<div class=\"col-sm-10 col-xs-8\">\\n<div class=\"row\">\\n<div class=\"col-sm-12\">\\n<a href=\"/audiocut/columna-manuel-saralegui-dice-pista-milman-sobre-atentado-a-cristina/\">Columna Manuel Saralegui: ¿Qué dice la pista Milman sobre el atentado a Cristina?</a>\\n<span class=\"text-muted\">Dur: 18:52</span>\\n<i class=\"fa fa-scissors fa-rotate-270 pull-right\"></i>\\n</div>\\n</div>\\n<div class=\"row hidden-xs\">\\n<p class=\"col-sm-12 description text-left\">Columna Manuel Saralegui, El economista y sociólogo, en #LaVueltaCompleta <br/></p>\\n</div>\\n<p>\\nhace 7 horas\\n<a href=\"/user/somosradio/\">por somosradio</a>\\n- 12 reproducciones\\n</p>\\n</div>\\n</li>\\n<hr/>\\n<li class=\"row\">\\n<div class=\"col-sm-2 col-xs-4\">\\n<a href=\"/audiocut/claudio-giovanoni-atl-mdp-vamos-a-jugar-regional-amateur-y-vamos-a-seguri-con-obras/\">\\n<img class=\"img-thumbnail\" src=\"https://imgsvr.radiocut.site/get/crop/center/100/100/radio_logos/d0/4a/d04a0db9-b811-4a86-827f-72d48e6c14f2.png\" alt=\"Logo de la recorte\" />\\n</a>\\n</div>\\n<div class=\"col-sm-10 col-xs-8\">\\n<div class=\"row\">\\n<div class=\"col-sm-12\">\\n<a href=\"/audiocut/claudio-giovanoni-atl-mdp-vamos-a-jugar-regional-amateur-y-vamos-a-seguri-con-obras/\">Claudio Giovanoni (Atl MdP) &quot; VAMOS A JUGAR EL REGIONAL AMATEUR, Y VAMOS A SEGUIR CON LAS OBRAS &quot;</a>\\n<span class=\"text-muted\">Dur: 15:53</span>\\n<i class=\"fa fa-scissors fa-rotate-270 pull-right\"></i>\\n</div>\\n</div>\\n<div class=\"row hidden-xs\">\\n<p class=\"col-sm-12 description text-left\">Claudio Giovanoni (Atl MdP) \" VAMOS A JUGAR EL REGIONAL AMATEUR, Y VAMOS A SEGUIR CON LAS OBRAS \"</p>\\n</div>\\n<p>\\nhace 7 horas\\n<a href=\"/user/jorgejaskilioff/\">por jorgejaskilioff</a>\\n- 8 reproducciones\\n</p>\\n</div>\\n</li>\\n<hr/>\\n<li class=\"row\">\\n<div class=\"col-sm-2 col-xs-4\">\\n<a href=\"/audiocut/jorge-aleman-si-ve-tiene-muy-clara/\">\\n<img class=\"img-thumbnail\" src=\"https://imgsvr.radiocut.site/get/crop/center/100/100/shows_logos/8f/20/8f20d565-5d83-43f8-8a38-b3410351b5c3.jpg\" alt=\"Logo de la recorte\" />\\n</a>\\n</div>\\n<div class=\"col-sm-10 col-xs-8\">\\n<div class=\"row\">\\n<div class=\"col-sm-12\">\\n<a href=\"/audiocut/jorge-aleman-si-ve-tiene-muy-clara/\">JORGE ALEMAN: si que la ve. La tiene MUY clara</a>\\n<span class=\"text-muted\">Dur: 22:19</span>\\n<i class=\"fa fa-scissors fa-rotate-270 pull-right\"></i>\\n</div>\\n</div>\\n<div class=\"row hidden-xs\">\\n<p class=\"col-sm-12 description text-left\">Las ultraderechas. La democracias acorraladas.s</p>\\n</div>\\n<p>\\nhace 2 días, 11 horas\\n<a href=\"/user/Claumarc/\">por Claumarc</a>\\n- 102 reproducciones\\n</p>\\n</div>\\n</li>\\n<hr/>\\n<li class=\"row\">\\n<div class=\"col-sm-2 col-xs-4\">\\n<a href=\"/audiocut/editorial-berko-credito-a-manu-jove/\">\\n<img class=\"img-thumbnail\" src=\"https://imgsvr.radiocut.site/get/crop/center/100/100/shows_logos/30/5f/305fb8e3-342e-43ad-93cc-b37c65eac05d.jpg\" alt=\"Logo de la recorte\" />\\n</a>\\n</div>\\n<div class=\"col-sm-10 col-xs-8\">\\n<div class=\"row\">\\n<div class=\"col-sm-12\">\\n<a href=\"/audiocut/editorial-berko-credito-a-manu-jove/\">Editorial Berko Credito a Manu Jove</a>\\n<span class=\"text-muted\">Dur: 02:14</span>\\n<i class=\"fa fa-scissors fa-rotate-270 pull-right\"></i>\\n</div>\\n</div>\\n<div class=\"row hidden-xs\">\\n<p class=\"col-sm-12 description text-left\">Editorial Berko credito a Manu Jove</p>\\n</div>\\n<p>\\nhace 1 día, 12 horas\\n<a href=\"/user/Claudiojove/\">por Claudiojove</a>\\n- 55 reproducciones\\n</p>\\n</div>\\n</li>\\n<hr/>\\n<script async src=\"https://pagead2.googlesyndication.com/pagead/js/adsbygoogle.js\"></script>\\n<ins class=\"adsbygoogle\" style=\"display:block\" data-ad-format=\"fluid\" data-ad-layout-key=\"-h1+p-z-ej+ud\" data-ad-client=\"ca-pub-3630645806124191\" data-ad-slot=\"8362982357\"></ins>\\n<script>\\n(adsbygoogle = window.adsbygoogle || []).push({});\\n</script>\\n<hr/>\\n<li class=\"row\">\\n<div class=\"col-sm-2 col-xs-4\">\\n<a href=\"/audiocut/esteban-trebucq-periodista-en-pase-rey-y-tenembaum/\">\\n<img class=\"img-thumbnail\" src=\"https://imgsvr.radiocut.site/get/crop/center/100/100/shows_logos/fa/39/fa396a75-ce0a-415a-a983-58b23cc05795.png\" alt=\"Logo de la recorte\" />\\n</a>\\n</div>\\n<div class=\"col-sm-10 col-xs-8\">\\n<div class=\"row\">\\n<div class=\"col-sm-12\">\\n<a href=\"/audiocut/esteban-trebucq-periodista-en-pase-rey-y-tenembaum/\">Esteban Trebucq periodista en el pase de Rey y tenembaum</a>\\n<span class=\"text-muted\">Dur: 30:46</span>\\n<i class=\"fa fa-scissors fa-rotate-270 pull-right\"></i>\\n</div>\\n</div>\\n<div class=\"row hidden-xs\">\\n<p class=\"col-sm-12 description text-left\">Esteban Trebucq del pelado de cronica a La Nacion+ .Se considera liberal no libertario.<br/>Tiene diferencias con La nacion + jjajaja</p>\\n</div>\\n<p>\\nhace 2 días, 15 horas\\n<a href=\"/user/yorecorto/\">por yorecorto</a>\\n- 98 reproducciones\\n</p>\\n</div>\\n</li>\\n<hr/>\\n</ul>\\n<div class=\"row\">\\n<div class=\"col-sm-9 col-xs-8\">\\n<ul class=\"pagination pagination-sm \">\\n<li class=\"active\"><a>1</a></li>\\n<li>\\n<a href=\"/search/?type=cut&page=2\">2</a></li>\\n<li>\\n<a href=\"/search/?type=cut&page=3\">3</a></li>\\n<li>\\n<a href=\"/search/?type=cut&page=4\">4</a></li>\\n<li>\\n<a href=\"/search/?type=cut&page=5\">5</a></li>\\n<li id=\"next_page\">\\n<a href=\"/search/?type=cut&page=2\">&raquo;</a></li>\\n</ul>\\n</div>\\n<div class=\"btn-group col-sm-3 col-xs-4\">\\n<div class=\"btn-group pull-right\">\\n<a href=\"/feeds?type=cut&amp;page=1\" class=\"btn btn-default fa\" target=\"_blank\" data-toggle=\"tooltip\" title=\"Suscribirse al RSS de esta búsqueda\">&#xf09e;</a>\\n<a href=\"/audiocut/embed/list/?type=cut&amp;page=1\" class=\"btn btn-default fa\" data-toggle=\"modal\" data-target=\"#embed_list_dialog\"><span data-toggle=\"tooltip\" title=\"Embeber el resultado de la búsqueda\">&#xf121;</span></a>\\n</div>\\n</div>\\n</div>\\n</div >\\n<div id=\"embed_list_dialog\" class=\"modal fade\">\\n<div class=\"modal-dialog\">\\n<div class=\"modal-content\">\\n<div class=\"modal-header\">\\n<h2 class=\"modal-title\">Embeber resultado de búsqueda</h2>\\n</div>\\n<div class=\"modal-body\">\\n<h3 class=\"text-center\">Código</h3>\\n<pre>&lt;iframe width=\"100%\" height=\"420px\" scrolling=\"no\" frameborder=\"no\" src=\"//ar.radiocut.fm/audiocut/embed/list/?type=cut&amp;page=1\" &gt;&lt;/iframe&gt;</pre>\\n<h3 class=\"text-center\">Vista previa</h3>\\n<div class=\"center-block preview\"></div>\\n</div>\\n<div class=\"modal-footer\">\\n<button type=\"button\" class=\"btn btn-danger fa\" data-dismiss=\"modal\">&times;&emsp;Cerrar</button>\\n</div>\\n</div>\\n</div>\\n</div>\\n<aside class=\"col-md-5\">\\n<h2>Filtro de Búsqueda</h2>\\n<ul class=\"list-unstyled col-sm-6 col-md-4\">\\n<li class=\"h3\"><strong>Tipo de resultados:</strong></li>\\n<li>\\n<a id=\"all_filter\" href=\"/search/?type=all&page=1\">Todos</a>\\n</li>\\n<li>\\n<a id=\"cut_filter\" href=\"/search/?type=cut&page=1\">Recorte</a>\\n</li>\\n<li>\\n<a id=\"radio_filter\" href=\"/search/?type=radio&page=1\">Radio</a>\\n</li>\\n<li>\\n<a id=\"show_filter\" href=\"/search/?type=show&page=1\">Programa</a>\\n</li>\\n<li>\\n<a id=\"episode_filter\" href=\"/search/?type=episode&page=1\">Episodio</a>\\n</li>\\n</ul>\\n<ul class=\"list-unstyled col-sm-6 col-md-4\">\\n<li class=\"h3\"><strong>Fecha del audio:</strong></li>\\n<li>\\n<a id=\"always_filter\" href=\"/search/?start=all&type=cut&page=1\">Todos</a>\\n</li>\\n<li>\\n<a id=\"today_filter\" href=\"/search/?start=1&type=cut&page=1\">Hoy</a>\\n</li>\\n<li>\\n<a id=\"week_filter\" href=\"/search/?start=7&type=cut&page=1\">Última semana</a>\\n</li>\\n<li>\\n<a id=\"month_filter\" href=\"/search/?start=30&type=cut&page=1\">Último mes</a>\\n</li>\\n</ul>\\n<ul class=\"list-unstyled col-sm-6 col-md-4\">\\n<li class=\"h3\"><strong>Fecha de creación:</strong></li>\\n<li>\\n<a id=\"always_filter\" href=\"/search/?type=cut&page=1&created=all\">Todos</a>\\n</li>\\n<li>\\n<a id=\"today_filter\" href=\"/search/?type=cut&page=1&created=1\">Hoy</a>\\n</li>\\n<li>\\n<a id=\"week_filter\" href=\"/search/?type=cut&page=1&created=7\">Última semana</a>\\n</li>\\n<li>\\n<a id=\"month_filter\" href=\"/search/?type=cut&page=1&created=30\">Último mes</a>\\n</li>\\n</ul>\\n<div style=\"text-align:center; clear: both; margin: 0.5em;display:inline-block\" id=\"div-gpt-ad-aside\">\\n</div>\\n<div style=\"text-align:center; clear: both; margin: 0.5em;\" id=\"div-gpt-ad-aside-two\">\\n</div>\\n</aside>\\n</div>\\n</div>\\n<footer id=\"main_footer\" class=\"container-fluid\">\\n<div class=\"row\">\\n<div class=\"col-md-12\">\\n<div style=\"text-align:center; clear: both; margin-top: 0px; margin-bottom: 0px;\" id=\"div-gpt-ad-bottom-leaderboard\">\\n</div>\\n</div>\\n</div>\\n<div class=\"row\">\\n<div class=\"col-md-12 text-center\">\\n<form id=\"lang_form\" action=\"i18n/setlang/\" method=\"post\" class=\"hidden\"><div style=\"display:none\"><input type=\"hidden\" name=\"csrfmiddlewaretoken\" value=\"AaSIguATLA4pUCJeK6w9vFxVO7QfzOdm\" /></div>\\n<select name=\"language\" id=\"lang_language\">\\n<option value=\"en\">English</option>\\n<option value=\"pt\">Português</option>\\n<option value=\"hi\">Hindi</option>\\n<option value=\"id\">Bahasa Indonesia</option>\\n</select>\\n</form>\\n<a href=\"#\" class=\"set-lang en\" onclick=\"setLang(\\'en\\')\">English</a> -\\n<a href=\"#\" class=\"set-lang pt\" onclick=\"setLang(\\'pt\\')\">Português</a> -\\n<a href=\"#\" class=\"set-lang hi\" onclick=\"setLang(\\'hi\\')\">Hindi</a> -\\n<a href=\"#\" class=\"set-lang id\" onclick=\"setLang(\\'id\\')\">Bahasa Indonesia</a>\\n<script type=\"text/javascript\">\\n                function setLang(lang) {\\n                  document.getElementById(\"lang_language\").value = lang;\\n                  document.getElementById(\"lang_form\").submit();\\n                  return false;\\n                }\\n              </script>\\n</div>\\n</div>\\n<div class=\"row\">\\n<div class=\"col-md-12 text-center\">\\n<span class=\"text-muted\">&#169; 2024 RadioCut Inc.</span>\\n<a href=\"https://www.linkedin.com/company/radiocut/\" target=\"_blank\">Quiénes somos</a> -\\n<a href=\"/about\">Acerca de RadioCut</a> -\\n<a href=\"//blog.radiocut.fm\" target=\"_blank\">Blog</a> -\\n<a href=\"/ayuda\">Ayuda</a> -\\n<a href=\"/faq\">Preguntas Frecuentes</a> -\\n<a href=\"/privacidad\">Privacidad</a> -\\n<a href=\"//radiocut.uservoice.com\" target=\"_blank\">Contáctanos</a> -\\n<a href=\"//twitter.com/radiocutfm\" target=\"_blank\">Seguinos en Twitter</a> -\\n<a href=\"//www.facebook.com/radiocut\" target=\"_blank\">Nuestro Facebook</a> -\\n<a href=\"/terminos\" target=\"_blank\">Términos y Condiciones</a>\\n<div class=\"hidden\">1.1.95</div>\\n</div>\\n</div>\\n</footer>\\n<script src=\"https://ajax.googleapis.com/ajax/libs/jquery/1.12.4/jquery.min.js\"></script>\\n<script src=\"https://static.radiocut.com.ar/js/app.fe494f93d5ad8a05d443c641a32e17ce56635a4b.js\" async></script>\\n<script type=\"text/javascript\">\\n  (RCStrings = window.RCStrings || {}).current_language = \\'es\\';\\n\\n  (appjsloaded_cbs = window.appjsloaded_cbs || []).push(function() {\\n    moment.locale(\\'es\\');\\n    jQuery.datetimepicker.setLocale(moment.locale());\\n  });\\n\\n  if (window.appjsloaded)\\n    window.run_app_js_callbacks();\\n</script>\\n\\n<script type=\"text/javascript\" src=\"//s7.addthis.com/js/300/addthis_widget.js#pubid=ra-4f7e1d4c59e13883\" async=\"async\"></script>\\n<script>(function(){function c(){var b=a.contentDocument||a.contentWindow.document;if(b){var d=b.createElement(\\'script\\');d.innerHTML=\"window.__CF$cv$params={r:\\'8ad3beff3dde1f07\\',t:\\'MTcyMjY2MTI1My4wMDAwMDA=\\'};var a=document.createElement(\\'script\\');a.nonce=\\'\\';a.src=\\'/cdn-cgi/challenge-platform/scripts/jsd/main.js\\';document.getElementsByTagName(\\'head\\')[0].appendChild(a);\";b.getElementsByTagName(\\'head\\')[0].appendChild(d)}}if(document.body){var a=document.createElement(\\'iframe\\');a.height=1;a.width=1;a.style.position=\\'absolute\\';a.style.top=0;a.style.left=0;a.style.border=\\'none\\';a.style.visibility=\\'hidden\\';document.body.appendChild(a);if(\\'loading\\'!==document.readyState)c();else if(window.addEventListener)document.addEventListener(\\'DOMContentLoaded\\',c);else{var e=document.onreadystatechange||function(){};document.onreadystatechange=function(b){e(b);\\'loading\\'!==document.readyState&&(document.onreadystatechange=e,c())}}}})();</script></body>\\n</html>\\n']"
      ]
     },
     "execution_count": 20,
     "metadata": {},
     "output_type": "execute_result"
    }
   ],
   "source": [
    "docs"
   ]
  },
  {
   "attachments": {},
   "cell_type": "markdown",
   "metadata": {},
   "source": [
    "##### 3er paso: servirse la cucharada de sopa y separar el osobuco"
   ]
  },
  {
   "cell_type": "code",
   "execution_count": 26,
   "metadata": {},
   "outputs": [
    {
     "name": "stdout",
     "output_type": "stream",
     "text": [
      "{'title': 'Vamos Al Frente. Programa 03/08/2024.', 'duration': '60:37', 'description': 'Programa del Frente Telefónico, Agrupación de Trabajadorxs en FOETRA Sindicato de las Telecomunicaciones. Sábados de 9 a 10 hs. Radio Gráfica FM 89.3, www.radiografica.org.ar- Conflicto Salarial 2024/25: la CONSITEL lanza medidas por las paritarias de las telecomunicaciones.- Entrevista a Johana Duarte, Secretaria Gremial de la UTEP. Marcha Paz Pan Tierra Techo y Trabajo de San Cayetano en unidad con la CGT, la CTA-T y la CTA-A.- Entrevista a Rodrigo Cipriano García, de la Comisión Provincial por la Memoria. Acciones de La Libertad Avanza cuestionando el programa Jóvenes y Memoria de la Provincia de Buenos Aires.Conducción: Ariel Ernesto Velazquez y Pablo SuárezCon Maringa ÁlvarezProducción: VAFOperación técnica: Julián Pelliza', 'fecha': '3 de agosto de 2024 12:51:39'}\n",
      "{'title': 'Al predio El Faro sitio de la memoria, el intendente Montenegro lo ve como un negocio (Ana Pecoraro)', 'duration': '17:24', 'description': 'Él quiere privatizarlo como a todos los bienes de los marplatenses.', 'fecha': '31 de julio de 2024 19:51:39'}\n",
      "{'title': 'Luis Tarullo - Judiciales', 'duration': '14:07', 'description': 'Luis Tarullo - Judiciales', 'fecha': '3 de agosto de 2024 15:51:39'}\n",
      "{'title': 'Nueva edición de Trombonanza 2024 con grandes expectativas', 'duration': '18:33', 'description': 'Los trombonistas Matilde Lucía Aignasse y Elian Stürtz visitaron la mañana de Entre Mate y Mate para dialogar sobre la nueva edición de Trombonanza 2024, una actividad de nivel internacional con entrada libre y gratuita en diversos establecimientos de la capital provincial. Para conocer más sobre la grilla, podes ingresar a la web del evento, en trombonanza.com.ar.', 'fecha': '3 de agosto de 2024 15:51:39'}\n",
      "{'title': 'Cheque en Blanco - Julio Leiva - Una de Espías 03/08/2024', 'duration': '06:00', 'description': 'Curiosa e interesante historia de espías.', 'fecha': '3 de agosto de 2024 14:51:39'}\n",
      "{'title': 'La CONSITEL profundiza el Conflicto Salarial de las Telecomunicaciones 2024/25', 'duration': '19:59', 'description': 'Se profundiza el conflicto con las empresas Telecom, Telefónica/Movistar y Claro por parte de la CONSITEL (Confederación de Sindicatos de las Telecomunicaciones).Testimonios de los compañeros coordinadores de FOETRA Martín García (Suburbio Sur), Ernesto Tito Interdonato (Telecom Móvil) y Adrián Chino Franco (Suburbio Oeste).Además, conflictos sindicales en el movimiento obrero (SUTNA/Bridgestone; Bancaria/Banco Nación).VAMOS AL FRENTE. Sábados de 9 a 10 hs. Radio Gráfica FM 89.3, www.radiografica.org.ar', 'fecha': '3 de agosto de 2024 12:51:39'}\n",
      "{'title': 'Carolina Suarez - Consumo', 'duration': '11:13', 'description': 'Carolina Suarez - Consumo', 'fecha': '3 de agosto de 2024 16:51:39'}\n",
      "{'title': 'Enrique Villegas, El Mono', 'duration': '14:45', 'description': 'Enrique Mono Villegas nació en Buenos Aires el 3 de agosto de 1913. Fue un pianista argentino de jazz o mejor dicho, fue un pianista de Jazz, argentino.', 'fecha': '3 de agosto de 2024 16:51:39'}\n",
      "{'title': 'Espionaje en Internet', 'duration': '05:22', 'description': 'Espionaje en Internet con Tomás Pomar del Observatorio de Derecho Informático Argentino', 'fecha': '3 de agosto de 2024 15:51:39'}\n",
      "{'title': 'Aumentan las denuncias de desaparición de niños, niñas y adolescentes', 'duration': '08:15', 'description': 'Hablamos con Miguel Javier Indart de Arza (MN 67.920), médico pediatra y psiquiatra infanto juvenil, presidente de la Sociedad Argentina de Pediatría.', 'fecha': '3 de agosto de 2024 12:51:39'}\n",
      "{'title': 'Johana Duarte \"La unidad con la CGT y las dos CTA es un paso enorme para hacerle frente al Gobierno\"', 'duration': '12:39', 'description': 'Johana Duarte es Secretaria Gremial de la UTEP (Unión de Trabajadores y Trabajadoras de la Economía Popular).Nos cuenta sobre la Marcha Pan Paz Tierra Techo y Trabajo que se realizará este próximo 7 de agosto desde la Iglesia de San Cayetano hacia Plaza de Mayo, en unidad con la CGT, las dos CTA y la Mesa de Organismos de Derechos Humanos.VAMOS AL FRENTE. Sábados de 9 a 10 hs. Radio Gráfica FM 89.3, www.radiografica.org.ar', 'fecha': '3 de agosto de 2024 12:51:39'}\n",
      "{'title': 'Roberto Cipriano García \"Atacar a Jóvenes y Memoria busca solo disputar sentidos\"', 'duration': '15:47', 'description': 'Jóvenes y Memoria es un programa de la CPM (Comisión Provincial por la Memoria) de la Provincia de Buenos Aires.Desde la Vicepresidente Victoria Villarruel y su secretaria Claudia Rucci junto a concejales de La Libertad Avanza de Lomas de Zamora hicieron pedidos de informe sobre el programa, cuestionando la visión de derechos humanos de la CPM.Roberto Cipriano García es Secretario de la CPM y nos cuenta las acciones que promueve la CPM y el programa Jóvenes y Memoria, desestimando la presentación de LLA.VAMOS AL FRENTE. Sábados de 9 a 10 hs. Radio Gráfica FM 89.3, www.radiografica.org.ar', 'fecha': '3 de agosto de 2024 13:51:39'}\n",
      "{'title': 'Omar Principe Presidente Bases Federadas habla del \"Otro Campo\"', 'duration': '32:26', 'description': 'Omar Príncipe Presidente Bases Federadas, ex presidente Federación Agraria, habla sobre el \"Otro Campo\" y los pequeños productores rurales con Eduardo Aliverti', 'fecha': '3 de agosto de 2024 14:51:39'}\n",
      "{'title': 'Género y deporte', 'duration': '13:49', 'description': 'Hablamos con Norberto Debbag (MN 51.320), médico deportólogo y cardiólogo, por la polémica en torno a la participación de la boxeadora argelina Imane Khelif en los Juegos Olímpicos.', 'fecha': '3 de agosto de 2024 10:51:39'}\n",
      "{'title': 'Leopoldo López: \"El 80% de los venezolanos están en contra del chavismo\"', 'duration': '12:00', 'description': 'Leopoldo López, opositor venezolano y activista por la democracia, en \"País Adolescente\" con Fernando González por CNN Radio.', 'fecha': '3 de agosto de 2024 16:51:39'}\n",
      "{'title': 'Ingeniero Juan Pablo Migazzo', 'duration': '20:13', 'description': 'Entrevista Ventana Productiva (3-8-24)', 'fecha': '3 de agosto de 2024 12:51:39'}\n",
      "{'title': 'IngenieroWhite.Com, programa del 3 de agosto', 'duration': '120:09', 'description': 'Notas realizadas a Gabriela Gancedo, Rodrigo De La Faba, Marcelo Groso y Camila Recalde.', 'fecha': '3 de agosto de 2024 11:51:39'}\n",
      "{'title': 'Federico Pinedo: \"el PRO tiene una presencia enorme en el gobierno. Macri está haciendo política\"', 'duration': '14:42', 'description': 'Federico Pinedo, embajador extraordinario y plenipotenciario ante el G20, en \"País Adolescente\" con Fernando González por CNN Radio.', 'fecha': '3 de agosto de 2024 16:51:39'}\n",
      "{'title': 'Soledad Martínez en De Puntín', 'duration': '11:35', 'description': 'La intendenta de Vicente López y vicepresidenta primera del PRO se refirió a la vuelta de Mauricio Macri a la presidencia del partido amarillo y analizó al gobierno de Javier Milei.', 'fecha': '3 de agosto de 2024 13:51:39'}\n",
      "{'title': 'Pedro Gianello en Ingobernables', 'duration': '10:52', 'description': 'El periodista, que se encuentra en Venezuela, detalló cómo continúa la tensión en el país vecino tras la proclamación de Nicolás Maduro como presidente reelecto en medio de las denuncias de la oposición por fraude.', 'fecha': '3 de agosto de 2024 15:51:39'}\n",
      "{'title': '\"Lo que está pasando es que está terminando la era del mundo unipolar\"', 'duration': '27:11', 'description': 'El politólogo y analista internacional, Marcelo Brignoni, habló con Pablo Iummato sobre las elecciones en Venezuela. Al respecto, Brignoni sostuvo que “suponer que, a Estados Unidos, a la OEA y al os países satelitales de Estados Unidos les preocupa la democracia en Venezuela y no el control económico de la principal reserva de petróleo y minerales del mundo es un análisis para niños y es como suponer que la tierra es cuadrada” y agregó que “los medios de comunicación que cumplían un rol y trataban de informar sobre la verdad, no existen más”. Además, sostuvo que “hoy los medios de comunicación son agencias publicitarias” y remarcó que “lo que está pasando es que está terminando la era del mundo unipolar, que Estados Unidos creyó que era para siempre a partir de la Unión Soviética”.', 'fecha': '3 de agosto de 2024 18:51:39'}\n",
      "{'title': 'Sobre las elecciones en Venezuela - Serrano Mancilla y equipo ponen claridad donde otros oscurecen', 'duration': '23:07', 'description': 'En La Pizarra.', 'fecha': '3 de agosto de 2024 16:51:39'}\n",
      "{'title': 'STOPPELMAN - \"Seré Curioso\" num.38 - sábado 03-08-24 - Radio Güemes - .......', 'duration': '72:51', 'description': 'En China ya funciona una gran fábrica SIN SERES HUMANOS; En este país y en otros ya se trabaja sólo con IA. Charla con Omar Plaini.- Análisis de lo que está fallando entre los propios. Ernesto Cherquis Bialo también conversa con Adrián sobre el panorama donde se mezcla lo deportivo y lo político. El Dr. Di Nanno, con su columna:\"No estoy con los \"dialoguistas\"; hay que filtrar \"a los malos\" o sinó vamos derecho al pozo.- Taller de canto en A.M.A.P. (participación abierta) - Final con música: (Hoy agregamos 10 minutos a la duración del programa, con autorización de gente de La Güemes) Ale Sanz con un tema de Rubén Blades: \"Hipocresía\".- Sorteos de entradas para los oyentes. Cerramos con \"Cómo mata el viento norte\" por Charly García con La máquina de hacer pájaros', 'fecha': '3 de agosto de 2024 14:51:39'}\n",
      "{'title': 'Situación en Venezuela - Contada por un observador Argentino', 'duration': '38:28', 'description': 'Roberto Caballero relata en primera persona su experiencia en los días posteriores a la elección y', 'fecha': '1 de agosto de 2024 11:51:39'}\n",
      "{'title': 'publicidad Buenas razones Agosto 2024', 'duration': '03:12', 'description': 'Spot Publicitario', 'fecha': '3 de agosto de 2024 12:51:39'}\n",
      "{'title': 'Entrevista con Claudia Aldini de la Cooperativa la Minga - Dando Una Mano, Radio Nacional Folklórica', 'duration': '44:05', 'description': 'Claudia Aldini es una de las integrantes de la cooperativa cultural La Minga, que entre otras cosas tiene su propia editorial en la que se han lanzado 35 títulos hasta el día de hoy.Programa: Dando Una Mano, Radio Nacional Folklórica Conductores: Lili Isaguirre y Kochy Guchea Día y Horario: Todos los Sábados de 12hs a 14hs.', 'fecha': '3 de agosto de 2024 15:51:39'}\n",
      "{'title': '“Las decisiones que toma Milei van sistemáticamente contra la Provincia de Buenos Aires”', 'duration': '26:00', 'description': 'Gabriel Katopodis, Ministro de Infraestructura y Servicios Públicos de la Provincia de Buenos Aires, habló con Pablo Iummato sobre la decisión de quitarle a la provincia de Buenos Aires una multimillonaria inversión de YPF. Katopodis sostuvo que “Milei viene robándole a la Provincia de Buenos Aires los fondos de educación, de seguridad, obra pública y ahora no tuvo mejor idea que robarle la inversión de YPF” y agregó que “es un castigo a la Provincia y es el común denominador desde que asumió Milei”. Además, sostuvo que “cuando revisas las declaraciones del Presidente, los decretos que firmo, las distintas decisiones que fue tomando, todas van sistemáticamente contra la Provincia de Buenos Aires”. “El Presidetne está buscando que peleemos con la provincia de Rio Negro o que ataquemos al Gobernador, cosa que no haremos, porque acá no gano o perdió una provincia, acá perdió Argentina”, concluyó Katopodis.', 'fecha': '3 de agosto de 2024 18:51:39'}\n",
      "{'title': 'Entrevista con Juan Concilio y el coro Ostinato - Dando Una Mano, Radio Nacional Folklórica', 'duration': '06:41', 'description': 'El coro Ostinato cumple 30 años y su director, Juan Concilio, nos cuenta la historia del coro para prepararnos para la celebración de las 3 décadas de su música. Este jueves 8 de agosto a las 20hs en el teatro La Máscara.Programa: Dando Una Mano, Radio Nacional Folklórica Conductores: Lili Isaguirre y Kochy Guchea Día y Horario: Todos los Sábados de 12hs a 14hs.', 'fecha': '3 de agosto de 2024 17:51:39'}\n",
      "{'title': '“El proceso de desinflación que se está dando a nivel macro es porque se está cayendo el consumo\"', 'duration': '16:04', 'description': 'El economista del CEPA, Martin Epstein, habló con Pablo Iummato sobre el panorama económico. Al respecto, Epstein dijo que “es difícil pensar hoy cuando va a pasar la salida del cepo, básicamente poque el Gobierno se está quedando sin dólares y sin margen para hacer esto en el corto plazo” y agregó que “Caputo no está consiguiendo organismos que pongan plata y se le van cerrando las puertas para conseguir fondos frescos que le permitan salir de golpe del cepo sin un salto cambiario fuerte”. Además, explicó que “todo el proceso de desinflación que se está dando a nivel macro tiene una variable importante y es que lo que provoca la caída de precios es la falta de consumo” y remarcó que “se está cayendo a pedazos el consumo desde que asumió Milei”.', 'fecha': '3 de agosto de 2024 19:51:39'}\n",
      "{'title': 'Entrevista con el dúo Gauchito Talvez + música en vivo - Dando Una Mano, Radio Nacional Folklórica', 'duration': '65:46', 'description': 'No viene nada mejor para los sábados que música en vivo, en esta ocasión de la mano del dúo villero Gauchito Tal Vez, conformado por Franco Espinoza y Víctor Mayta con quienes también hablamos de sus orígenes.Programa: Dando Una Mano, Radio Nacional Folklórica Conductores: Lili Isaguirre y Kochy Guchea Día y Horario: Todos los Sábados de 12hs a 14hs.', 'fecha': '3 de agosto de 2024 16:51:39'}\n"
     ]
    }
   ],
   "source": [
    "from bs4 import BeautifulSoup\n",
    "import re\n",
    "from datetime import datetime, timedelta\n",
    "import pytz\n",
    "import locale\n",
    "\n",
    "# Establece la localización en español\n",
    "locale.setlocale(locale.LC_TIME, 'es_ES.UTF-8')\n",
    "\n",
    "soup = BeautifulSoup(docs[0], 'html.parser')\n",
    "\n",
    "def clean_duration(duration_text):\n",
    "    return duration_text.replace(\"Dur: \", \"\").strip()\n",
    "\n",
    "def convert_duration_to_date(duration_text):\n",
    "    pattern = re.compile(r'(\\d+)\\s*año|(\\d+)\\s*mes|(\\d+)\\s*semana|(\\d+)\\s*día|(\\d+)\\s*hora|(\\d+)\\s*minuto')\n",
    "    matches = pattern.findall(duration_text)\n",
    "    \n",
    "    years = months = weeks = days = hours = minutes = 0\n",
    "    for match in matches:\n",
    "        if match[0]: years = int(match[0])\n",
    "        if match[1]: months = int(match[1])\n",
    "        if match[2]: weeks = int(match[2])\n",
    "        if match[3]: days = int(match[3])\n",
    "        if match[4]: hours = int(match[4])\n",
    "        if match[5]: minutes = int(match[5])\n",
    "    \n",
    "    now = datetime.now(pytz.timezone('America/Argentina/Buenos_Aires'))\n",
    "    time_delta = timedelta(days=(years * 365 + months * 30 + weeks * 7 + days), hours=hours, minutes=minutes)\n",
    "    result_date = now - time_delta\n",
    "    utc_dt = result_date.astimezone(pytz.utc)\n",
    "    \n",
    "    # Formatea el día y el mes manualmente para evitar ceros a la izquierda\n",
    "    day = utc_dt.day\n",
    "    month = utc_dt.strftime('%B')\n",
    "    year = utc_dt.year\n",
    "    time_str = utc_dt.strftime('%H:%M:%S')\n",
    "    readable_date = f'{day} de {month} de {year} {time_str}'\n",
    "    \n",
    "    return readable_date\n",
    "\n",
    "data_list = []\n",
    "\n",
    "containers = soup.find_all('div', class_='col-sm-10 col-xs-8')\n",
    "\n",
    "for container in containers:\n",
    "    # Extraer el título\n",
    "    title_tag = container.find('a')\n",
    "    title = title_tag.text.strip() if title_tag else None\n",
    "\n",
    "    if title:  # Sólo sigue si hay título\n",
    "        # Extrae la duración y la emprolija\n",
    "        duration_tag = container.find('span', class_='text-muted')\n",
    "        duration = clean_duration(duration_tag.text) if duration_tag else None\n",
    "\n",
    "        # Extrae la descripción y la emprolija\n",
    "        description_tag = container.find('p', class_='col-sm-12 description text-left')\n",
    "        description = description_tag.text.strip() if description_tag else None\n",
    "\n",
    "        # Extrae la fecha de creación del contenedor actual\n",
    "        p_element = container.find_all('p')[-1]  # Asumiendo que la fecha está en el último <p> del contenedor\n",
    "        first_text = p_element.text.strip().split('\\n')[0].strip() if p_element else \"\"\n",
    "        readable_date = convert_duration_to_date(first_text)\n",
    "        \n",
    "        # Crear un diccionario para almacenar la data\n",
    "        data = {\n",
    "            \"title\": title,\n",
    "            \"duration\": duration,\n",
    "            \"description\": description,\n",
    "            \"fecha\": readable_date\n",
    "        }\n",
    "        \n",
    "        if description:\n",
    "            data_list.append(data)\n",
    "            print(data)"
   ]
  },
  {
   "attachments": {},
   "cell_type": "markdown",
   "metadata": {},
   "source": [
    "Obtengo la descripción con más caracteres como para saber"
   ]
  },
  {
   "cell_type": "code",
   "execution_count": 44,
   "metadata": {},
   "outputs": [
    {
     "name": "stdout",
     "output_type": "stream",
     "text": [
      "La descripción con longitud máxima tiene: 916 caracteres con espacios\n",
      "y es: Gabriel Katopodis, Ministro de Infraestructura y Servicios Públicos de la Provincia de Buenos Aires, habló con Pablo Iummato sobre la decisión de quitarle a la provincia de Buenos Aires una multimillonaria inversión de YPF. Katopodis sostuvo que “Milei viene robándole a la Provincia de Buenos Aires los fondos de educación, de seguridad, obra pública y ahora no tuvo mejor idea que robarle la inversión de YPF” y agregó que “es un castigo a la Provincia y es el común denominador desde que asumió Milei”. Además, sostuvo que “cuando revisas las declaraciones del Presidente, los decretos que firmo, las distintas decisiones que fue tomando, todas van sistemáticamente contra la Provincia de Buenos Aires”. “El Presidetne está buscando que peleemos con la provincia de Rio Negro o que ataquemos al Gobernador, cosa que no haremos, porque acá no gano o perdió una provincia, acá perdió Argentina”, concluyó Katopodis.\n"
     ]
    }
   ],
   "source": [
    "def find_max_description_length(data_list):\n",
    "    max_length = 0\n",
    "    dictDescLenMax = {}\n",
    "    for item in data_list:\n",
    "        description = item.get(\"description\", \"\")\n",
    "        current_length = len(description)\n",
    "        currentMax = item\n",
    "        if current_length > max_length:\n",
    "            max_length = current_length\n",
    "            dictDescLenMax = currentMax\n",
    "    return dictDescLenMax\n",
    "\n",
    "dictDescLenMax = find_max_description_length(data_list).get(\"description\")\n",
    "max_length = len(dictDescLenMax)\n",
    "print(f\"La descripción con longitud máxima tiene: {max_length} caracteres con espacios\")\n",
    "print(f\"y es: {dictDescLenMax}\")\n"
   ]
  },
  {
   "attachments": {},
   "cell_type": "markdown",
   "metadata": {},
   "source": [
    "###### 1er paso: Unir todos los diccionarios en un solo archivo de texto. Split y chunk\n",
    "###### 2do paso: Convertir los diccionarios en vectores con sentenceTransformer (embedding)\n",
    "###### 3er paso: Cargar a una base de datos de vectores\n",
    "###### 4to paso: Pasar a la IA"
   ]
  },
  {
   "cell_type": "code",
   "execution_count": 68,
   "metadata": {},
   "outputs": [
    {
     "name": "stdout",
     "output_type": "stream",
     "text": [
      "Number of chunks: 7\n"
     ]
    }
   ],
   "source": [
    "def write_dicts_to_text_file(dict_list, file_path):\n",
    "    with open(file_path, 'w', encoding='utf-8') as file:\n",
    "        for dictionary in dict_list:\n",
    "            for key, value in dictionary.items():\n",
    "                # Escribe cada llave y valor en el archivo\n",
    "                file.write(f\"{key}: {value}\\n\")\n",
    "            # Añade una línea en blanco entre diccionarios para separación\n",
    "            file.write(\"\\n\")\n",
    "\n",
    "def read_file_content(file_path):\n",
    "    with open(file_path, 'r', encoding='utf-8') as file:\n",
    "        return file.read()\n",
    "\n",
    "def split_text_into_chunks(text, chunk_size):\n",
    "    return [text[i:i + chunk_size] for i in range(0, len(text), chunk_size)]\n",
    "\n",
    "file_path = 'output.txt'\n",
    "\n",
    "# Write the dictionary list to the text file\n",
    "write_dicts_to_text_file(data_list, file_path)\n",
    "\n",
    "# Read the content from the file\n",
    "file_content = read_file_content(file_path)\n",
    "\n",
    "# Define the chunk size\n",
    "chunk_size = 2048\n",
    "\n",
    "# Split the file content into chunks\n",
    "chunks = split_text_into_chunks(file_content, chunk_size)\n",
    "\n",
    "# Print the number of chunks and their contents\n",
    "print(f\"Number of chunks: {len(chunks)}\")"
   ]
  },
  {
   "attachments": {},
   "cell_type": "markdown",
   "metadata": {},
   "source": [
    "##### 2do paso: embeddings"
   ]
  },
  {
   "cell_type": "code",
   "execution_count": 70,
   "metadata": {},
   "outputs": [],
   "source": [
    "import numpy as np\n",
    "\n",
    "def get_text_embedding(input):\n",
    "    embeddings_batch_response = client.embeddings(\n",
    "          model=\"mistral-embed\",\n",
    "          input=input\n",
    "      )\n",
    "    return embeddings_batch_response.data[0].embedding\n",
    "text_embeddings = np.array([get_text_embedding(chunk) for chunk in chunks])\n"
   ]
  },
  {
   "attachments": {},
   "cell_type": "markdown",
   "metadata": {},
   "source": [
    "##### 3er paso: cargar en la base de datos de vectores"
   ]
  },
  {
   "attachments": {},
   "cell_type": "markdown",
   "metadata": {},
   "source": [
    "Para probar: https://github.com/pgvector/pgvector"
   ]
  },
  {
   "attachments": {},
   "cell_type": "markdown",
   "metadata": {},
   "source": [
    "###### Para usar la FAISS Instalación de miniconda3 y: https://docs.conda.io/projects/conda/en/stable/user-guide/getting-started.html"
   ]
  },
  {
   "cell_type": "code",
   "execution_count": 4,
   "metadata": {},
   "outputs": [
    {
     "ename": "ModuleNotFoundError",
     "evalue": "No module named 'faiss'",
     "output_type": "error",
     "traceback": [
      "\u001b[1;31m---------------------------------------------------------------------------\u001b[0m",
      "\u001b[1;31mModuleNotFoundError\u001b[0m                       Traceback (most recent call last)",
      "Cell \u001b[1;32mIn[4], line 1\u001b[0m\n\u001b[1;32m----> 1\u001b[0m \u001b[39mimport\u001b[39;00m \u001b[39mfaiss\u001b[39;00m                   \u001b[39m# make faiss available\u001b[39;00m\n\u001b[0;32m      2\u001b[0m index \u001b[39m=\u001b[39m faiss\u001b[39m.\u001b[39mIndexFlatL2(d)   \u001b[39m# build the index\u001b[39;00m\n\u001b[0;32m      3\u001b[0m \u001b[39mprint\u001b[39m(index\u001b[39m.\u001b[39mis_trained)\n",
      "\u001b[1;31mModuleNotFoundError\u001b[0m: No module named 'faiss'"
     ]
    }
   ],
   "source": [
    "import faiss                   # make faiss available\n",
    "index = faiss.IndexFlatL2(d)   # build the index\n",
    "print(index.is_trained)"
   ]
  }
 ],
 "metadata": {
  "kernelspec": {
   "display_name": "Python 3",
   "language": "python",
   "name": "python3"
  },
  "language_info": {
   "codemirror_mode": {
    "name": "ipython",
    "version": 3
   },
   "file_extension": ".py",
   "mimetype": "text/x-python",
   "name": "python",
   "nbconvert_exporter": "python",
   "pygments_lexer": "ipython3",
   "version": "3.11.4"
  },
  "orig_nbformat": 4
 },
 "nbformat": 4,
 "nbformat_minor": 2
}
