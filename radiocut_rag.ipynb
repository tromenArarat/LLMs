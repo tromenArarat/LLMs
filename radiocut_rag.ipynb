{
 "cells": [
  {
   "attachments": {},
   "cell_type": "markdown",
   "metadata": {},
   "source": [
    "Instanciación de la AI Mistral"
   ]
  },
  {
   "cell_type": "code",
   "execution_count": 20,
   "metadata": {},
   "outputs": [],
   "source": [
    "import os\n",
    "from dotenv import load_dotenv\n",
    "from mistralai.client import MistralClient\n",
    "from mistralai.models.chat_completion import ChatMessage\n",
    "\n",
    "load_dotenv()\n",
    "\n",
    "api_key = os.getenv(\"MISTRAL_API_KEY\")\n",
    "if not api_key:\n",
    "    raise ValueError(\"Error con las variables de entorno.\")\n",
    "\n",
    "model = \"mistral-large-latest\"\n",
    "\n",
    "client = MistralClient(api_key=api_key)\n"
   ]
  },
  {
   "attachments": {},
   "cell_type": "markdown",
   "metadata": {},
   "source": [
    "Prueba del chat"
   ]
  },
  {
   "cell_type": "code",
   "execution_count": 21,
   "metadata": {},
   "outputs": [
    {
     "name": "stdout",
     "output_type": "stream",
     "text": [
      "La palabra \"ubicuo\" se utiliza para describir algo que está presente en todas partes o en muchos lugares al mismo tiempo. Proviene del latín \"ubique,\" que significa \"en todas partes.\" Por ejemplo, se puede decir que el oxígeno es ubicuo en la atmósfera terrestre porque está presente en todas partes. En un contexto más figurativo, también puede referirse a algo que es muy común o que se encuentra en muchos lugares diferentes.\n"
     ]
    }
   ],
   "source": [
    "chat_response = client.chat(\n",
    "    model=model,\n",
    "    messages=[ChatMessage(role=\"user\", content=\"Cuál es el significado de 'ubicuo'?\")]\n",
    ")\n",
    "\n",
    "print(chat_response.choices[0].message.content)"
   ]
  },
  {
   "attachments": {},
   "cell_type": "markdown",
   "metadata": {},
   "source": [
    "##### 1er paso: request al sitio para buscar \"robots.txt\" si existe"
   ]
  },
  {
   "cell_type": "code",
   "execution_count": 22,
   "metadata": {},
   "outputs": [
    {
     "name": "stdout",
     "output_type": "stream",
     "text": [
      "robots.txt content:\n",
      "User-agent: *\n",
      "Crawl-delay: 30\n",
      "Request-rate: 1/3\n",
      "Sitemap: https://radiocut.fm/sitemap.xml\n",
      "Disallow: /*/delete$\n",
      "\n"
     ]
    }
   ],
   "source": [
    "import requests\n",
    "\n",
    "def get_robots_txt(url):\n",
    "    if not url.endswith('/'):\n",
    "        url += '/'\n",
    "    \n",
    "    robots_url = url + \"robots.txt\"\n",
    "    \n",
    "    response = requests.get(robots_url)\n",
    "    \n",
    "    if response.status_code == 200:\n",
    "        return response.text\n",
    "    else:\n",
    "        return None\n",
    "\n",
    "website_url = \"https://radiocut.fm\"\n",
    "robots_txt = get_robots_txt(website_url)\n",
    "\n",
    "if robots_txt:\n",
    "    print(\"robots.txt content:\")\n",
    "    print(robots_txt)\n",
    "else:\n",
    "    print(\"robots.txt no encontrado\")"
   ]
  },
  {
   "attachments": {},
   "cell_type": "markdown",
   "metadata": {},
   "source": [
    "\n",
    "##### 2do paso: ajustar el craw_delay y el request_rate con la librería \"time\""
   ]
  },
  {
   "cell_type": "code",
   "execution_count": 23,
   "metadata": {},
   "outputs": [
    {
     "name": "stdout",
     "output_type": "stream",
     "text": [
      "Fetched: https://ar.radiocut.fm/search/?type=cut&page=4&created=1\n"
     ]
    }
   ],
   "source": [
    "import requests\n",
    "import time\n",
    "\n",
    "def fetch_url(url):\n",
    "    response = requests.get(url)\n",
    "    return response\n",
    "\n",
    "# Recortes del día\n",
    "urls = [\"https://ar.radiocut.fm/search/?type=cut&page=4&created=1\"]\n",
    "\n",
    "crawl_delay = 30  # segundos\n",
    "request_rate = 1 / 3  # 1 request cada 3 segundos\n",
    "\n",
    "docs = []\n",
    "for url in urls:\n",
    "    response = fetch_url(url)\n",
    "    if response.status_code == 200:\n",
    "        print(\"Fetched:\", url)\n",
    "        docs.append(response.text)\n",
    "\n",
    "    else:\n",
    "        print(\"Failed to fetch:\", url)\n",
    "    \n",
    "    # Esperar de acuerdo al tiempo del crawl (rebaje)\n",
    "    time.sleep(crawl_delay)\n",
    "    "
   ]
  },
  {
   "cell_type": "code",
   "execution_count": 24,
   "metadata": {},
   "outputs": [
    {
     "data": {
      "text/plain": [
       "1"
      ]
     },
     "execution_count": 24,
     "metadata": {},
     "output_type": "execute_result"
    }
   ],
   "source": [
    "len(docs)"
   ]
  },
  {
   "cell_type": "code",
   "execution_count": 25,
   "metadata": {},
   "outputs": [
    {
     "data": {
      "text/plain": [
       "['\\n<!DOCTYPE html>\\n<html lang=\"es\">\\n<head>\\n<link rel=\"preconnect dns-prefetch\" href=\"https://www.googletagmanager.com\" />\\n<meta charset=\"UTF-8\">\\n<meta name=\"viewport\" content=\"width=device-width,initial-scale=1.0\" />\\n<meta name=\"alexaVerifyID\" content=\"VnZ_Et-Jpg6HoBQRuWYP1dYWaa0\" />\\n<meta property=\"fb:app_id\" content=\"471603786214644\" />\\n<meta property=\"og:site_name\" content=\"RadioCut\" />\\n<meta property=\"og:image\" content=\"https://static.radiocut.com.ar/images/radio_cut_96.png\" />\\n<meta name=\"description\" content=\"\\n            \\n            Escucha radios online de Argentina\\n            \\n          y programas de la radio FM, AM, Noticias, Música... Retrocede horas y días atrás y crea tus propios recortes de la radio.\\n        \">\\n<meta name=\"keywords\" content=\"radios,radiodifusion,programa de radio,noticias,archivo de radios, podcast, deportes,musica,radiocut\">\\n<meta name=\"apple-itunes-app\" content=\"app-id=1120326976\">\\n<meta name=\"google-play-app\" content=\"app-id=com.lambdasistemas.radiocutapp\">\\n<link rel=\"apple-touch-icon\" href=\"https://static.radiocut.com.ar/images/radio_cut_96.png\">\\n<link rel=\"android-touch-icon\" href=\"https://static.radiocut.com.ar/images/radio_cut_96.png\" />\\n<title>Búsqueda | RadioCut\\n           Argentina </title>\\n<link rel=\"shortcut icon\" href=\"https://static.radiocut.com.ar/images/radio_cut_16.png\" type=\"image/png\" />\\n<script>\\nwindow.dataLayer = window.dataLayer || [];\\nwindow.dataLayer.push({\\n  master: \\'main\\',\\n  \\n  userId: null,\\n  \\n  skip_ads: \\'no\\',\\n  ads_type: \\'152media\\',\\n  country_code: \\'AR\\',\\n  has_gdpr: \\'no\\',\\n  });\\n\\nwindow.ga_events = [\\n    \\n];\\n</script>\\n\\n<script>(function(w,d,s,l,i){w[l]=w[l]||[];w[l].push({\\'gtm.start\\':\\nnew Date().getTime(),event:\\'gtm.js\\'});var f=d.getElementsByTagName(s)[0],\\nj=d.createElement(s),dl=l!=\\'dataLayer\\'?\\'&l=\\'+l:\\'\\';j.async=true;j.src=\\n\\'https://www.googletagmanager.com/gtm.js?id=\\'+i+dl;f.parentNode.insertBefore(j,f);\\n})(window,document,\\'script\\',\\'dataLayer\\',\\'GTM-T48SMCX\\');</script>\\n\\n\\n<script>(function(w,d,s,l,i){w[l]=w[l]||[];w[l].push({\\'gtm.start\\':\\nnew Date().getTime(),event:\\'gtm.js\\'});var f=d.getElementsByTagName(s)[0],\\nj=d.createElement(s),dl=l!=\\'dataLayer\\'?\\'&l=\\'+l:\\'\\';j.async=true;j.src=\\n\\'https://www.googletagmanager.com/gtm.js?id=\\'+i+dl;f.parentNode.insertBefore(j,f);\\n})(window,document,\\'script\\',\\'dataLayer\\',\\'GTM-WN7BVX6\\');</script>\\n\\n<script>\\n          window.Radiocut = window.Radiocut || {};\\n          window.Radiocut.vastBaseUrl = \"\";\\n          window.Radiocut.prerollSkipWait = 15,0;\\n          window.Radiocut.staticUrl = \"https://static.radiocut.com.ar/\";\\n        </script>\\n<link rel=\"preload\" href=\"https://static.radiocut.com.ar/js/app.fe494f93d5ad8a05d443c641a32e17ce56635a4b.js\" as=\"script\">\\n<link rel=\"preload\" href=\"https://static.radiocut.com.ar/css/app.79651b6999e693cdd81b03945da4f3a0b310fd63.css\" as=\"style\">\\n<link rel=\"stylesheet\" href=\"https://static.radiocut.com.ar/css/app.79651b6999e693cdd81b03945da4f3a0b310fd63.css\">\\n<link rel=\"alternate\" href=\"https://es.radiocut.fm/search/?type=cut&amp;page=4&amp;created=1\" hreflang=\"es-es\" />\\n<link rel=\"alternate\" href=\"https://uy.radiocut.fm/search/?type=cut&amp;page=4&amp;created=1\" hreflang=\"es-uy\" />\\n<link rel=\"alternate\" href=\"https://ar.radiocut.fm/search/?type=cut&amp;page=4&amp;created=1\" hreflang=\"es-ar\" />\\n<link rel=\"alternate\" href=\"https://co.radiocut.fm/search/?type=cut&amp;page=4&amp;created=1\" hreflang=\"es-co\" />\\n<link rel=\"alternate\" href=\"https://ve.radiocut.fm/search/?type=cut&amp;page=4&amp;created=1\" hreflang=\"es-ve\" />\\n<link rel=\"alternate\" href=\"https://cl.radiocut.fm/search/?type=cut&amp;page=4&amp;created=1\" hreflang=\"es-cl\" />\\n<link rel=\"alternate\" href=\"https://mx.radiocut.fm/search/?type=cut&amp;page=4&amp;created=1\" hreflang=\"es-mx\" />\\n<link rel=\"alternate\" href=\"https://cl.radiocut.fm/search/?type=cut&amp;page=4&amp;created=1\" hreflang=\"es-cl\" />\\n<link rel=\"alternate\" href=\"https://pe.radiocut.fm/search/?type=cut&amp;page=4&amp;created=1\" hreflang=\"es-pe\" />\\n<link rel=\"alternate\" href=\"https://uk.radiocut.fm/search/?type=cut&amp;page=4&amp;created=1\" hreflang=\"en-gb\" />\\n<link rel=\"alternate\" href=\"https://us.radiocut.fm/search/?type=cut&amp;page=4&amp;created=1\" hreflang=\"en-us\" />\\n<link rel=\"alternate\" href=\"https://in.radiocut.fm/search/?type=cut&amp;page=4&amp;created=1\" hreflang=\"en-in\" />\\n<link rel=\"alternate\" href=\"https://id.radiocut.fm/search/?type=cut&amp;page=4&amp;created=1\" hreflang=\"en-id\" />\\n<link rel=\"alternate\" href=\"https://tw.radiocut.fm/search/?type=cut&amp;page=4&amp;created=1\" hreflang=\"zh-tw\" />\\n<link rel=\"alternate\" href=\"https://my.radiocut.fm/search/?type=cut&amp;page=4&amp;created=1\" hreflang=\"en-my\" />\\n<link rel=\"alternate\" href=\"https://ph.radiocut.fm/search/?type=cut&amp;page=4&amp;created=1\" hreflang=\"en-ph\" />\\n<link rel=\"alternate\" href=\"https://sg.radiocut.fm/search/?type=cut&amp;page=4&amp;created=1\" hreflang=\"en-sg\" />\\n<link rel=\"alternate\" href=\"https://ar.radiocut.fm/search/?type=cut&amp;page=4&amp;created=1\" hreflang=\"es\" />\\n<link rel=\"alternate\" href=\"https://radiocut.fm/search/?type=cut&amp;page=4&amp;created=1\" hreflang=\"en\" />\\n<link rel=\"alternate\" href=\"https://in.radiocut.fm/search/?type=cut&amp;page=4&amp;created=1\" hreflang=\"hi\" />\\n<link rel=\"alternate\" href=\"https://id.radiocut.fm/search/?type=cut&amp;page=4&amp;created=1\" hreflang=\"id\" />\\n<link rel=\"alternate\" href=\"https://my.radiocut.fm/search/?type=cut&amp;page=4&amp;created=1\" hreflang=\"my\" />\\n<link rel=\"alternate\" href=\"https://ph.radiocut.fm/search/?type=cut&amp;page=4&amp;created=1\" hreflang=\"tl\" />\\n<!--[if lte IE 10]>\\n        <link rel=\"stylesheet\" href=\"https://static.radiocut.com.ar/css/ie.ada981331d84936f13e06ff8d081d31b59790624.css\">\\n        <![endif]-->\\n<link rel=\"stylesheet\" href=\"//maxcdn.bootstrapcdn.com/font-awesome/4.7.0/css/font-awesome.min.css\">\\n<script type=\"text/javascript\">\\n            window.currentUser = null;\\n        </script>\\n<link rel=\"alternate\" type=\"application/rss+xml\" title=\"RSS\" href=\"/feeds?type=cut&amp;page=4&amp;created=1\" />\\n\\n<!--[if lt IE 10]>\\n        <script src=\"https://static.radiocut.com.ar/js/jquery.iecors.57c8479bae1feff3ffaac837ff4b550542888520.js\"></script>\\n        <![endif]-->\\n\\n<script async defer src=\"https://ats-wrapper.privacymanager.io/ats-modules/0f6ade3d-faee-4e82-9078-a5c024715120/ats.js\"></script>\\n\\n<script async defer src=\"https://www.google.com/recaptcha/api.js\"></script>\\n</head>\\n<body>\\n\\n<noscript><iframe src=\"https://www.googletagmanager.com/ns.html?id=GTM-T48SMCX\"\\nheight=\"0\" width=\"0\" style=\"display:none;visibility:hidden\"></iframe></noscript>\\n\\n\\n<noscript><iframe src=\"https://www.googletagmanager.com/ns.html?id=GTM-WN7BVX6\"\\nheight=\"0\" width=\"0\" style=\"display:none;visibility:hidden\"></iframe></noscript>\\n\\n<div id=\"feedback_bar\" style=\"display: none\"><span class=\"message\"> </span> <a href=\"#\" class=\"dismiss\">[x]</a></div>\\n<nav class=\"navbar navbar-inverse navbar-fixed-top\" id=\"main_header\">\\n<div class=\"container-fluid\">\\n<div class=\"navbar-header\">\\n<button type=\"button\" class=\"navbar-toggle collapsed\" data-toggle=\"collapse\" data-target=\"#bs-example-navbar-collapse-1\">\\n<span class=\"sr-only\">Toggle navigation</span>\\n<span class=\"icon-bar\"></span>\\n<span class=\"icon-bar\"></span>\\n<span class=\"icon-bar\"></span>\\n</button>\\n<a class=\"navbar-brand\" href=\"/\">\\n<img src=\"https://static.radiocut.com.ar/images/radio_cut_64.png\" alt=\"-8&lt;- RadioCut\" />\\n</a>\\n</div>\\n\\n<div class=\"collapse navbar-collapse\" id=\"bs-example-navbar-collapse-1\">\\n<form class=\"nav navbar-nav navbar-form navbar-left\" role=\"search\" id=\"search_form\" method=\"get\" action=\"/search\">\\n<div class=\"input-group hidden-xs\">\\n<select class=\"form-control\" name=\"type\">\\n<option value=\"all\">Todo</option>\\n<option value=\"radio\">Radios</option>\\n<option value=\"show\">Programas</option>\\n<option value=\"cut\">Recortes</option>\\n<option value=\"mark\">Marcas</option>\\n<option value=\"episode\">Episodios</option>\\n</select>\\n</div>\\n<div class=\"input-group\">\\n<input type=\"text\" class=\"form-control search_term\" name=\"search_term\" id=\"search_term\">\\n<span class=\"input-group-btn\">\\n<button type=\"submit\" class=\"btn btn-default\"> <span class=\"glyphicon glyphicon-search\"></span></button>\\n</span>\\n</div>\\n</form>\\n<ul class=\"nav navbar-nav\">\\n<li><a href=\"/features/\">Conoce RadioCut</a></li>\\n<li class=\"dropdown\">\\n<a href=\"#\" class=\"dropdown-toggle\" data-toggle=\"dropdown\" role=\"button\" aria-expanded=\"false\">\\nExplora&nbsp;<i class=\"fa fa-caret-down\"></i>\\n</a>\\n<ul class=\"dropdown-menu\" role=\"menu\">\\n<li>\\n<a href=\"/search?type=radio\">\\nRadios\\n</a>\\n</li>\\n<li><a href=\"https://radiocut.fm/all/\">RadioCut Global</a></li>\\n</ul>\\n<li class=\"dropdown\">\\n<a href=\"#\" class=\"dropdown-toggle\" data-toggle=\"dropdown\" role=\"button\" aria-expanded=\"false\">\\nServicios&nbsp;<i class=\"fa fa-caret-down\"></i>\\n</a>\\n<ul class=\"dropdown-menu\" role=\"menu\">\\n<li><a href=\"/premium/\">Cuenta Premium y Plus</a></li>\\n<li><a href=\"/features/radios/\">Servicios para radios y programas</a></li>\\n<li><a href=\"/customsites/radioshowsite/new\" class=\"blanco\">Crea tu sitio</a></li>\\n<li><a href=\"/radiostationrequest/new/\">Solicitar carga de una radio nueva</a></li>\\n<li><a href=\"/list_request_radio/\">Ver listado de radios postuladas</a></li>\\n</ul>\\n<li class=\"dropdown\">\\n<a href=\"#\" class=\"dropdown-toggle\" data-toggle=\"dropdown\" role=\"button\" aria-expanded=\"false\">\\n<img src=\"https://static.radiocut.com.ar/images/blank.gif\" class=\"flag flag-ar\" alt=\"Argentina\" />\\n&nbsp;<i class=\"fa fa-caret-down\"></i>\\n</a>\\n<ul class=\"dropdown-menu\" role=\"menu\">\\n<li>\\n<a href=\"http://de.radiocut.fm\">\\n<img src=\"https://static.radiocut.com.ar/images/blank.gif\" class=\"flag flag-de\" alt=\"Alemania\" />\\nAlemania\\n</a>\\n</li>\\n<li>\\n<a href=\"http://bd.radiocut.fm\">\\n<img src=\"https://static.radiocut.com.ar/images/blank.gif\" class=\"flag flag-bd\" alt=\"Bangladesh\" />\\nBangladés\\n</a>\\n</li>\\n<li>\\n<a href=\"http://bo.radiocut.fm\">\\n<img src=\"https://static.radiocut.com.ar/images/blank.gif\" class=\"flag flag-bo\" alt=\"Bolivia\" />\\nBolivia\\n</a>\\n</li>\\n<li>\\n<a href=\"http://br.radiocut.fm\">\\n<img src=\"https://static.radiocut.com.ar/images/blank.gif\" class=\"flag flag-br\" alt=\"Brasil\" />\\nBrasil\\n</a>\\n</li>\\n<li>\\n<a href=\"http://cl.radiocut.fm\">\\n<img src=\"https://static.radiocut.com.ar/images/blank.gif\" class=\"flag flag-cl\" alt=\"Chile\" />\\nChile\\n</a>\\n</li>\\n<li>\\n<a href=\"http://co.radiocut.fm\">\\n<img src=\"https://static.radiocut.com.ar/images/blank.gif\" class=\"flag flag-co\" alt=\"Colombia\" />\\nColombia\\n</a>\\n</li>\\n<li>\\n<a href=\"http://farco.radiocut.fm\">\\n<img src=\"https://static.radiocut.com.ar/images/blank.gif\" class=\"flag flag-farco\" alt=\"Emisoras asociadas a FARCO\" />\\nEmisoras asociadas a FARCO\\n</a>\\n</li>\\n<li>\\n<a href=\"http://es.radiocut.fm\">\\n<img src=\"https://static.radiocut.com.ar/images/blank.gif\" class=\"flag flag-es\" alt=\"España\" />\\nEspaña\\n</a>\\n</li>\\n<li>\\n<a href=\"http://in.radiocut.fm\">\\n<img src=\"https://static.radiocut.com.ar/images/blank.gif\" class=\"flag flag-in\" alt=\"India\" />\\nIndia\\n</a>\\n</li>\\n<li>\\n<a href=\"http://id.radiocut.fm\">\\n<img src=\"https://static.radiocut.com.ar/images/blank.gif\" class=\"flag flag-id\" alt=\"Indonesia\" />\\nIndonesia\\n</a>\\n</li>\\n<li>\\n<a href=\"http://my.radiocut.fm\">\\n<img src=\"https://static.radiocut.com.ar/images/blank.gif\" class=\"flag flag-my\" alt=\"Malaysia\" />\\nMalasia\\n</a>\\n</li>\\n<li>\\n<a href=\"http://mx.radiocut.fm\">\\n<img src=\"https://static.radiocut.com.ar/images/blank.gif\" class=\"flag flag-mx\" alt=\"México\" />\\nMéxico\\n</a>\\n</li>\\n<li>\\n<a href=\"http://py.radiocut.fm\">\\n<img src=\"https://static.radiocut.com.ar/images/blank.gif\" class=\"flag flag-py\" alt=\"Paraguay\" />\\nParaguay\\n</a>\\n</li>\\n<li>\\n<a href=\"http://pe.radiocut.fm\">\\n<img src=\"https://static.radiocut.com.ar/images/blank.gif\" class=\"flag flag-pe\" alt=\"Perú\" />\\nPerú\\n</a>\\n</li>\\n<li>\\n<a href=\"http://ph.radiocut.fm\">\\n<img src=\"https://static.radiocut.com.ar/images/blank.gif\" class=\"flag flag-ph\" alt=\"Philippines\" />\\nFilipinas\\n</a>\\n</li>\\n<li>\\n<a href=\"http://sv.radiocut.fm\">\\n<img src=\"https://static.radiocut.com.ar/images/blank.gif\" class=\"flag flag-sv\" alt=\"Radio de El Salvador\" />\\nRadio de El Salvador\\n</a>\\n</li>\\n<li>\\n<a href=\"http://pa.radiocut.fm\">\\n<img src=\"https://static.radiocut.com.ar/images/blank.gif\" class=\"flag flag-pa\" alt=\"Radios Panamá\" />\\nRadios Panamá\\n</a>\\n</li>\\n<li>\\n<a href=\"http://uk.radiocut.fm\">\\n<img class=\"country-select-flag\" src=\"https://static.radiocut.com.ar/flags/uk.gif\" alt=\"Reino Unido\">\\nReino Unido\\n</a>\\n</li>\\n<li>\\n<a href=\"http://sg.radiocut.fm\">\\n<img src=\"https://static.radiocut.com.ar/images/blank.gif\" class=\"flag flag-sg\" alt=\"Singapore\" />\\nSingapur\\n</a>\\n</li>\\n<li>\\n<a href=\"http://tw.radiocut.fm\">\\n<img src=\"https://static.radiocut.com.ar/images/blank.gif\" class=\"flag flag-tw\" alt=\"Taiwán\" />\\nTaiwán\\n</a>\\n</li>\\n<li>\\n<a href=\"http://uy.radiocut.fm\">\\n<img src=\"https://static.radiocut.com.ar/images/blank.gif\" class=\"flag flag-uy\" alt=\"Uruguay\" />\\nUruguay\\n</a>\\n</li>\\n<li>\\n<a href=\"http://us.radiocut.fm\">\\n<img src=\"https://static.radiocut.com.ar/images/blank.gif\" class=\"flag flag-us\" alt=\"USA\" />\\nUSA\\n</a>\\n</li>\\n<li>\\n<a href=\"http://ve.radiocut.fm\">\\n<img src=\"https://static.radiocut.com.ar/images/blank.gif\" class=\"flag flag-ve\" alt=\"Venezuela\" />\\nVenezuela\\n</a>\\n</li>\\n<li>\\n<a href=\"https://radiocut.fm/all/\">\\n<i class=\"fa fa-globe\"></i>\\nRadioCut Global\\n</a>\\n</li>\\n</ul>\\n</ul>\\n<ul id=\"user_menu_items\" class=\"nav navbar-nav navbar-right\">\\n<li>\\n<a id=\"login_button\" href=\"/accounts/login-or-signup\">Ingresar</a>\\n</li>\\n</ul>\\n</div>\\n</div>\\n</nav>\\n<div class=\"container-fluid\">\\n<div class=\"row\">\\n<div class=\"col-md-12\">\\n</div>\\n<div class=\"col-md-12\">\\n<div style=\"text-align:center; clear: both; margin-top: 0px; margin-bottom: 0px;\" id=\"div-gpt-ad-top-leaderboard\" class>\\n</div>\\n</div>\\n</div>\\n<div class=\"row main_wrapper\">\\n<div id=\"contenido\" class=\"col-md-7\">\\n<h1>Resultados de búsqueda</h1>\\n<div class=\"row\">\\n<div class=\"col-sm-12\">\\n<strong>Ver </strong>\\n<span class=\"text-muted\">&nbsp;127 resultados</span>\\n</div>\\n</div>\\n<hr/>\\n<ul class=\"list-unstyled search_results\">\\n<li class=\"row\">\\n<div class=\"col-sm-2 col-xs-4\">\\n<a href=\"/audiocut/rafelle-mauriello-historiador-y-profesor-del-doctorado-literatura-persa-uinv-teheran/\">\\n<img class=\"img-thumbnail\" src=\"https://imgsvr.radiocut.site/get/crop/center/100/100/cuts_logos/75/6c/756c4ee3-4cdf-4444-925f-f6641e989e49.jpg\" alt=\"Logo de la recorte\" />\\n</a>\\n</div>\\n<div class=\"col-sm-10 col-xs-8\">\\n<div class=\"row\">\\n<div class=\"col-sm-12\">\\n<a href=\"/audiocut/rafelle-mauriello-historiador-y-profesor-del-doctorado-literatura-persa-uinv-teheran/\">Rafelle Mauriello, historiador y profesor del doctorado de Literatura Persa de la Uinv. de Teherán</a>\\n<span class=\"text-muted\">Dur: 19:32</span>\\n<i class=\"fa fa-scissors fa-rotate-270 pull-right\"></i>\\n</div>\\n</div>\\n<div class=\"row hidden-xs\">\\n<p class=\"col-sm-12 description text-left\">¿Qué impacto tuvo en Irán la muerte del líder diplomático de Hamas, Ismail Haniyeh?<br/></p>\\n</div>\\n<p>\\nhace 3 horas\\n<a href=\"/user/corresponsalesenlinea/\">por corresponsalesenlinea</a>\\n- 1 reproducciones\\n</p>\\n</div>\\n</li>\\n<hr/>\\n<li class=\"row\">\\n<div class=\"col-sm-2 col-xs-4\">\\n<a href=\"/audiocut/mundo-disperso-historias-vida-y-todo-lo-demas-programa-ndeg-14-sexta-temporada/\">\\n<img class=\"img-thumbnail\" src=\"https://imgsvr.radiocut.site/get/crop/center/100/100/shows_logos/ae/c1/aec18b80-858b-4614-be17-568689e48d95.jpg\" alt=\"Logo de la recorte\" />\\n</a>\\n</div>\\n<div class=\"col-sm-10 col-xs-8\">\\n<div class=\"row\">\\n<div class=\"col-sm-12\">\\n<a href=\"/audiocut/mundo-disperso-historias-vida-y-todo-lo-demas-programa-ndeg-14-sexta-temporada/\">Mundo Disperso. Historias de la vida y todo lo demás (Programa N° 14 - Sexta Temporada)</a>\\n<span class=\"text-muted\">Dur: 116:26</span>\\n<i class=\"fa fa-scissors fa-rotate-270 pull-right\"></i>\\n</div>\\n</div>\\n<div class=\"row hidden-xs\">\\n<p class=\"col-sm-12 description text-left\">Pedro Saborido y Daniel Miguez. Programa completo del 4 de agosto de 2024</p>\\n</div>\\n<p>\\nhace 4 horas\\n<a href=\"/user/MundoDisperso/\">por MundoDisperso</a>\\n- 15 reproducciones\\n</p>\\n</div>\\n</li>\\n<hr/>\\n<li class=\"row\">\\n<div class=\"col-sm-2 col-xs-4\">\\n<a href=\"/audiocut/ricardo-aronskind-venezuela-y-democracia-cohete-a-luna/\">\\n<img class=\"img-thumbnail\" src=\"https://imgsvr.radiocut.site/get/crop/center/100/100/cuts_logos/d7/f9/d7f95226-5380-4d5c-a388-fc8d6bdfc498.png\" alt=\"Logo de la recorte\" />\\n</a>\\n</div>\\n<div class=\"col-sm-10 col-xs-8\">\\n<div class=\"row\">\\n<div class=\"col-sm-12\">\\n<a href=\"/audiocut/ricardo-aronskind-venezuela-y-democracia-cohete-a-luna/\">Ricardo Aronskind - Venezuela y La Democracia - El Cohete a la Luna</a>\\n<span class=\"text-muted\">Dur: 41:44</span>\\n<i class=\"fa fa-scissors fa-rotate-270 pull-right\"></i>\\n</div>\\n</div>\\n<div class=\"row hidden-xs\">\\n<p class=\"col-sm-12 description text-left\">\"Venezuela y La Democracia\".<br/>Una polémica acepción de democracia.<br/>La Columna de Ricardo Aronskind del 04/08/2024 en El Cohete a la Luna.</p>\\n</div>\\n<p>\\nhace 3 horas\\n<a href=\"/user/somosradio/\">por somosradio</a>\\n- 42 reproducciones\\n</p>\\n</div>\\n</li>\\n<hr/>\\n<li class=\"row\">\\n<div class=\"col-sm-2 col-xs-4\">\\n<a href=\"/audiocut/columna-teatro-adriana-schottlender-parece-viene-bien-sabado-03-08-2024/\">\\n<img class=\"img-thumbnail\" src=\"https://imgsvr.radiocut.site/get/crop/center/100/100/cuts_logos/bd/ac/bdac8da0-c662-4b06-a2ba-9872b180ca73.jpg\" alt=\"Logo de la recorte\" />\\n</a>\\n</div>\\n<div class=\"col-sm-10 col-xs-8\">\\n<div class=\"row\">\\n<div class=\"col-sm-12\">\\n<a href=\"/audiocut/columna-teatro-adriana-schottlender-parece-viene-bien-sabado-03-08-2024/\">Columna de Teatro de Adriana Schottlender - Parece que Viene Bien sabado 03/08/2024</a>\\n<span class=\"text-muted\">Dur: 08:47</span>\\n<i class=\"fa fa-scissors fa-rotate-270 pull-right\"></i>\\n</div>\\n</div>\\n<div class=\"row hidden-xs\">\\n<p class=\"col-sm-12 description text-left\">Comentarios de los espectáculos que recomienda Adriana Schottlender en la columna de teatro del programa de Pablo Gorlero<br/>CUANDO FRANK CONOCIÓ A CARLITOS Un encuentro imaginario<br/>POSIBLEMENTE UN FRACASO<br/>QUIERO DECIR TE AMO<br/></p>\\n</div>\\n<p>\\nhace 18 horas\\n<a href=\"/user/GorleroEnRadio/\">por GorleroEnRadio</a>\\n- 6 reproducciones\\n</p>\\n</div>\\n</li>\\n<hr/>\\n<li class=\"row\">\\n<div class=\"col-sm-2 col-xs-4\">\\n<a href=\"/audiocut/andres-larroque-en-fin-metafora-6/\">\\n<img class=\"img-thumbnail\" src=\"https://imgsvr.radiocut.site/get/crop/center/100/100/cuts_logos/43/1d/431d0d77-2a75-4c5b-bada-8817e0cb3944.jpg\" alt=\"Logo de la recorte\" />\\n</a>\\n</div>\\n<div class=\"col-sm-10 col-xs-8\">\\n<div class=\"row\">\\n<div class=\"col-sm-12\">\\n<a href=\"/audiocut/andres-larroque-en-fin-metafora-6/\">Andrés Larroque en El Fin de la Metáfora</a>\\n<span class=\"text-muted\">Dur: 28:44</span>\\n<i class=\"fa fa-scissors fa-rotate-270 pull-right\"></i>\\n</div>\\n</div>\\n<div class=\"row hidden-xs\">\\n<p class=\"col-sm-12 description text-left\">El Ministro de Desarrollo de la Comunidad dialogó con Iván Schargrodsky en el programa \"El Fin de la Metáfora\" por Radio Con Vos FM 89.9.</p>\\n</div>\\n<p>\\nhace 3 horas\\n<a href=\"/user/LucianoWitt/\">por LucianoWitt</a>\\n- 24 reproducciones\\n</p>\\n</div>\\n</li>\\n<hr/>\\n<script async src=\"https://pagead2.googlesyndication.com/pagead/js/adsbygoogle.js\"></script>\\n<ins class=\"adsbygoogle\" style=\"display:block\" data-ad-format=\"fluid\" data-ad-layout-key=\"-h1+p-z-ej+ud\" data-ad-client=\"ca-pub-3630645806124191\" data-ad-slot=\"8362982357\"></ins>\\n<script>\\n(adsbygoogle = window.adsbygoogle || []).push({});\\n</script>\\n<hr/>\\n<li class=\"row\">\\n<div class=\"col-sm-2 col-xs-4\">\\n<a href=\"/audiocut/weretilneck-niega-favoritismo-en-proyecto-petronas/\">\\n<img class=\"img-thumbnail\" src=\"https://imgsvr.radiocut.site/get/crop/center/100/100/shows_logos/8a/58/8a58e268-926c-4864-b00e-c58326b63228.jpg\" alt=\"Logo de la recorte\" />\\n</a>\\n</div>\\n<div class=\"col-sm-10 col-xs-8\">\\n<div class=\"row\">\\n<div class=\"col-sm-12\">\\n<a href=\"/audiocut/weretilneck-niega-favoritismo-en-proyecto-petronas/\">Weretilneck niega favoritismo en el proyecto Petronas </a>\\n<span class=\"text-muted\">Dur: 05:21</span>\\n<i class=\"fa fa-scissors fa-rotate-270 pull-right\"></i>\\n</div>\\n</div>\\n<div class=\"row hidden-xs\">\\n<p class=\"col-sm-12 description text-left\">El gobernador de Río Negro a propósito de la construcción de la planta de GNL en la provincia. </p>\\n</div>\\n<p>\\nhace 3 horas\\n<a href=\"/user/valeria.fgl/\">por valeria.fgl</a>\\n- 4 reproducciones\\n</p>\\n</div>\\n</li>\\n<hr/>\\n<li class=\"row\">\\n<div class=\"col-sm-2 col-xs-4\">\\n<a href=\"/audiocut/pura-cepa-del-04-08-2024/\">\\n<img class=\"img-thumbnail\" src=\"https://imgsvr.radiocut.site/get/crop/center/100/100/radio_logos/elr_radio_argentina.png\" alt=\"Logo de la recorte\" />\\n</a>\\n</div>\\n<div class=\"col-sm-10 col-xs-8\">\\n<div class=\"row\">\\n<div class=\"col-sm-12\">\\n<a href=\"/audiocut/pura-cepa-del-04-08-2024/\">De pura cepa del 04/08/2024</a>\\n<span class=\"text-muted\">Dur: 03:00</span>\\n<i class=\"fa fa-scissors fa-rotate-270 pull-right\"></i>\\n</div>\\n</div>\\n<div class=\"row hidden-xs\">\\n<p class=\"col-sm-12 description text-left\">Columna sobre vinos, cervezas, cócteles y gastronomía en Casado con el campo AN570 Radio Argentina </p>\\n</div>\\n<p>\\nhace 2 horas\\n<a href=\"/user/Carlos.Joseph/\">por Carlos.Joseph</a>\\n- 3 reproducciones\\n</p>\\n</div>\\n</li>\\n<hr/>\\n<li class=\"row\">\\n<div class=\"col-sm-2 col-xs-4\">\\n<a href=\"/audiocut/entrevista-a-esteban-gori/\">\\n<img class=\"img-thumbnail\" src=\"https://imgsvr.radiocut.site/get/crop/center/100/100/cuts_logos/7c/5f/7c5f1b4f-6d58-4791-927a-1dc5449cb152.png\" alt=\"Logo de la recorte\" />\\n</a>\\n</div>\\n<div class=\"col-sm-10 col-xs-8\">\\n<div class=\"row\">\\n<div class=\"col-sm-12\">\\n<a href=\"/audiocut/entrevista-a-esteban-gori/\">Entrevista a Esteban de Gori</a>\\n<span class=\"text-muted\">Dur: 21:23</span>\\n<i class=\"fa fa-scissors fa-rotate-270 pull-right\"></i>\\n</div>\\n</div>\\n<div class=\"row hidden-xs\">\\n<p class=\"col-sm-12 description text-left\">Hablamos con Esteban de Gori, doctor en Ciencias Sociales e investigador del CONICET, sobre lo que está sucediendo con los resultados de las elecciones en Venezuela. Por FM La Patriada.</p>\\n</div>\\n<p>\\nhace 2 horas\\n<a href=\"/user/AgenciaPacoUrondoRadio/\">por AgenciaPacoUrondoRadio</a>\\n- 5 reproducciones\\n</p>\\n</div>\\n</li>\\n<hr/>\\n<li class=\"row\">\\n<div class=\"col-sm-2 col-xs-4\">\\n<a href=\"/audiocut/analisis-del-mercado-granos-al-03-08-2024/\">\\n<img class=\"img-thumbnail\" src=\"https://imgsvr.radiocut.site/get/crop/center/100/100/cuts_logos/93/cf/93cffc7d-3ba6-4362-9538-45e116c4c7f4.jpg\" alt=\"Logo de la recorte\" />\\n</a>\\n</div>\\n<div class=\"col-sm-10 col-xs-8\">\\n<div class=\"row\">\\n<div class=\"col-sm-12\">\\n<a href=\"/audiocut/analisis-del-mercado-granos-al-03-08-2024/\">Análisis del Mercado de Granos al 03/08/2024</a>\\n<span class=\"text-muted\">Dur: 12:42</span>\\n<i class=\"fa fa-scissors fa-rotate-270 pull-right\"></i>\\n</div>\\n</div>\\n<div class=\"row hidden-xs\">\\n<p class=\"col-sm-12 description text-left\">Javier Buján, Analista del Mercado de granos; analiza en su columna la semana en el mercado.</p>\\n</div>\\n<p>\\nhace 1 día, 5 horas\\n<a href=\"/user/SectorAgropecuario/\">por SectorAgropecuario</a>\\n- 4 reproducciones\\n</p>\\n</div>\\n</li>\\n<hr/>\\n<li class=\"row\">\\n<div class=\"col-sm-2 col-xs-4\">\\n<a href=\"/audiocut/reloj-arena-columna-esteban-boxler/\">\\n<img class=\"img-thumbnail\" src=\"https://imgsvr.radiocut.site/get/crop/center/100/100/shows_logos/e5/29/e529d45a-34de-476a-9cbd-84501af3b270.jpg\" alt=\"Logo de la recorte\" />\\n</a>\\n</div>\\n<div class=\"col-sm-10 col-xs-8\">\\n<div class=\"row\">\\n<div class=\"col-sm-12\">\\n<a href=\"/audiocut/reloj-arena-columna-esteban-boxler/\">Reloj de arena, la columna de Esteban Boxler</a>\\n<span class=\"text-muted\">Dur: 07:38</span>\\n<i class=\"fa fa-scissors fa-rotate-270 pull-right\"></i>\\n</div>\\n</div>\\n<div class=\"row hidden-xs\">\\n<p class=\"col-sm-12 description text-left\">Sobre las medidas de Luis Caputo <br/>\"estamos al borde del abismo\"</p>\\n</div>\\n<p>\\nhace 2 horas\\n<a href=\"/user/bastadechamuyo/\">por bastadechamuyo</a>\\n- 9 reproducciones\\n</p>\\n</div>\\n</li>\\n<hr/>\\n<li class=\"row\">\\n<div class=\"col-sm-2 col-xs-4\">\\n<a href=\"/audiocut/analisis-del-mercado-ganadero-al-03-08-2024/\">\\n<img class=\"img-thumbnail\" src=\"https://imgsvr.radiocut.site/get/crop/center/100/100/cuts_logos/c5/94/c594a64e-fbfe-4db5-8425-fa402f415059.jpg\" alt=\"Logo de la recorte\" />\\n</a>\\n</div>\\n<div class=\"col-sm-10 col-xs-8\">\\n<div class=\"row\">\\n<div class=\"col-sm-12\">\\n<a href=\"/audiocut/analisis-del-mercado-ganadero-al-03-08-2024/\">Análisis del Mercado Ganadero al 03/08/2024</a>\\n<span class=\"text-muted\">Dur: 24:57</span>\\n<i class=\"fa fa-scissors fa-rotate-270 pull-right\"></i>\\n</div>\\n</div>\\n<div class=\"row hidden-xs\">\\n<p class=\"col-sm-12 description text-left\">Mauricio Bicondoa, analiza el mercado de ganados y carnes en Sector Agropecuario.</p>\\n</div>\\n<p>\\nhace 1 día, 4 horas\\n<a href=\"/user/SectorAgropecuario/\">por SectorAgropecuario</a>\\n- 3 reproducciones\\n</p>\\n</div>\\n</li>\\n<hr/>\\n<li class=\"row\">\\n<div class=\"col-sm-2 col-xs-4\">\\n<a href=\"/audiocut/juan-navarro-churros-topo/\">\\n<img class=\"img-thumbnail\" src=\"https://imgsvr.radiocut.site/get/crop/center/100/100/shows_logos/34/ca/34cae2c0-3ec6-4a73-9e7c-2e4bda564e1b.jpg\" alt=\"Logo de la recorte\" />\\n</a>\\n</div>\\n<div class=\"col-sm-10 col-xs-8\">\\n<div class=\"row\">\\n<div class=\"col-sm-12\">\\n<a href=\"/audiocut/juan-navarro-churros-topo/\">Juan Navarro - Churros &quot;El Topo&quot; </a>\\n<span class=\"text-muted\">Dur: 15:00</span>\\n<i class=\"fa fa-scissors fa-rotate-270 pull-right\"></i>\\n</div>\\n</div>\\n<div class=\"row hidden-xs\">\\n<p class=\"col-sm-12 description text-left\">Entrevista a Juan Navarro - Churros \"El Topo:</p>\\n</div>\\n<p>\\nhace 23 horas\\n<a href=\"/user/SolV/\">por SolV</a>\\n- 3 reproducciones\\n</p>\\n</div>\\n</li>\\n<hr/>\\n<li class=\"row\">\\n<div class=\"col-sm-2 col-xs-4\">\\n<a href=\"/audiocut/pronostico-del-clima-al-03-08-2024/\">\\n<img class=\"img-thumbnail\" src=\"https://imgsvr.radiocut.site/get/crop/center/100/100/cuts_logos/75/08/7508a733-fb14-431d-a98f-dc62d2955c84.jpg\" alt=\"Logo de la recorte\" />\\n</a>\\n</div>\\n<div class=\"col-sm-10 col-xs-8\">\\n<div class=\"row\">\\n<div class=\"col-sm-12\">\\n<a href=\"/audiocut/pronostico-del-clima-al-03-08-2024/\">Pronóstico del clima al 03/08/2024</a>\\n<span class=\"text-muted\">Dur: 04:32</span>\\n<i class=\"fa fa-scissors fa-rotate-270 pull-right\"></i>\\n</div>\\n</div>\\n<div class=\"row hidden-xs\">\\n<p class=\"col-sm-12 description text-left\">Pronostico y análisis climático con Mario Navarro - Agroclimatólogo - Director del Observatorio Salsipuedes.</p>\\n</div>\\n<p>\\nhace 1 día, 4 horas\\n<a href=\"/user/SectorAgropecuario/\">por SectorAgropecuario</a>\\n- 2 reproducciones\\n</p>\\n</div>\\n</li>\\n<hr/>\\n<script async src=\"https://pagead2.googlesyndication.com/pagead/js/adsbygoogle.js\"></script>\\n<ins class=\"adsbygoogle\" style=\"display:block\" data-ad-format=\"fluid\" data-ad-layout-key=\"-h1+p-z-ej+ud\" data-ad-client=\"ca-pub-3630645806124191\" data-ad-slot=\"8362982357\"></ins>\\n<script>\\n(adsbygoogle = window.adsbygoogle || []).push({});\\n</script>\\n<hr/>\\n<li class=\"row\">\\n<div class=\"col-sm-2 col-xs-4\">\\n<a href=\"/audiocut/jose-antonio-colina-teniente-retirado-guardia-nacional-venezolana/\">\\n<img class=\"img-thumbnail\" src=\"https://imgsvr.radiocut.site/get/crop/center/100/100/cuts_logos/59/15/59151fda-574a-47c8-80c4-2eecd01f049c.jpg\" alt=\"Logo de la recorte\" />\\n</a>\\n</div>\\n<div class=\"col-sm-10 col-xs-8\">\\n<div class=\"row\">\\n<div class=\"col-sm-12\">\\n<a href=\"/audiocut/jose-antonio-colina-teniente-retirado-guardia-nacional-venezolana/\">José Antonio Colina, Teniente retirado de la Guardia Nacional Venezolana</a>\\n<span class=\"text-muted\">Dur: 25:08</span>\\n<i class=\"fa fa-scissors fa-rotate-270 pull-right\"></i>\\n</div>\\n</div>\\n<div class=\"row hidden-xs\">\\n<p class=\"col-sm-12 description text-left\">¿Por qué las fuerzas armadas siguen siendo un brazo armado del régimen que legitima el gobierno de Nicolás Maduro?</p>\\n</div>\\n<p>\\nhace 2 horas\\n<a href=\"/user/corresponsalesenlinea/\">por corresponsalesenlinea</a>\\n- 4 reproducciones\\n</p>\\n</div>\\n</li>\\n<hr/>\\n<li class=\"row\">\\n<div class=\"col-sm-2 col-xs-4\">\\n<a href=\"/audiocut/marcelo-figueras-ninitos-sabemos-hacer-cohete-a-luna/\">\\n<img class=\"img-thumbnail\" src=\"https://imgsvr.radiocut.site/get/crop/center/100/100/cuts_logos/7d/e5/7de5395f-27ec-43df-811f-3fc7a2d66ee2.png\" alt=\"Logo de la recorte\" />\\n</a>\\n</div>\\n<div class=\"col-sm-10 col-xs-8\">\\n<div class=\"row\">\\n<div class=\"col-sm-12\">\\n<a href=\"/audiocut/marcelo-figueras-ninitos-sabemos-hacer-cohete-a-luna/\">Marcelo Figueras - Los Niñitos Sabemos Qué Hacer - El Cohete a la Luna</a>\\n<span class=\"text-muted\">Dur: 24:47</span>\\n<i class=\"fa fa-scissors fa-rotate-270 pull-right\"></i>\\n</div>\\n</div>\\n<div class=\"row hidden-xs\">\\n<p class=\"col-sm-12 description text-left\">\"Los Niñitos Sabemos Qué Hacer\".<br/>Nos dejamos conducir a un rincón donde no queda otra que jugarnos a lo grande o capitular.<br/>La Columna de Marcelo Figueras del 04/08/2024 en El Cohete a la Luna.</p>\\n</div>\\n<p>\\nhace 2 horas\\n<a href=\"/user/somosradio/\">por somosradio</a>\\n- 14 reproducciones\\n</p>\\n</div>\\n</li>\\n<hr/>\\n<li class=\"row\">\\n<div class=\"col-sm-2 col-xs-4\">\\n<a href=\"/audiocut/remate-mensual-en-flores-svb-proximo-08-08-2024/\">\\n<img class=\"img-thumbnail\" src=\"https://imgsvr.radiocut.site/get/crop/center/100/100/cuts_logos/43/6a/436a8137-8605-489d-8c5f-a163b11d9161.jpg\" alt=\"Logo de la recorte\" />\\n</a>\\n</div>\\n<div class=\"col-sm-10 col-xs-8\">\\n<div class=\"row\">\\n<div class=\"col-sm-12\">\\n<a href=\"/audiocut/remate-mensual-en-flores-svb-proximo-08-08-2024/\">Remate mensual en Las Flores de SVB el próximo 08/08/2024</a>\\n<span class=\"text-muted\">Dur: 05:50</span>\\n<i class=\"fa fa-scissors fa-rotate-270 pull-right\"></i>\\n</div>\\n</div>\\n<div class=\"row hidden-xs\">\\n<p class=\"col-sm-12 description text-left\">Charlamos con Ricardo Massaro, representante de Saenz Valiente Bullrich en Las Flores (BA).</p>\\n</div>\\n<p>\\nhace 1 día, 4 horas\\n<a href=\"/user/SectorAgropecuario/\">por SectorAgropecuario</a>\\n- 7 reproducciones\\n</p>\\n</div>\\n</li>\\n<hr/>\\n<li class=\"row\">\\n<div class=\"col-sm-2 col-xs-4\">\\n<a href=\"/audiocut/entrevista-a-raul-dellatorre-4/\">\\n<img class=\"img-thumbnail\" src=\"https://imgsvr.radiocut.site/get/crop/center/100/100/cuts_logos/ba/32/ba32ee5e-fa0c-42cc-b35d-d38864606e19.png\" alt=\"Logo de la recorte\" />\\n</a>\\n</div>\\n<div class=\"col-sm-10 col-xs-8\">\\n<div class=\"row\">\\n<div class=\"col-sm-12\">\\n<a href=\"/audiocut/entrevista-a-raul-dellatorre-4/\">Entrevista a Raúl Dellatorre</a>\\n<span class=\"text-muted\">Dur: 19:18</span>\\n<i class=\"fa fa-scissors fa-rotate-270 pull-right\"></i>\\n</div>\\n</div>\\n<div class=\"row hidden-xs\">\\n<p class=\"col-sm-12 description text-left\">Hablamos con Raúl Dellatorre, economista y periodista, sobre la economía de nuestro país con la actual gestión del presidente Milei. Por FM La Patriada.</p>\\n</div>\\n<p>\\nhace 2 horas\\n<a href=\"/user/AgenciaPacoUrondoRadio/\">por AgenciaPacoUrondoRadio</a>\\n- 3 reproducciones\\n</p>\\n</div>\\n</li>\\n<hr/>\\n<li class=\"row\">\\n<div class=\"col-sm-2 col-xs-4\">\\n<a href=\"/audiocut/y-si-a-nadie-le-interesa-campo-a-quien-lo-dejo/\">\\n<img class=\"img-thumbnail\" src=\"https://imgsvr.radiocut.site/get/crop/center/100/100/cuts_logos/88/42/884230b8-3802-45e3-b1ed-ea9ec6a1f95a.jpg\" alt=\"Logo de la recorte\" />\\n</a>\\n</div>\\n<div class=\"col-sm-10 col-xs-8\">\\n<div class=\"row\">\\n<div class=\"col-sm-12\">\\n<a href=\"/audiocut/y-si-a-nadie-le-interesa-campo-a-quien-lo-dejo/\">...Y si a nadie le interesa el Campo, a quién de lo dejo?</a>\\n<span class=\"text-muted\">Dur: 12:12</span>\\n<i class=\"fa fa-scissors fa-rotate-270 pull-right\"></i>\\n</div>\\n</div>\\n<div class=\"row hidden-xs\">\\n<p class=\"col-sm-12 description text-left\">El Ing. Agr. Fernando Ravaglia, Especialista en la Organización Humana de la empresa, se refiere a un dilema que sucede en muchos casos.</p>\\n</div>\\n<p>\\nhace 1 día, 5 horas\\n<a href=\"/user/SectorAgropecuario/\">por SectorAgropecuario</a>\\n- 3 reproducciones\\n</p>\\n</div>\\n</li>\\n<hr/>\\n<li class=\"row\">\\n<div class=\"col-sm-2 col-xs-4\">\\n<a href=\"/audiocut/ivan-ivanov-experto-rusia-otan-y-prof-cs-politicas-u-cincinnati/\">\\n<img class=\"img-thumbnail\" src=\"https://imgsvr.radiocut.site/get/crop/center/100/100/shows_logos/13/a4/13a4e63f-4a12-467e-9168-45b192432e22.png\" alt=\"Logo de la recorte\" />\\n</a>\\n</div>\\n<div class=\"col-sm-10 col-xs-8\">\\n<div class=\"row\">\\n<div class=\"col-sm-12\">\\n<a href=\"/audiocut/ivan-ivanov-experto-rusia-otan-y-prof-cs-politicas-u-cincinnati/\">Iván Ivanov, experto de Rusia, de la OTAN y prof. de Cs. Políticas de la U. de Cincinnati</a>\\n<span class=\"text-muted\">Dur: 15:01</span>\\n<i class=\"fa fa-scissors fa-rotate-270 pull-right\"></i>\\n</div>\\n</div>\\n<div class=\"row hidden-xs\">\\n<p class=\"col-sm-12 description text-left\">Estados Unidos y Rusia concretaron el mayor intercambio internacional de prisioneros desde la Guerra Fría. Después de días y semanas de intensas transacciones en la mayor confidencialidad, siete aviones aterrizaron el jueves en el aeropuerto de Ankara. En total 26 pasajeros, ya sea reclamados por Rusia o por Occidente. ¿Por qué se produjo ahora este intercambio de prisioneros, donde participaron tantos países y Turquia?<br/></p>\\n</div>\\n<p>\\nhace 2 horas\\n<a href=\"/user/corresponsalesenlinea/\">por corresponsalesenlinea</a>\\n- 4 reproducciones\\n</p>\\n</div>\\n</li>\\n<hr/>\\n<li class=\"row\">\\n<div class=\"col-sm-2 col-xs-4\">\\n<a href=\"/audiocut/hernan-giardini-1/\">\\n<img class=\"img-thumbnail\" src=\"https://imgsvr.radiocut.site/get/crop/center/100/100/radio_logos/logo_1.png\" alt=\"Logo de la recorte\" />\\n</a>\\n</div>\\n<div class=\"col-sm-10 col-xs-8\">\\n<div class=\"row\">\\n<div class=\"col-sm-12\">\\n<a href=\"/audiocut/hernan-giardini-1/\">Hernán Giardini</a>\\n<span class=\"text-muted\">Dur: 07:35</span>\\n<i class=\"fa fa-scissors fa-rotate-270 pull-right\"></i>\\n</div>\\n</div>\\n<div class=\"row hidden-xs\">\\n<p class=\"col-sm-12 description text-left\">Hernán Giardini, Lic, en ciencias de la comunicación social, periodista, ecologista es el coordinador de la campaña bosques . Dialogamos sobre los desmontes en el norte de nuestro país.</p>\\n</div>\\n<p>\\nhace 2 horas\\n<a href=\"/user/AnaFlorencia/\">por AnaFlorencia</a>\\n- 2 reproducciones\\n</p>\\n</div>\\n</li>\\n<hr/>\\n<li class=\"row\">\\n<div class=\"col-sm-2 col-xs-4\">\\n<a href=\"/audiocut/horacio-verbitsky-san-pugliese-cohete-a-luna/\">\\n<img class=\"img-thumbnail\" src=\"https://imgsvr.radiocut.site/get/crop/center/100/100/cuts_logos/a6/19/a61955ab-51d5-47c7-ae6f-48dfe8ba2239.png\" alt=\"Logo de la recorte\" />\\n</a>\\n</div>\\n<div class=\"col-sm-10 col-xs-8\">\\n<div class=\"row\">\\n<div class=\"col-sm-12\">\\n<a href=\"/audiocut/horacio-verbitsky-san-pugliese-cohete-a-luna/\">Horacio Verbitsky - San Pugliese - El Cohete a la Luna</a>\\n<span class=\"text-muted\">Dur: 08:22</span>\\n<i class=\"fa fa-scissors fa-rotate-270 pull-right\"></i>\\n</div>\\n</div>\\n<div class=\"row hidden-xs\">\\n<p class=\"col-sm-12 description text-left\">\"San Pugliese\".<br/>Algunos inéditos del pianista, director de orquesta y compositor argentino de tango, Osvaldo Pedro Pugliese, fue la música que escuchó Horacio Verbitsky mientras escribía el 04/08/2024 en El Cohete a la Luna Radio.</p>\\n</div>\\n<p>\\nhace 2 horas\\n<a href=\"/user/somosradio/\">por somosradio</a>\\n- 7 reproducciones\\n</p>\\n</div>\\n</li>\\n<hr/>\\n<script async src=\"https://pagead2.googlesyndication.com/pagead/js/adsbygoogle.js\"></script>\\n<ins class=\"adsbygoogle\" style=\"display:block\" data-ad-format=\"fluid\" data-ad-layout-key=\"-h1+p-z-ej+ud\" data-ad-client=\"ca-pub-3630645806124191\" data-ad-slot=\"8362982357\"></ins>\\n<script>\\n(adsbygoogle = window.adsbygoogle || []).push({});\\n</script>\\n<hr/>\\n<li class=\"row\">\\n<div class=\"col-sm-2 col-xs-4\">\\n<a href=\"/audiocut/democracia-venezuela-y-gritan-y-reclaman-su-vigencia/\">\\n<img class=\"img-thumbnail\" src=\"https://imgsvr.radiocut.site/get/crop/center/100/100/radio_logos/9d/af/9daffd2f-b4dc-4e1e-8242-ee98a4e66ae9.jpg\" alt=\"Logo de la recorte\" />\\n</a>\\n</div>\\n<div class=\"col-sm-10 col-xs-8\">\\n<div class=\"row\">\\n<div class=\"col-sm-12\">\\n<a href=\"/audiocut/democracia-venezuela-y-gritan-y-reclaman-su-vigencia/\">La democracia, Venezuela y los que gritan y reclaman su vigencia.</a>\\n<span class=\"text-muted\">Dur: 43:00</span>\\n<i class=\"fa fa-scissors fa-rotate-270 pull-right\"></i>\\n</div>\\n</div>\\n<div class=\"row hidden-xs\">\\n<p class=\"col-sm-12 description text-left\">Análisis y contradicciones y poder bajo el fetiche de \"democracia\"</p>\\n</div>\\n<p>\\nhace 3 horas\\n<a href=\"/user/aguirre1990.maa/\">por aguirre1990.maa</a>\\n- 13 reproducciones\\n</p>\\n</div>\\n</li>\\n<hr/>\\n<li class=\"row\">\\n<div class=\"col-sm-2 col-xs-4\">\\n<a href=\"/audiocut/poco-ruido-y-muchas-nueces-3-8-2024-384/\">\\n<img class=\"img-thumbnail\" src=\"https://imgsvr.radiocut.site/get/crop/center/100/100/cuts_logos/b2/36/b2367d80-a0c8-425a-96ef-8a6dc352c697.jpg\" alt=\"Logo de la recorte\" />\\n</a>\\n</div>\\n<div class=\"col-sm-10 col-xs-8\">\\n<div class=\"row\">\\n<div class=\"col-sm-12\">\\n<a href=\"/audiocut/poco-ruido-y-muchas-nueces-3-8-2024-384/\">POCO RUIDO Y MUCHAS NUECES 3/8/2024 384</a>\\n<span class=\"text-muted\">Dur: 60:25</span>\\n<i class=\"fa fa-scissors fa-rotate-270 pull-right\"></i>\\n</div>\\n</div>\\n<div class=\"row hidden-xs\">\\n<p class=\"col-sm-12 description text-left\">POCO RUIDO Y MUCHAS NUECES Sábado 17hrs.#384 <br/>8vo Año <br/>Dos Cómodos Sillones de Entrevista<br/>⭐ SANTIAGO VARELA Dramaturgo Guionista Humorista autor de\" El Reportaje\"y muchas mas !!<br/>⭐ GABRIEL NICOLA Actor ,Psicoanalista Conversaremos sobre su trabajo en ,\"Una Puerta un Hombre y otro Hombre\"y \"Café Central\"<br/>⭐En apoyo Permanente al Teatro Independiente y La Cultura<br/>Prod.y Cond:Patricia Guillermina Rozas <a href=\"http://www.radiocaput.com\" target=\"new\">www.radiocaput.com</a></p>\\n</div>\\n<p>\\nhace 20 horas\\n<a href=\"/user/Pocoruido2020/\">por Pocoruido2020</a>\\n- 2 reproducciones\\n</p>\\n</div>\\n</li>\\n<hr/>\\n<li class=\"row\">\\n<div class=\"col-sm-2 col-xs-4\">\\n<a href=\"/audiocut/daniel-pardo-rivacoba-miembro-asamblea-barrios-impulsa-poner-un-limite-al-turismo/\">\\n<img class=\"img-thumbnail\" src=\"https://imgsvr.radiocut.site/get/crop/center/100/100/cuts_logos/16/95/1695b6b7-0842-4f85-8315-53e213eb1c9e.jpg\" alt=\"Logo de la recorte\" />\\n</a>\\n</div>\\n<div class=\"col-sm-10 col-xs-8\">\\n<div class=\"row\">\\n<div class=\"col-sm-12\">\\n<a href=\"/audiocut/daniel-pardo-rivacoba-miembro-asamblea-barrios-impulsa-poner-un-limite-al-turismo/\">Daniel Pardo Rivacoba. Miembro de la Asamblea de Barrios que impulsa poner un límite al turismo</a>\\n<span class=\"text-muted\">Dur: 09:22</span>\\n<i class=\"fa fa-scissors fa-rotate-270 pull-right\"></i>\\n</div>\\n</div>\\n<div class=\"row hidden-xs\">\\n<p class=\"col-sm-12 description text-left\">El movimiento anti turístico se expande en Europa: desde las Islas Baleares a las Canarias, desde Palma de Mallorca a Berlín. Piden a las autoridades que prohíban los ARBNB porque se quedaron sin casas para alquilar y porque no soportan el costo de vida.</p>\\n</div>\\n<p>\\nhace una hora\\n<a href=\"/user/corresponsalesenlinea/\">por corresponsalesenlinea</a>\\n- 6 reproducciones\\n</p>\\n</div>\\n</li>\\n<hr/>\\n<li class=\"row\">\\n<div class=\"col-sm-2 col-xs-4\">\\n<a href=\"/audiocut/columna-guillermo-hernandez-en-cohete-a-luna-04-08-2024/\">\\n<img class=\"img-thumbnail\" src=\"https://imgsvr.radiocut.site/get/crop/center/100/100/cuts_logos/cf/00/cf00f40a-4817-484f-82a4-eed6e499f7dd.png\" alt=\"Logo de la recorte\" />\\n</a>\\n</div>\\n<div class=\"col-sm-10 col-xs-8\">\\n<div class=\"row\">\\n<div class=\"col-sm-12\">\\n<a href=\"/audiocut/columna-guillermo-hernandez-en-cohete-a-luna-04-08-2024/\">Columna de Guillermo Hernández en El Cohete a la Luna - 04/08/2024</a>\\n<span class=\"text-muted\">Dur: 09:55</span>\\n<i class=\"fa fa-scissors fa-rotate-270 pull-right\"></i>\\n</div>\\n</div>\\n<div class=\"row hidden-xs\">\\n<p class=\"col-sm-12 description text-left\">Guillermo Hernández realiza su columna semanal de Jazz en El Cohete a la Luna Radio en esta oportunidad para seguir abordando la obra de la cantante de jazz y góspel norteamericana, Dolorez \"Lorez\" Alexandria Turner.</p>\\n</div>\\n<p>\\nhace una hora\\n<a href=\"/user/somosradio/\">por somosradio</a>\\n- 2 reproducciones\\n</p>\\n</div>\\n</li>\\n<hr/>\\n<li class=\"row\">\\n<div class=\"col-sm-2 col-xs-4\">\\n<a href=\"/audiocut/programa-completo-4-agosto-2024/\">\\n<img class=\"img-thumbnail\" src=\"https://imgsvr.radiocut.site/get/crop/center/100/100/cuts_logos/9d/73/9d7350c7-7ac6-47a3-beba-b256e292e5ca.jpg\" alt=\"Logo de la recorte\" />\\n</a>\\n</div>\\n<div class=\"col-sm-10 col-xs-8\">\\n<div class=\"row\">\\n<div class=\"col-sm-12\">\\n<a href=\"/audiocut/programa-completo-4-agosto-2024/\">Programa Completo 4 de Agosto 2024</a>\\n<span class=\"text-muted\">Dur: 117:33</span>\\n<i class=\"fa fa-scissors fa-rotate-270 pull-right\"></i>\\n</div>\\n</div>\\n<div class=\"row hidden-xs\">\\n<p class=\"col-sm-12 description text-left\">María Laura Avignolo desde París y Londres.<br/>Paula Lugones desde Washington.<br/>Danielle Raymond desde París.<br/>Silvia Pisani desde Madrid.<br/>Cristina Veiga desde San Pablo.<br/>Araceli Viceconte desde Berlín.<br/>Silvia Naishtat desde Buenos Aires.<br/>Operación Técnica: Gabriela Garrido<br/>Locución: Carina Buono<br/>Producción Ejecutiva: María Eugenia Plano<br/>Producción Técnica, Edición y Redes Sociales: Juan Martín Leonetti<br/>Producción Once Diez: Eduardo Grilli<br/>Musicalización: Noel Smart</p>\\n</div>\\n<p>\\nhace 3 horas\\n<a href=\"/user/corresponsalesenlinea/\">por corresponsalesenlinea</a>\\n- 3 reproducciones\\n</p>\\n</div>\\n</li>\\n<hr/>\\n<li class=\"row\">\\n<div class=\"col-sm-2 col-xs-4\">\\n<a href=\"/audiocut/santiago-varela-en-poco-ruido-y-muchas-nueces-3-8-2024-384/\">\\n<img class=\"img-thumbnail\" src=\"https://imgsvr.radiocut.site/get/crop/center/100/100/cuts_logos/e6/69/e669fccf-ab4c-48c6-9385-c5765da1c443.jpg\" alt=\"Logo de la recorte\" />\\n</a>\\n</div>\\n<div class=\"col-sm-10 col-xs-8\">\\n<div class=\"row\">\\n<div class=\"col-sm-12\">\\n<a href=\"/audiocut/santiago-varela-en-poco-ruido-y-muchas-nueces-3-8-2024-384/\">SANTIAGO VARELA en Poco Ruido y Muchas Nueces 3/8/2024 384</a>\\n<span class=\"text-muted\">Dur: 23:07</span>\\n<i class=\"fa fa-scissors fa-rotate-270 pull-right\"></i>\\n</div>\\n</div>\\n<div class=\"row hidden-xs\">\\n<p class=\"col-sm-12 description text-left\">Fue un verdadero lujo tener al Gran Santiago Varela en el Cómodo Sillón de las Entrevistas y poder escuchar su fascinante trayectoria en el mundo de la cultura y la escritura. Desde sus inicios y sus viajes, hasta las revistas en las que ha colaborado, pasando por los monólogos de Tato, y su Gran obra , El Reportaje, Santiago nos ofrece una visión profunda y apasionante.<br/>Escucharlo es un placer y un verdadero regalo para los amantes de la cultura y el periodismo. ¡Gracias, Santiago Varela, por compartir tu historia y tu pasión con nosotros!</p>\\n</div>\\n<p>\\nhace 20 horas\\n<a href=\"/user/Pocoruido2020/\">por Pocoruido2020</a>\\n- 3 reproducciones\\n</p>\\n</div>\\n</li>\\n<hr/>\\n<li class=\"row\">\\n<div class=\"col-sm-2 col-xs-4\">\\n<a href=\"/audiocut/capitalismo-y-escorpion-y-burro/\">\\n<img class=\"img-thumbnail\" src=\"https://imgsvr.radiocut.site/get/crop/center/100/100/radio_logos/9d/af/9daffd2f-b4dc-4e1e-8242-ee98a4e66ae9.jpg\" alt=\"Logo de la recorte\" />\\n</a>\\n</div>\\n<div class=\"col-sm-10 col-xs-8\">\\n<div class=\"row\">\\n<div class=\"col-sm-12\">\\n<a href=\"/audiocut/capitalismo-y-escorpion-y-burro/\">El capitalismo y el escorpión y el burro</a>\\n<span class=\"text-muted\">Dur: 24:29</span>\\n<i class=\"fa fa-scissors fa-rotate-270 pull-right\"></i>\\n</div>\\n</div>\\n<div class=\"row hidden-xs\">\\n<p class=\"col-sm-12 description text-left\">Resignarnos y esperar la inoculacion del veneno.</p>\\n</div>\\n<p>\\nhace 2 horas\\n<a href=\"/user/aguirre1990.maa/\">por aguirre1990.maa</a>\\n- 9 reproducciones\\n</p>\\n</div>\\n</li>\\n<hr/>\\n<li class=\"row\">\\n<div class=\"col-sm-2 col-xs-4\">\\n<a href=\"/audiocut/gabriel-nicola-en-poco-ruido-y-muchas-nueces-3-8-2024-384/\">\\n<img class=\"img-thumbnail\" src=\"https://imgsvr.radiocut.site/get/crop/center/100/100/cuts_logos/9c/71/9c71759b-f861-4016-b00f-aff6b8316162.jpg\" alt=\"Logo de la recorte\" />\\n</a>\\n</div>\\n<div class=\"col-sm-10 col-xs-8\">\\n<div class=\"row\">\\n<div class=\"col-sm-12\">\\n<a href=\"/audiocut/gabriel-nicola-en-poco-ruido-y-muchas-nueces-3-8-2024-384/\">GABRIEL NICOLA en Poco Ruido y Muchas Nueces 3/8/2024 384 </a>\\n<span class=\"text-muted\">Dur: 27:54</span>\\n<i class=\"fa fa-scissors fa-rotate-270 pull-right\"></i>\\n</div>\\n</div>\\n<div class=\"row hidden-xs\">\\n<p class=\"col-sm-12 description text-left\">En el Cómodo Sillón de las Entrevistas tuvimos el placer de recibir a Gabriel Nicola gran actor psicoanalista que en este momento está realizando dos grandiosas obras UNA PUErTA UN HOMBRE Y OTRO HOMBRE dcon Dramaturgia de DARIO BONHEUR Direccion de ADRIANA GARIBALDI y Actuacion de MIGUEL SORRENTINO y CAFE CENTRAL deMARIO DIAMENT con Dirección de DANIEL MARCOVE con un Maravilloso Elenco ambas son conmovedoras luminosas intrigantes seductoras Así que escuchalo acá y te recomiendo que lo vayas a ver en sus funciones</p>\\n</div>\\n<p>\\nhace 20 horas\\n<a href=\"/user/Pocoruido2020/\">por Pocoruido2020</a>\\n- 3 reproducciones\\n</p>\\n</div>\\n</li>\\n<hr/>\\n<script async src=\"https://pagead2.googlesyndication.com/pagead/js/adsbygoogle.js\"></script>\\n<ins class=\"adsbygoogle\" style=\"display:block\" data-ad-format=\"fluid\" data-ad-layout-key=\"-h1+p-z-ej+ud\" data-ad-client=\"ca-pub-3630645806124191\" data-ad-slot=\"8362982357\"></ins>\\n<script>\\n(adsbygoogle = window.adsbygoogle || []).push({});\\n</script>\\n<hr/>\\n<li class=\"row\">\\n<div class=\"col-sm-2 col-xs-4\">\\n<a href=\"/audiocut/alejandro-apo-9245/\">\\n<img class=\"img-thumbnail\" src=\"https://imgsvr.radiocut.site/get/crop/center/100/100/shows_logos/cd/c9/cdc933c3-4144-4a5e-8fad-bfbc1bb7eed2.png\" alt=\"Logo de la recorte\" />\\n</a>\\n</div>\\n<div class=\"col-sm-10 col-xs-8\">\\n<div class=\"row\">\\n<div class=\"col-sm-12\">\\n<a href=\"/audiocut/alejandro-apo-9245/\">Alejandro Apo</a>\\n<span class=\"text-muted\">Dur: 10:00</span>\\n<i class=\"fa fa-scissors fa-rotate-270 pull-right\"></i>\\n</div>\\n</div>\\n<div class=\"row hidden-xs\">\\n<p class=\"col-sm-12 description text-left\">Tema: cumple 50 años de radio</p>\\n</div>\\n<p>\\nhace 1 día, 20 horas\\n<a href=\"/user/RadioAM750/\">por RadioAM750</a>\\n- 3 reproducciones\\n</p>\\n</div>\\n</li>\\n<hr/>\\n</ul>\\n<div class=\"row\">\\n<div class=\"col-sm-9 col-xs-8\">\\n<ul class=\"pagination pagination-sm \">\\n<li id=\"prev_page\">\\n<a href=\"/search/?type=cut&page=3&created=1\">&laquo;</a>\\n</li>\\n<li> <a href=\"/search/?type=cut&page=1&created=1\">1</a></li>\\n<li> <a href=\"/search/?type=cut&page=2&created=1\">2</a></li>\\n<li> <a href=\"/search/?type=cut&page=3&created=1\">3</a></li>\\n<li class=\"active\"><a>4</a></li>\\n<li>\\n<a href=\"/search/?type=cut&page=5&created=1\">5</a></li>\\n<li id=\"next_page\">\\n<a href=\"/search/?type=cut&page=5&created=1\">&raquo;</a></li>\\n</ul>\\n</div>\\n<div class=\"btn-group col-sm-3 col-xs-4\">\\n<div class=\"btn-group pull-right\">\\n<a href=\"/feeds?type=cut&amp;page=4&amp;created=1\" class=\"btn btn-default fa\" target=\"_blank\" data-toggle=\"tooltip\" title=\"Suscribirse al RSS de esta búsqueda\">&#xf09e;</a>\\n<a href=\"/audiocut/embed/list/?type=cut&amp;page=4&amp;created=1\" class=\"btn btn-default fa\" data-toggle=\"modal\" data-target=\"#embed_list_dialog\"><span data-toggle=\"tooltip\" title=\"Embeber el resultado de la búsqueda\">&#xf121;</span></a>\\n</div>\\n</div>\\n</div>\\n</div >\\n<div id=\"embed_list_dialog\" class=\"modal fade\">\\n<div class=\"modal-dialog\">\\n<div class=\"modal-content\">\\n<div class=\"modal-header\">\\n<h2 class=\"modal-title\">Embeber resultado de búsqueda</h2>\\n</div>\\n<div class=\"modal-body\">\\n<h3 class=\"text-center\">Código</h3>\\n<pre>&lt;iframe width=\"100%\" height=\"420px\" scrolling=\"no\" frameborder=\"no\" src=\"//ar.radiocut.fm/audiocut/embed/list/?type=cut&amp;page=4&amp;created=1\" &gt;&lt;/iframe&gt;</pre>\\n<h3 class=\"text-center\">Vista previa</h3>\\n<div class=\"center-block preview\"></div>\\n</div>\\n<div class=\"modal-footer\">\\n<button type=\"button\" class=\"btn btn-danger fa\" data-dismiss=\"modal\">&times;&emsp;Cerrar</button>\\n</div>\\n</div>\\n</div>\\n</div>\\n<aside class=\"col-md-5\">\\n<h2>Filtro de Búsqueda</h2>\\n<ul class=\"list-unstyled col-sm-6 col-md-4\">\\n<li class=\"h3\"><strong>Tipo de resultados:</strong></li>\\n<li>\\n<a id=\"all_filter\" href=\"/search/?type=all&page=4&created=1\">Todos</a>\\n</li>\\n<li>\\n<a id=\"cut_filter\" href=\"/search/?type=cut&page=4&created=1\">Recorte</a>\\n</li>\\n<li>\\n<a id=\"radio_filter\" href=\"/search/?type=radio&page=4&created=1\">Radio</a>\\n</li>\\n<li>\\n<a id=\"show_filter\" href=\"/search/?type=show&page=4&created=1\">Programa</a>\\n</li>\\n<li>\\n<a id=\"episode_filter\" href=\"/search/?type=episode&page=4&created=1\">Episodio</a>\\n</li>\\n</ul>\\n<ul class=\"list-unstyled col-sm-6 col-md-4\">\\n<li class=\"h3\"><strong>Fecha del audio:</strong></li>\\n<li>\\n<a id=\"always_filter\" href=\"/search/?start=all&type=cut&page=4&created=1\">Todos</a>\\n</li>\\n<li>\\n<a id=\"today_filter\" href=\"/search/?start=1&type=cut&page=4&created=1\">Hoy</a>\\n</li>\\n<li>\\n<a id=\"week_filter\" href=\"/search/?start=7&type=cut&page=4&created=1\">Última semana</a>\\n</li>\\n<li>\\n<a id=\"month_filter\" href=\"/search/?start=30&type=cut&page=4&created=1\">Último mes</a>\\n</li>\\n</ul>\\n<ul class=\"list-unstyled col-sm-6 col-md-4\">\\n<li class=\"h3\"><strong>Fecha de creación:</strong></li>\\n<li>\\n<a id=\"always_filter\" href=\"/search/?type=cut&page=4&created=all\">Todos</a>\\n</li>\\n<li>\\n<a id=\"today_filter\" href=\"/search/?type=cut&page=4&created=1\">Hoy</a>\\n</li>\\n<li>\\n<a id=\"week_filter\" href=\"/search/?type=cut&page=4&created=7\">Última semana</a>\\n</li>\\n<li>\\n<a id=\"month_filter\" href=\"/search/?type=cut&page=4&created=30\">Último mes</a>\\n</li>\\n</ul>\\n<div style=\"text-align:center; clear: both; margin: 0.5em;display:inline-block\" id=\"div-gpt-ad-aside\">\\n</div>\\n<div style=\"text-align:center; clear: both; margin: 0.5em;\" id=\"div-gpt-ad-aside-two\">\\n</div>\\n</aside>\\n</div>\\n</div>\\n<footer id=\"main_footer\" class=\"container-fluid\">\\n<div class=\"row\">\\n<div class=\"col-md-12\">\\n<div style=\"text-align:center; clear: both; margin-top: 0px; margin-bottom: 0px;\" id=\"div-gpt-ad-bottom-leaderboard\">\\n</div>\\n</div>\\n</div>\\n<div class=\"row\">\\n<div class=\"col-md-12 text-center\">\\n<form id=\"lang_form\" action=\"i18n/setlang/\" method=\"post\" class=\"hidden\"><div style=\"display:none\"><input type=\"hidden\" name=\"csrfmiddlewaretoken\" value=\"sVSsBpofTzLm5S8QVTsXIfmZR7M8Ogpb\" /></div>\\n<select name=\"language\" id=\"lang_language\">\\n<option value=\"en\">English</option>\\n<option value=\"pt\">Português</option>\\n<option value=\"hi\">Hindi</option>\\n<option value=\"id\">Bahasa Indonesia</option>\\n</select>\\n</form>\\n<a href=\"#\" class=\"set-lang en\" onclick=\"setLang(\\'en\\')\">English</a> -\\n<a href=\"#\" class=\"set-lang pt\" onclick=\"setLang(\\'pt\\')\">Português</a> -\\n<a href=\"#\" class=\"set-lang hi\" onclick=\"setLang(\\'hi\\')\">Hindi</a> -\\n<a href=\"#\" class=\"set-lang id\" onclick=\"setLang(\\'id\\')\">Bahasa Indonesia</a>\\n<script type=\"text/javascript\">\\n                function setLang(lang) {\\n                  document.getElementById(\"lang_language\").value = lang;\\n                  document.getElementById(\"lang_form\").submit();\\n                  return false;\\n                }\\n              </script>\\n</div>\\n</div>\\n<div class=\"row\">\\n<div class=\"col-md-12 text-center\">\\n<span class=\"text-muted\">&#169; 2024 RadioCut Inc.</span>\\n<a href=\"https://www.linkedin.com/company/radiocut/\" target=\"_blank\">Quiénes somos</a> -\\n<a href=\"/about\">Acerca de RadioCut</a> -\\n<a href=\"//blog.radiocut.fm\" target=\"_blank\">Blog</a> -\\n<a href=\"/ayuda\">Ayuda</a> -\\n<a href=\"/faq\">Preguntas Frecuentes</a> -\\n<a href=\"/privacidad\">Privacidad</a> -\\n<a href=\"//radiocut.uservoice.com\" target=\"_blank\">Contáctanos</a> -\\n<a href=\"//twitter.com/radiocutfm\" target=\"_blank\">Seguinos en Twitter</a> -\\n<a href=\"//www.facebook.com/radiocut\" target=\"_blank\">Nuestro Facebook</a> -\\n<a href=\"/terminos\" target=\"_blank\">Términos y Condiciones</a>\\n<div class=\"hidden\">1.1.95</div>\\n</div>\\n</div>\\n</footer>\\n<script src=\"https://ajax.googleapis.com/ajax/libs/jquery/1.12.4/jquery.min.js\"></script>\\n<script src=\"https://static.radiocut.com.ar/js/app.fe494f93d5ad8a05d443c641a32e17ce56635a4b.js\" async></script>\\n<script type=\"text/javascript\">\\n  (RCStrings = window.RCStrings || {}).current_language = \\'es\\';\\n\\n  (appjsloaded_cbs = window.appjsloaded_cbs || []).push(function() {\\n    moment.locale(\\'es\\');\\n    jQuery.datetimepicker.setLocale(moment.locale());\\n  });\\n\\n  if (window.appjsloaded)\\n    window.run_app_js_callbacks();\\n</script>\\n\\n<script type=\"text/javascript\" src=\"//s7.addthis.com/js/300/addthis_widget.js#pubid=ra-4f7e1d4c59e13883\" async=\"async\"></script>\\n<script>(function(){function c(){var b=a.contentDocument||a.contentWindow.document;if(b){var d=b.createElement(\\'script\\');d.innerHTML=\"window.__CF$cv$params={r:\\'8ae0070cae66c191\\',t:\\'MTcyMjc5MDAyOC4wMDAwMDA=\\'};var a=document.createElement(\\'script\\');a.nonce=\\'\\';a.src=\\'/cdn-cgi/challenge-platform/scripts/jsd/main.js\\';document.getElementsByTagName(\\'head\\')[0].appendChild(a);\";b.getElementsByTagName(\\'head\\')[0].appendChild(d)}}if(document.body){var a=document.createElement(\\'iframe\\');a.height=1;a.width=1;a.style.position=\\'absolute\\';a.style.top=0;a.style.left=0;a.style.border=\\'none\\';a.style.visibility=\\'hidden\\';document.body.appendChild(a);if(\\'loading\\'!==document.readyState)c();else if(window.addEventListener)document.addEventListener(\\'DOMContentLoaded\\',c);else{var e=document.onreadystatechange||function(){};document.onreadystatechange=function(b){e(b);\\'loading\\'!==document.readyState&&(document.onreadystatechange=e,c())}}}})();</script></body>\\n</html>\\n']"
      ]
     },
     "execution_count": 25,
     "metadata": {},
     "output_type": "execute_result"
    }
   ],
   "source": [
    "docs"
   ]
  },
  {
   "attachments": {},
   "cell_type": "markdown",
   "metadata": {},
   "source": [
    "##### 3er paso: servirse la cucharada de sopa y separar el osobuco"
   ]
  },
  {
   "cell_type": "code",
   "execution_count": 26,
   "metadata": {},
   "outputs": [
    {
     "name": "stdout",
     "output_type": "stream",
     "text": [
      "{'title': 'Rafelle Mauriello, historiador y profesor del doctorado de Literatura Persa de la Uinv. de Teherán', 'duration': '19:32', 'description': '¿Qué impacto tuvo en Irán la muerte del líder diplomático de Hamas, Ismail Haniyeh?', 'fecha': '4 de agosto de 2024 13:49:02'}\n",
      "{'title': 'Mundo Disperso. Historias de la vida y todo lo demás (Programa N° 14 - Sexta Temporada)', 'duration': '116:26', 'description': 'Pedro Saborido y Daniel Miguez. Programa completo del 4 de agosto de 2024', 'fecha': '4 de agosto de 2024 12:49:02'}\n",
      "{'title': 'Ricardo Aronskind - Venezuela y La Democracia - El Cohete a la Luna', 'duration': '41:44', 'description': '\"Venezuela y La Democracia\".Una polémica acepción de democracia.La Columna de Ricardo Aronskind del 04/08/2024 en El Cohete a la Luna.', 'fecha': '4 de agosto de 2024 13:49:02'}\n",
      "{'title': 'Columna de Teatro de Adriana Schottlender - Parece que Viene Bien sabado 03/08/2024', 'duration': '08:47', 'description': 'Comentarios de los espectáculos que recomienda Adriana Schottlender en la columna de teatro del programa de Pablo GorleroCUANDO FRANK CONOCIÓ A CARLITOS Un encuentro imaginarioPOSIBLEMENTE UN FRACASOQUIERO DECIR TE AMO', 'fecha': '3 de agosto de 2024 22:49:02'}\n",
      "{'title': 'Andrés Larroque en El Fin de la Metáfora', 'duration': '28:44', 'description': 'El Ministro de Desarrollo de la Comunidad dialogó con Iván Schargrodsky en el programa \"El Fin de la Metáfora\" por Radio Con Vos FM 89.9.', 'fecha': '4 de agosto de 2024 13:49:02'}\n",
      "{'title': 'Weretilneck niega favoritismo en el proyecto Petronas', 'duration': '05:21', 'description': 'El gobernador de Río Negro a propósito de la construcción de la planta de GNL en la provincia.', 'fecha': '4 de agosto de 2024 13:49:02'}\n",
      "{'title': 'De pura cepa del 04/08/2024', 'duration': '03:00', 'description': 'Columna sobre vinos, cervezas, cócteles y gastronomía en Casado con el campo AN570 Radio Argentina', 'fecha': '4 de agosto de 2024 14:49:02'}\n",
      "{'title': 'Entrevista a Esteban de Gori', 'duration': '21:23', 'description': 'Hablamos con Esteban de Gori, doctor en Ciencias Sociales e investigador del CONICET, sobre lo que está sucediendo con los resultados de las elecciones en Venezuela. Por FM La Patriada.', 'fecha': '4 de agosto de 2024 14:49:02'}\n",
      "{'title': 'Análisis del Mercado de Granos al 03/08/2024', 'duration': '12:42', 'description': 'Javier Buján, Analista del Mercado de granos; analiza en su columna la semana en el mercado.', 'fecha': '3 de agosto de 2024 11:49:02'}\n",
      "{'title': 'Reloj de arena, la columna de Esteban Boxler', 'duration': '07:38', 'description': 'Sobre las medidas de Luis Caputo \"estamos al borde del abismo\"', 'fecha': '4 de agosto de 2024 14:49:02'}\n",
      "{'title': 'Análisis del Mercado Ganadero al 03/08/2024', 'duration': '24:57', 'description': 'Mauricio Bicondoa, analiza el mercado de ganados y carnes en Sector Agropecuario.', 'fecha': '3 de agosto de 2024 12:49:02'}\n",
      "{'title': 'Juan Navarro - Churros \"El Topo\"', 'duration': '15:00', 'description': 'Entrevista a Juan Navarro - Churros \"El Topo:', 'fecha': '3 de agosto de 2024 17:49:02'}\n",
      "{'title': 'Pronóstico del clima al 03/08/2024', 'duration': '04:32', 'description': 'Pronostico y análisis climático con Mario Navarro - Agroclimatólogo - Director del Observatorio Salsipuedes.', 'fecha': '3 de agosto de 2024 12:49:02'}\n",
      "{'title': 'José Antonio Colina, Teniente retirado de la Guardia Nacional Venezolana', 'duration': '25:08', 'description': '¿Por qué las fuerzas armadas siguen siendo un brazo armado del régimen que legitima el gobierno de Nicolás Maduro?', 'fecha': '4 de agosto de 2024 14:49:02'}\n",
      "{'title': 'Marcelo Figueras - Los Niñitos Sabemos Qué Hacer - El Cohete a la Luna', 'duration': '24:47', 'description': '\"Los Niñitos Sabemos Qué Hacer\".Nos dejamos conducir a un rincón donde no queda otra que jugarnos a lo grande o capitular.La Columna de Marcelo Figueras del 04/08/2024 en El Cohete a la Luna.', 'fecha': '4 de agosto de 2024 14:49:02'}\n",
      "{'title': 'Remate mensual en Las Flores de SVB el próximo 08/08/2024', 'duration': '05:50', 'description': 'Charlamos con Ricardo Massaro, representante de Saenz Valiente Bullrich en Las Flores (BA).', 'fecha': '3 de agosto de 2024 12:49:02'}\n",
      "{'title': 'Entrevista a Raúl Dellatorre', 'duration': '19:18', 'description': 'Hablamos con Raúl Dellatorre, economista y periodista, sobre la economía de nuestro país con la actual gestión del presidente Milei. Por FM La Patriada.', 'fecha': '4 de agosto de 2024 14:49:02'}\n",
      "{'title': '...Y si a nadie le interesa el Campo, a quién de lo dejo?', 'duration': '12:12', 'description': 'El Ing. Agr. Fernando Ravaglia, Especialista en la Organización Humana de la empresa, se refiere a un dilema que sucede en muchos casos.', 'fecha': '3 de agosto de 2024 11:49:02'}\n",
      "{'title': 'Iván Ivanov, experto de Rusia, de la OTAN y prof. de Cs. Políticas de la U. de Cincinnati', 'duration': '15:01', 'description': 'Estados Unidos y Rusia concretaron el mayor intercambio internacional de prisioneros desde la Guerra Fría. Después de días y semanas de intensas transacciones en la mayor confidencialidad, siete aviones aterrizaron el jueves en el aeropuerto de Ankara. En total 26 pasajeros, ya sea reclamados por Rusia o por Occidente. ¿Por qué se produjo ahora este intercambio de prisioneros, donde participaron tantos países y Turquia?', 'fecha': '4 de agosto de 2024 14:49:02'}\n",
      "{'title': 'Hernán Giardini', 'duration': '07:35', 'description': 'Hernán Giardini, Lic, en ciencias de la comunicación social, periodista, ecologista es el coordinador de la campaña bosques . Dialogamos sobre los desmontes en el norte de nuestro país.', 'fecha': '4 de agosto de 2024 14:49:02'}\n",
      "{'title': 'Horacio Verbitsky - San Pugliese - El Cohete a la Luna', 'duration': '08:22', 'description': '\"San Pugliese\".Algunos inéditos del pianista, director de orquesta y compositor argentino de tango, Osvaldo Pedro Pugliese, fue la música que escuchó Horacio Verbitsky mientras escribía el 04/08/2024 en El Cohete a la Luna Radio.', 'fecha': '4 de agosto de 2024 14:49:02'}\n",
      "{'title': 'La democracia, Venezuela y los que gritan y reclaman su vigencia.', 'duration': '43:00', 'description': 'Análisis y contradicciones y poder bajo el fetiche de \"democracia\"', 'fecha': '4 de agosto de 2024 13:49:02'}\n",
      "{'title': 'POCO RUIDO Y MUCHAS NUECES 3/8/2024 384', 'duration': '60:25', 'description': 'POCO RUIDO Y MUCHAS NUECES Sábado 17hrs.#384 8vo Año Dos Cómodos Sillones de Entrevista⭐ SANTIAGO VARELA Dramaturgo Guionista Humorista autor de\" El Reportaje\"y muchas mas !!⭐ GABRIEL NICOLA Actor ,Psicoanalista Conversaremos sobre su trabajo en ,\"Una Puerta un Hombre y otro Hombre\"y \"Café Central\"⭐En apoyo Permanente al Teatro Independiente y La CulturaProd.y Cond:Patricia Guillermina Rozas www.radiocaput.com', 'fecha': '3 de agosto de 2024 20:49:02'}\n",
      "{'title': 'Daniel Pardo Rivacoba. Miembro de la Asamblea de Barrios que impulsa poner un límite al turismo', 'duration': '09:22', 'description': 'El movimiento anti turístico se expande en Europa: desde las Islas Baleares a las Canarias, desde Palma de Mallorca a Berlín. Piden a las autoridades que prohíban los ARBNB porque se quedaron sin casas para alquilar y porque no soportan el costo de vida.', 'fecha': '4 de agosto de 2024 16:49:02'}\n",
      "{'title': 'Columna de Guillermo Hernández en El Cohete a la Luna - 04/08/2024', 'duration': '09:55', 'description': 'Guillermo Hernández realiza su columna semanal de Jazz en El Cohete a la Luna Radio en esta oportunidad para seguir abordando la obra de la cantante de jazz y góspel norteamericana, Dolorez \"Lorez\" Alexandria Turner.', 'fecha': '4 de agosto de 2024 16:49:02'}\n",
      "{'title': 'Programa Completo 4 de Agosto 2024', 'duration': '117:33', 'description': 'María Laura Avignolo desde París y Londres.Paula Lugones desde Washington.Danielle Raymond desde París.Silvia Pisani desde Madrid.Cristina Veiga desde San Pablo.Araceli Viceconte desde Berlín.Silvia Naishtat desde Buenos Aires.Operación Técnica: Gabriela GarridoLocución: Carina BuonoProducción Ejecutiva: María Eugenia PlanoProducción Técnica, Edición y Redes Sociales: Juan Martín LeonettiProducción Once Diez: Eduardo GrilliMusicalización: Noel Smart', 'fecha': '4 de agosto de 2024 13:49:02'}\n",
      "{'title': 'SANTIAGO VARELA en Poco Ruido y Muchas Nueces 3/8/2024 384', 'duration': '23:07', 'description': 'Fue un verdadero lujo tener al Gran Santiago Varela en el Cómodo Sillón de las Entrevistas y poder escuchar su fascinante trayectoria en el mundo de la cultura y la escritura. Desde sus inicios y sus viajes, hasta las revistas en las que ha colaborado, pasando por los monólogos de Tato, y su Gran obra , El Reportaje, Santiago nos ofrece una visión profunda y apasionante.Escucharlo es un placer y un verdadero regalo para los amantes de la cultura y el periodismo. ¡Gracias, Santiago Varela, por compartir tu historia y tu pasión con nosotros!', 'fecha': '3 de agosto de 2024 20:49:02'}\n",
      "{'title': 'El capitalismo y el escorpión y el burro', 'duration': '24:29', 'description': 'Resignarnos y esperar la inoculacion del veneno.', 'fecha': '4 de agosto de 2024 14:49:02'}\n",
      "{'title': 'GABRIEL NICOLA en Poco Ruido y Muchas Nueces 3/8/2024 384', 'duration': '27:54', 'description': 'En el Cómodo Sillón de las Entrevistas tuvimos el placer de recibir a Gabriel Nicola gran actor psicoanalista que en este momento está realizando dos grandiosas obras UNA PUErTA UN HOMBRE Y OTRO HOMBRE dcon Dramaturgia de DARIO BONHEUR Direccion de ADRIANA GARIBALDI y Actuacion de MIGUEL SORRENTINO y CAFE CENTRAL deMARIO DIAMENT con Dirección de DANIEL MARCOVE con un Maravilloso Elenco ambas son conmovedoras luminosas intrigantes seductoras Así que escuchalo acá y te recomiendo que lo vayas a ver en sus funciones', 'fecha': '3 de agosto de 2024 20:49:02'}\n",
      "{'title': 'Alejandro Apo', 'duration': '10:00', 'description': 'Tema: cumple 50 años de radio', 'fecha': '2 de agosto de 2024 20:49:02'}\n"
     ]
    }
   ],
   "source": [
    "from bs4 import BeautifulSoup\n",
    "import re\n",
    "from datetime import datetime, timedelta\n",
    "import pytz\n",
    "import locale\n",
    "\n",
    "# Establece la localización en español\n",
    "locale.setlocale(locale.LC_TIME, 'es_ES.UTF-8')\n",
    "\n",
    "soup = BeautifulSoup(docs[0], 'html.parser')\n",
    "\n",
    "def clean_duration(duration_text):\n",
    "    return duration_text.replace(\"Dur: \", \"\").strip()\n",
    "\n",
    "def convert_duration_to_date(duration_text):\n",
    "    pattern = re.compile(r'(\\d+)\\s*año|(\\d+)\\s*mes|(\\d+)\\s*semana|(\\d+)\\s*día|(\\d+)\\s*hora|(\\d+)\\s*minuto')\n",
    "    matches = pattern.findall(duration_text)\n",
    "    \n",
    "    years = months = weeks = days = hours = minutes = 0\n",
    "    for match in matches:\n",
    "        if match[0]: years = int(match[0])\n",
    "        if match[1]: months = int(match[1])\n",
    "        if match[2]: weeks = int(match[2])\n",
    "        if match[3]: days = int(match[3])\n",
    "        if match[4]: hours = int(match[4])\n",
    "        if match[5]: minutes = int(match[5])\n",
    "    \n",
    "    now = datetime.now(pytz.timezone('America/Argentina/Buenos_Aires'))\n",
    "    time_delta = timedelta(days=(years * 365 + months * 30 + weeks * 7 + days), hours=hours, minutes=minutes)\n",
    "    result_date = now - time_delta\n",
    "    utc_dt = result_date.astimezone(pytz.utc)\n",
    "    \n",
    "    # Formatea el día y el mes manualmente para evitar ceros a la izquierda\n",
    "    day = utc_dt.day\n",
    "    month = utc_dt.strftime('%B')\n",
    "    year = utc_dt.year\n",
    "    time_str = utc_dt.strftime('%H:%M:%S')\n",
    "    readable_date = f'{day} de {month} de {year} {time_str}'\n",
    "    \n",
    "    return readable_date\n",
    "\n",
    "data_list = []\n",
    "\n",
    "containers = soup.find_all('div', class_='col-sm-10 col-xs-8')\n",
    "\n",
    "for container in containers:\n",
    "    # Extraer el título\n",
    "    title_tag = container.find('a')\n",
    "    title = title_tag.text.strip() if title_tag else None\n",
    "\n",
    "    if title:  # Sólo sigue si hay título\n",
    "        # Extrae la duración y la emprolija\n",
    "        duration_tag = container.find('span', class_='text-muted')\n",
    "        duration = clean_duration(duration_tag.text) if duration_tag else None\n",
    "\n",
    "        # Extrae la descripción y la emprolija\n",
    "        description_tag = container.find('p', class_='col-sm-12 description text-left')\n",
    "        description = description_tag.text.strip() if description_tag else None\n",
    "\n",
    "        # Extrae la fecha de creación del contenedor actual\n",
    "        p_element = container.find_all('p')[-1]  # Asumiendo que la fecha está en el último <p> del contenedor\n",
    "        first_text = p_element.text.strip().split('\\n')[0].strip() if p_element else \"\"\n",
    "        readable_date = convert_duration_to_date(first_text)\n",
    "        \n",
    "        # Crear un diccionario para almacenar la data\n",
    "        data = {\n",
    "            \"title\": title,\n",
    "            \"duration\": duration,\n",
    "            \"description\": description,\n",
    "            \"fecha\": readable_date\n",
    "        }\n",
    "        \n",
    "        if description:\n",
    "            data_list.append(data)\n",
    "            print(data)"
   ]
  },
  {
   "attachments": {},
   "cell_type": "markdown",
   "metadata": {},
   "source": [
    "Obtengo la descripción con más caracteres como para saber"
   ]
  },
  {
   "cell_type": "code",
   "execution_count": 27,
   "metadata": {},
   "outputs": [
    {
     "name": "stdout",
     "output_type": "stream",
     "text": [
      "La descripción con longitud máxima tiene: 545 caracteres con espacios\n",
      "y es: Fue un verdadero lujo tener al Gran Santiago Varela en el Cómodo Sillón de las Entrevistas y poder escuchar su fascinante trayectoria en el mundo de la cultura y la escritura. Desde sus inicios y sus viajes, hasta las revistas en las que ha colaborado, pasando por los monólogos de Tato, y su Gran obra , El Reportaje, Santiago nos ofrece una visión profunda y apasionante.Escucharlo es un placer y un verdadero regalo para los amantes de la cultura y el periodismo. ¡Gracias, Santiago Varela, por compartir tu historia y tu pasión con nosotros!\n"
     ]
    }
   ],
   "source": [
    "def find_max_description_length(data_list):\n",
    "    max_length = 0\n",
    "    dictDescLenMax = {}\n",
    "    for item in data_list:\n",
    "        description = item.get(\"description\", \"\")\n",
    "        current_length = len(description)\n",
    "        currentMax = item\n",
    "        if current_length > max_length:\n",
    "            max_length = current_length\n",
    "            dictDescLenMax = currentMax\n",
    "    return dictDescLenMax\n",
    "\n",
    "dictDescLenMax = find_max_description_length(data_list).get(\"description\")\n",
    "max_length = len(dictDescLenMax)\n",
    "print(f\"La descripción con longitud máxima tiene: {max_length} caracteres con espacios\")\n",
    "print(f\"y es: {dictDescLenMax}\")\n"
   ]
  },
  {
   "attachments": {},
   "cell_type": "markdown",
   "metadata": {},
   "source": [
    "##### 1er paso: Unir todos los diccionarios en un solo archivo de texto. Split y chunk"
   ]
  },
  {
   "cell_type": "code",
   "execution_count": 28,
   "metadata": {},
   "outputs": [
    {
     "name": "stdout",
     "output_type": "stream",
     "text": [
      "Number of chunks: 5\n"
     ]
    }
   ],
   "source": [
    "def write_dicts_to_text_file(dict_list, file_path):\n",
    "    with open(file_path, 'w', encoding='utf-8') as file:\n",
    "        for dictionary in dict_list:\n",
    "            for key, value in dictionary.items():\n",
    "                # Escribe cada llave y valor en el archivo\n",
    "                file.write(f\"{key}: {value}\\n\")\n",
    "\n",
    "def read_file_content(file_path):\n",
    "    with open(file_path, 'r', encoding='utf-8') as file:\n",
    "        return file.read()\n",
    "\n",
    "def split_text_into_chunks(text, chunk_size):\n",
    "    return [text[i:i + chunk_size] for i in range(0, len(text), chunk_size)]\n",
    "\n",
    "file_path = 'output.txt'\n",
    "\n",
    "# Write the dictionary list to the text file\n",
    "write_dicts_to_text_file(data_list, file_path)\n",
    "\n",
    "# Read the content from the file\n",
    "file_content = read_file_content(file_path)\n",
    "\n",
    "# Define the chunk size\n",
    "chunk_size = 2048\n",
    "\n",
    "# Split the file content into chunks\n",
    "chunks = split_text_into_chunks(file_content, chunk_size)\n",
    "\n",
    "# Print the number of chunks and their contents\n",
    "print(f\"Number of chunks: {len(chunks)}\")"
   ]
  },
  {
   "attachments": {},
   "cell_type": "markdown",
   "metadata": {},
   "source": [
    "##### 2do paso: embeddings"
   ]
  },
  {
   "cell_type": "code",
   "execution_count": 29,
   "metadata": {},
   "outputs": [],
   "source": [
    "import numpy as np\n",
    "\n",
    "def get_text_embedding(input):\n",
    "    embeddings_batch_response = client.embeddings(\n",
    "          model=\"mistral-embed\",\n",
    "          input=input\n",
    "      )\n",
    "    return embeddings_batch_response.data[0].embedding\n",
    "text_embeddings = np.array([get_text_embedding(chunk) for chunk in chunks])\n"
   ]
  },
  {
   "cell_type": "code",
   "execution_count": 13,
   "metadata": {},
   "outputs": [
    {
     "data": {
      "text/plain": [
       "9"
      ]
     },
     "execution_count": 13,
     "metadata": {},
     "output_type": "execute_result"
    }
   ],
   "source": [
    "len(text_embeddings)"
   ]
  },
  {
   "attachments": {},
   "cell_type": "markdown",
   "metadata": {},
   "source": [
    "##### 3er paso: cargar en la base de datos de vectores"
   ]
  },
  {
   "attachments": {},
   "cell_type": "markdown",
   "metadata": {},
   "source": [
    "###### Para probar: https://github.com/pgvector/pgvector\n",
    "\n",
    "###### Para convertir el diccionario en un pdf: https://python.langchain.com/v0.2/docs/how_to/document_loader_pdf/\n",
    "\n",
    "###### Para usar FAISS Instalación de miniconda3 y: https://docs.conda.io/projects/conda/en/stable/user-guide/getting-started.html"
   ]
  },
  {
   "cell_type": "code",
   "execution_count": 30,
   "metadata": {},
   "outputs": [
    {
     "name": "stderr",
     "output_type": "stream",
     "text": [
      "c:\\Python311\\Lib\\site-packages\\langchain_mistralai\\embeddings.py:105: UserWarning: Could not download mistral tokenizer from Huggingface for calculating batch sizes. Set a Huggingface token via the HF_TOKEN environment variable to download the real tokenizer. Falling back to a dummy tokenizer that uses `len()`.\n",
      "  warnings.warn(\n"
     ]
    }
   ],
   "source": [
    "from langchain.document_loaders import TextLoader\n",
    "from langchain_text_splitters import CharacterTextSplitter\n",
    "from langchain_community.vectorstores import FAISS\n",
    "from langchain_mistralai import MistralAIEmbeddings\n",
    "import os\n",
    "from dotenv import load_dotenv\n",
    "\n",
    "load_dotenv()\n",
    "\n",
    "api_key = os.getenv(\"MISTRAL_API_KEY\")\n",
    "if not api_key:\n",
    "    raise ValueError(\"Error con las variables de entorno.\")\n",
    "\n",
    "os.environ['HF_TOKEN'] = os.getenv('HF_TOKEN')\n",
    "\n",
    "mistral = MistralAIEmbeddings(\n",
    "    model=\"mistral-embed\",\n",
    "    api_key=api_key\n",
    ")\n",
    "\n",
    "# Specify the correct encoding\n",
    "loader = TextLoader(\"output.txt\", encoding=\"utf-8\")\n",
    "\n",
    "documents = loader.load()\n",
    "text_splitter = CharacterTextSplitter(chunk_size=1000, chunk_overlap=100)\n",
    "texts = text_splitter.split_documents(documents)\n",
    "vectorstore = FAISS.from_documents(texts, mistral)"
   ]
  },
  {
   "attachments": {},
   "cell_type": "markdown",
   "metadata": {},
   "source": [
    "4to paso: Preguntarle al chat"
   ]
  },
  {
   "attachments": {},
   "cell_type": "markdown",
   "metadata": {},
   "source": [
    "###### Fuente: https://colab.research.google.com/github/mistralai/cookbook/blob/main/mistral/rag/basic_RAG.ipynb#scrollTo=d67a4729-cd2f-47e7-a4f6-f84a5677414f"
   ]
  },
  {
   "cell_type": "code",
   "execution_count": 31,
   "metadata": {},
   "outputs": [
    {
     "name": "stdout",
     "output_type": "stream",
     "text": [
      "La información proporcionada no menciona ninguna obra de teatro basada en Helena de Troya. Los títulos presentes en el contexto se refieren a diferentes temas como entrevistas, análisis políticos, columnas de temáticas variadas y pronósticos climáticos.\n"
     ]
    }
   ],
   "source": [
    "from langchain_mistralai.chat_models import ChatMistralAI\n",
    "from langchain_core.prompts import ChatPromptTemplate\n",
    "from langchain.chains.combine_documents import create_stuff_documents_chain\n",
    "from langchain.chains import create_retrieval_chain\n",
    "\n",
    "# Define a retriever interface\n",
    "retriever = vectorstore.as_retriever()\n",
    "# Define LLM\n",
    "model = ChatMistralAI(mistral_api_key=api_key)\n",
    "# Define prompt template\n",
    "prompt = ChatPromptTemplate.from_template(\"\"\"Responde la siguiente pregunta basándote únicamente en el contexto provisto:\n",
    "\n",
    "<context>\n",
    "{context}\n",
    "</context>\n",
    "\n",
    "Question: {input}\"\"\")\n",
    "\n",
    "# Create a retrieval chain to answer questions\n",
    "document_chain = create_stuff_documents_chain(model, prompt)\n",
    "retrieval_chain = create_retrieval_chain(retriever, document_chain)\n",
    "response = retrieval_chain.invoke({\"input\": \"¿Qué obra de teatro está basada en Helena de Troya?\"})\n",
    "print(response[\"answer\"])"
   ]
  }
 ],
 "metadata": {
  "kernelspec": {
   "display_name": "Python 3",
   "language": "python",
   "name": "python3"
  },
  "language_info": {
   "codemirror_mode": {
    "name": "ipython",
    "version": 3
   },
   "file_extension": ".py",
   "mimetype": "text/x-python",
   "name": "python",
   "nbconvert_exporter": "python",
   "pygments_lexer": "ipython3",
   "version": "3.11.4"
  },
  "orig_nbformat": 4
 },
 "nbformat": 4,
 "nbformat_minor": 2
}
